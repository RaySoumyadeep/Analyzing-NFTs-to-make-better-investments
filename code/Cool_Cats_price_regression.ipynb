{
  "cells": [
    {
      "cell_type": "markdown",
      "metadata": {
        "id": "oHJzu8-em85x"
      },
      "source": [
        "Get all needed libraries for EDA, Modeling, Hyperparameter tuning, and final calculations."
      ]
    },
    {
      "cell_type": "code",
      "execution_count": 1,
      "metadata": {
        "id": "dQuBsilYnDHr"
      },
      "outputs": [],
      "source": [
        "from google.colab import drive"
      ]
    },
    {
      "cell_type": "code",
      "execution_count": 3,
      "metadata": {
        "colab": {
          "base_uri": "https://localhost:8080/"
        },
        "id": "vlbdg-y8nLK8",
        "outputId": "ccfd89b8-eefd-4f35-bbb9-bb57e2583338"
      },
      "outputs": [
        {
          "name": "stdout",
          "output_type": "stream",
          "text": [
            "Mounted at /content/drive\n"
          ]
        }
      ],
      "source": [
        "drive.mount('/content/drive')"
      ]
    },
    {
      "cell_type": "code",
      "execution_count": 10,
      "metadata": {
        "id": "ii_nrzDgm85z"
      },
      "outputs": [],
      "source": [
        "import time\n",
        "import pandas as pd\n",
        "import numpy as np\n",
        "import seaborn as sns\n",
        "import matplotlib.pyplot as plt\n",
        "import seaborn as sns\n",
        "sns.set()\n",
        "#%matplotlib inline\n",
        "\n",
        "# Mute the setting wtih a copy warnings\n",
        "pd.options.mode.chained_assignment = None\n",
        "\n",
        "#import plotly.express as px\n",
        "import xgboost as xgb\n",
        "from sklearn.preprocessing import StandardScaler, MinMaxScaler, LabelEncoder, OneHotEncoder\n",
        "from sklearn.preprocessing import MultiLabelBinarizer\n",
        "\n",
        "from sklearn.naive_bayes import GaussianNB\n",
        "\n",
        "from sklearn.tree import DecisionTreeClassifier\n",
        "from sklearn.ensemble import RandomForestClassifier\n",
        "\n",
        "from sklearn.model_selection import train_test_split\n",
        "from sklearn.model_selection import GridSearchCV\n",
        "from sklearn.model_selection import KFold, StratifiedKFold, cross_val_score\n",
        "\n",
        "from sklearn import linear_model\n",
        "from sklearn.linear_model import LinearRegression\n",
        "from sklearn.linear_model import Ridge\n",
        "from sklearn.pipeline import make_pipeline\n",
        "\n",
        "from sklearn.metrics import mean_squared_error as mse\n",
        "from sklearn.metrics import r2_score, plot_roc_curve, roc_auc_score, accuracy_score, confusion_matrix\n",
        "\n",
        "from sklearn.utils.validation import column_or_1d\n",
        "\n",
        "import keras\n",
        "import keras.utils\n",
        "import tensorflow as tf\n",
        "tf.config.run_functions_eagerly(True)\n",
        "from keras import backend as K\n",
        "from keras.models import Sequential\n",
        "from keras.layers import Activation\n",
        "from keras.layers.core import Dense\n",
        "#from keras.optimizers import adam_v2\n",
        "#from keras.optimizers import adam\n",
        "\n",
        "from keras.wrappers.scikit_learn import KerasClassifier\n",
        "from keras.metrics import categorical_crossentropy"
      ]
    },
    {
      "cell_type": "markdown",
      "metadata": {
        "id": "DWm6Olypm850"
      },
      "source": [
        "Read in the data, creating a Pandas DataFrame object."
      ]
    },
    {
      "cell_type": "code",
      "execution_count": 11,
      "metadata": {
        "colab": {
          "base_uri": "https://localhost:8080/",
          "height": 354
        },
        "id": "dPxcNJOam850",
        "outputId": "8965fe8f-0f63-4a24-e5b1-274bbc9b3391"
      },
      "outputs": [
        {
          "data": {
            "text/plain": [
              "(8779, 13)"
            ]
          },
          "execution_count": 11,
          "metadata": {},
          "output_type": "execute_result"
        }
      ],
      "source": [
        "file_df = pd.read_csv(r'C:\\Users\\Neeraj Kankani\\OneDrive - Oklahoma A and M System\\Desktop\\PDS2\\msis-5223-deliverable-2-kidcodi\\data\\final_dataset.csv', sep=',')\n",
        "file_df.shape"
      ]
    },
    {
      "cell_type": "code",
      "execution_count": 12,
      "metadata": {},
      "outputs": [
        {
          "data": {
            "text/html": [
              "<div>\n",
              "<style scoped>\n",
              "    .dataframe tbody tr th:only-of-type {\n",
              "        vertical-align: middle;\n",
              "    }\n",
              "\n",
              "    .dataframe tbody tr th {\n",
              "        vertical-align: top;\n",
              "    }\n",
              "\n",
              "    .dataframe thead th {\n",
              "        text-align: right;\n",
              "    }\n",
              "</style>\n",
              "<table border=\"1\" class=\"dataframe\">\n",
              "  <thead>\n",
              "    <tr style=\"text-align: right;\">\n",
              "      <th></th>\n",
              "      <th>Unnamed: 0</th>\n",
              "      <th>cat_number</th>\n",
              "      <th>rank</th>\n",
              "      <th>face</th>\n",
              "      <th>face-score</th>\n",
              "      <th>shirt</th>\n",
              "      <th>shirt-score</th>\n",
              "      <th>body</th>\n",
              "      <th>tier</th>\n",
              "      <th>tier-score</th>\n",
              "      <th>hats</th>\n",
              "      <th>hats-score</th>\n",
              "      <th>Total</th>\n",
              "      <th>total</th>\n",
              "    </tr>\n",
              "  </thead>\n",
              "  <tbody>\n",
              "    <tr>\n",
              "      <th>0</th>\n",
              "      <td>0</td>\n",
              "      <td>Cool Cat #1\\nRank #3474</td>\n",
              "      <td>NaN</td>\n",
              "      <td>sunglasses blue +3.2</td>\n",
              "      <td>NaN</td>\n",
              "      <td>winter red +38.9</td>\n",
              "      <td>NaN</td>\n",
              "      <td>blue cat skin</td>\n",
              "      <td>wild_1 +1.9</td>\n",
              "      <td>NaN</td>\n",
              "      <td>hat black +61.4</td>\n",
              "      <td>NaN</td>\n",
              "      <td>NaN</td>\n",
              "      <td>105.4</td>\n",
              "    </tr>\n",
              "    <tr>\n",
              "      <th>1</th>\n",
              "      <td>1</td>\n",
              "      <td>Cool Cat #2\\nRank #1062</td>\n",
              "      <td>NaN</td>\n",
              "      <td>ninja blue +4.5</td>\n",
              "      <td>NaN</td>\n",
              "      <td>tanktop sailor red +39.7</td>\n",
              "      <td>NaN</td>\n",
              "      <td>blue cat skin</td>\n",
              "      <td>classy_1 +6.2</td>\n",
              "      <td>NaN</td>\n",
              "      <td>costume frog +148.5</td>\n",
              "      <td>NaN</td>\n",
              "      <td>NaN</td>\n",
              "      <td>198.8</td>\n",
              "    </tr>\n",
              "    <tr>\n",
              "      <th>2</th>\n",
              "      <td>2</td>\n",
              "      <td>Cool Cat #3\\nRank #9235</td>\n",
              "      <td>NaN</td>\n",
              "      <td>beard pirate +0.8</td>\n",
              "      <td>NaN</td>\n",
              "      <td>hoodie purple +6.4</td>\n",
              "      <td>NaN</td>\n",
              "      <td>blue cat skin</td>\n",
              "      <td>cool_2</td>\n",
              "      <td>NaN</td>\n",
              "      <td>mohawk purple +5.6</td>\n",
              "      <td>NaN</td>\n",
              "      <td>NaN</td>\n",
              "      <td>12.8</td>\n",
              "    </tr>\n",
              "    <tr>\n",
              "      <th>3</th>\n",
              "      <td>3</td>\n",
              "      <td>Cool Cat #4\\nRank #9413</td>\n",
              "      <td>NaN</td>\n",
              "      <td>unamused +2.0</td>\n",
              "      <td>NaN</td>\n",
              "      <td>buttondown tan +8.6</td>\n",
              "      <td>NaN</td>\n",
              "      <td>blue cat skin</td>\n",
              "      <td>cool_1 +1.2</td>\n",
              "      <td>NaN</td>\n",
              "      <td>hat white</td>\n",
              "      <td>NaN</td>\n",
              "      <td>NaN</td>\n",
              "      <td>11.8</td>\n",
              "    </tr>\n",
              "    <tr>\n",
              "      <th>4</th>\n",
              "      <td>4</td>\n",
              "      <td>Cool Cat #5\\nRank #7088</td>\n",
              "      <td>NaN</td>\n",
              "      <td>sunglasses cool +10.0</td>\n",
              "      <td>NaN</td>\n",
              "      <td>shirt white +10.6</td>\n",
              "      <td>NaN</td>\n",
              "      <td>blue cat skin</td>\n",
              "      <td>cool_1 +1.2</td>\n",
              "      <td>NaN</td>\n",
              "      <td>arrowhead +8.8</td>\n",
              "      <td>NaN</td>\n",
              "      <td>NaN</td>\n",
              "      <td>30.6</td>\n",
              "    </tr>\n",
              "  </tbody>\n",
              "</table>\n",
              "</div>"
            ],
            "text/plain": [
              "   Unnamed: 0               cat_number  rank                   face  \\\n",
              "0           0  Cool Cat #1\\nRank #3474   NaN   sunglasses blue +3.2   \n",
              "1           1  Cool Cat #2\\nRank #1062   NaN        ninja blue +4.5   \n",
              "2           2  Cool Cat #3\\nRank #9235   NaN      beard pirate +0.8   \n",
              "3           3  Cool Cat #4\\nRank #9413   NaN          unamused +2.0   \n",
              "4           4  Cool Cat #5\\nRank #7088   NaN  sunglasses cool +10.0   \n",
              "\n",
              "   face-score                     shirt  shirt-score           body  \\\n",
              "0         NaN          winter red +38.9          NaN  blue cat skin   \n",
              "1         NaN  tanktop sailor red +39.7          NaN  blue cat skin   \n",
              "2         NaN        hoodie purple +6.4          NaN  blue cat skin   \n",
              "3         NaN       buttondown tan +8.6          NaN  blue cat skin   \n",
              "4         NaN         shirt white +10.6          NaN  blue cat skin   \n",
              "\n",
              "            tier  tier-score                 hats  hats-score  Total  total  \n",
              "0    wild_1 +1.9         NaN      hat black +61.4         NaN    NaN  105.4  \n",
              "1  classy_1 +6.2         NaN  costume frog +148.5         NaN    NaN  198.8  \n",
              "2         cool_2         NaN   mohawk purple +5.6         NaN    NaN   12.8  \n",
              "3    cool_1 +1.2         NaN            hat white         NaN    NaN   11.8  \n",
              "4    cool_1 +1.2         NaN       arrowhead +8.8         NaN    NaN   30.6  "
            ]
          },
          "execution_count": 12,
          "metadata": {},
          "output_type": "execute_result"
        }
      ],
      "source": [
        "scraped_df = pd.read_csv(r'C:\\Users\\Neeraj Kankani\\OneDrive - Oklahoma A and M System\\Desktop\\PDS2\\msis-5223-deliverable-2-kidcodi\\data\\scraped.csv')\n",
        "scraped_df.head()"
      ]
    },
    {
      "cell_type": "code",
      "execution_count": 13,
      "metadata": {},
      "outputs": [
        {
          "data": {
            "text/plain": [
              "Index(['Unnamed: 0', 'number', 'price', 'currency'], dtype='object')"
            ]
          },
          "execution_count": 13,
          "metadata": {},
          "output_type": "execute_result"
        }
      ],
      "source": [
        "price_df = pd.read_csv(r'C:\\Users\\Neeraj Kankani\\OneDrive - Oklahoma A and M System\\Desktop\\PDS2\\msis-5223-deliverable-2-kidcodi\\data\\price_data.csv')\n",
        "price_df.columns"
      ]
    },
    {
      "cell_type": "code",
      "execution_count": 18,
      "metadata": {
        "id": "4tGCu70Dm851",
        "outputId": "6a922504-38f2-43c5-c3b5-3698a319005d"
      },
      "outputs": [
        {
          "data": {
            "text/html": [
              "<div>\n",
              "<style scoped>\n",
              "    .dataframe tbody tr th:only-of-type {\n",
              "        vertical-align: middle;\n",
              "    }\n",
              "\n",
              "    .dataframe tbody tr th {\n",
              "        vertical-align: top;\n",
              "    }\n",
              "\n",
              "    .dataframe thead th {\n",
              "        text-align: right;\n",
              "    }\n",
              "</style>\n",
              "<table border=\"1\" class=\"dataframe\">\n",
              "  <thead>\n",
              "    <tr style=\"text-align: right;\">\n",
              "      <th></th>\n",
              "      <th>cat_number</th>\n",
              "      <th>rank</th>\n",
              "      <th>face-score</th>\n",
              "      <th>shirt-score</th>\n",
              "      <th>tier-score</th>\n",
              "      <th>hats-score</th>\n",
              "      <th>total</th>\n",
              "      <th>price</th>\n",
              "      <th>dollar-price</th>\n",
              "    </tr>\n",
              "  </thead>\n",
              "  <tbody>\n",
              "    <tr>\n",
              "      <th>count</th>\n",
              "      <td>7292.000000</td>\n",
              "      <td>7292.000000</td>\n",
              "      <td>7292.000000</td>\n",
              "      <td>7292.000000</td>\n",
              "      <td>7292.000000</td>\n",
              "      <td>7292.000000</td>\n",
              "      <td>7292.000000</td>\n",
              "      <td>7292.000000</td>\n",
              "      <td>7292.000000</td>\n",
              "    </tr>\n",
              "    <tr>\n",
              "      <th>mean</th>\n",
              "      <td>4885.271393</td>\n",
              "      <td>5201.622189</td>\n",
              "      <td>11.067471</td>\n",
              "      <td>39.242375</td>\n",
              "      <td>5.138151</td>\n",
              "      <td>43.731733</td>\n",
              "      <td>97.632501</td>\n",
              "      <td>5.908925</td>\n",
              "      <td>17422.286639</td>\n",
              "    </tr>\n",
              "    <tr>\n",
              "      <th>std</th>\n",
              "      <td>2837.919299</td>\n",
              "      <td>2842.572357</td>\n",
              "      <td>100.383885</td>\n",
              "      <td>100.653005</td>\n",
              "      <td>7.283915</td>\n",
              "      <td>101.015499</td>\n",
              "      <td>293.187457</td>\n",
              "      <td>7.406213</td>\n",
              "      <td>21836.996633</td>\n",
              "    </tr>\n",
              "    <tr>\n",
              "      <th>min</th>\n",
              "      <td>4.000000</td>\n",
              "      <td>1.000000</td>\n",
              "      <td>0.000000</td>\n",
              "      <td>0.000000</td>\n",
              "      <td>1.200000</td>\n",
              "      <td>3.000000</td>\n",
              "      <td>0.200000</td>\n",
              "      <td>0.000100</td>\n",
              "      <td>0.294847</td>\n",
              "    </tr>\n",
              "    <tr>\n",
              "      <th>25%</th>\n",
              "      <td>2414.750000</td>\n",
              "      <td>2788.750000</td>\n",
              "      <td>3.200000</td>\n",
              "      <td>4.400000</td>\n",
              "      <td>1.900000</td>\n",
              "      <td>5.600000</td>\n",
              "      <td>20.600000</td>\n",
              "      <td>0.790000</td>\n",
              "      <td>2329.291300</td>\n",
              "    </tr>\n",
              "    <tr>\n",
              "      <th>50%</th>\n",
              "      <td>4929.500000</td>\n",
              "      <td>5359.500000</td>\n",
              "      <td>4.800000</td>\n",
              "      <td>32.500000</td>\n",
              "      <td>4.200000</td>\n",
              "      <td>36.900000</td>\n",
              "      <td>64.100000</td>\n",
              "      <td>5.250000</td>\n",
              "      <td>15479.467500</td>\n",
              "    </tr>\n",
              "    <tr>\n",
              "      <th>75%</th>\n",
              "      <td>7305.500000</td>\n",
              "      <td>7670.250000</td>\n",
              "      <td>7.300000</td>\n",
              "      <td>54.800000</td>\n",
              "      <td>5.000000</td>\n",
              "      <td>66.700000</td>\n",
              "      <td>128.300000</td>\n",
              "      <td>9.000000</td>\n",
              "      <td>26536.230000</td>\n",
              "    </tr>\n",
              "    <tr>\n",
              "      <th>max</th>\n",
              "      <td>9932.000000</td>\n",
              "      <td>9933.000000</td>\n",
              "      <td>3275.300000</td>\n",
              "      <td>3267.800000</td>\n",
              "      <td>62.400000</td>\n",
              "      <td>3273.400000</td>\n",
              "      <td>9878.800000</td>\n",
              "      <td>320.000000</td>\n",
              "      <td>943510.400000</td>\n",
              "    </tr>\n",
              "  </tbody>\n",
              "</table>\n",
              "</div>"
            ],
            "text/plain": [
              "        cat_number         rank   face-score  shirt-score   tier-score  \\\n",
              "count  7292.000000  7292.000000  7292.000000  7292.000000  7292.000000   \n",
              "mean   4885.271393  5201.622189    11.067471    39.242375     5.138151   \n",
              "std    2837.919299  2842.572357   100.383885   100.653005     7.283915   \n",
              "min       4.000000     1.000000     0.000000     0.000000     1.200000   \n",
              "25%    2414.750000  2788.750000     3.200000     4.400000     1.900000   \n",
              "50%    4929.500000  5359.500000     4.800000    32.500000     4.200000   \n",
              "75%    7305.500000  7670.250000     7.300000    54.800000     5.000000   \n",
              "max    9932.000000  9933.000000  3275.300000  3267.800000    62.400000   \n",
              "\n",
              "        hats-score        total        price   dollar-price  \n",
              "count  7292.000000  7292.000000  7292.000000    7292.000000  \n",
              "mean     43.731733    97.632501     5.908925   17422.286639  \n",
              "std     101.015499   293.187457     7.406213   21836.996633  \n",
              "min       3.000000     0.200000     0.000100       0.294847  \n",
              "25%       5.600000    20.600000     0.790000    2329.291300  \n",
              "50%      36.900000    64.100000     5.250000   15479.467500  \n",
              "75%      66.700000   128.300000     9.000000   26536.230000  \n",
              "max    3273.400000  9878.800000   320.000000  943510.400000  "
            ]
          },
          "execution_count": 18,
          "metadata": {},
          "output_type": "execute_result"
        }
      ],
      "source": [
        "merged_data = file_df.merge(price_df, how='inner', left_on='cat_number', right_on='number')\n",
        "merged_data.drop(columns=['Unnamed: 0_x', 'Unnamed: 0_y', 'number'], axis=1, inplace=True)\n",
        "merged_data['dollar-price'] = merged_data['price'] * 2948.47\n",
        "\n",
        "merged_data.describe()"
      ]
    },
    {
      "cell_type": "code",
      "execution_count": 19,
      "metadata": {},
      "outputs": [
        {
          "data": {
            "text/html": [
              "<div>\n",
              "<style scoped>\n",
              "    .dataframe tbody tr th:only-of-type {\n",
              "        vertical-align: middle;\n",
              "    }\n",
              "\n",
              "    .dataframe tbody tr th {\n",
              "        vertical-align: top;\n",
              "    }\n",
              "\n",
              "    .dataframe thead th {\n",
              "        text-align: right;\n",
              "    }\n",
              "</style>\n",
              "<table border=\"1\" class=\"dataframe\">\n",
              "  <thead>\n",
              "    <tr style=\"text-align: right;\">\n",
              "      <th></th>\n",
              "      <th>cat_number</th>\n",
              "      <th>rank</th>\n",
              "      <th>face</th>\n",
              "      <th>face-score</th>\n",
              "      <th>shirt</th>\n",
              "      <th>shirt-score</th>\n",
              "      <th>body</th>\n",
              "      <th>tier</th>\n",
              "      <th>tier-score</th>\n",
              "      <th>hats</th>\n",
              "      <th>hats-score</th>\n",
              "      <th>total</th>\n",
              "      <th>price</th>\n",
              "      <th>currency</th>\n",
              "      <th>dollar-price</th>\n",
              "    </tr>\n",
              "  </thead>\n",
              "  <tbody>\n",
              "    <tr>\n",
              "      <th>0</th>\n",
              "      <td>4</td>\n",
              "      <td>9413</td>\n",
              "      <td>unamused</td>\n",
              "      <td>2.0</td>\n",
              "      <td>buttondown tan</td>\n",
              "      <td>8.6</td>\n",
              "      <td>blue cat skin</td>\n",
              "      <td>cool_1</td>\n",
              "      <td>1.2</td>\n",
              "      <td>hat white</td>\n",
              "      <td>5.0</td>\n",
              "      <td>11.8</td>\n",
              "      <td>11.4900</td>\n",
              "      <td>ETH</td>\n",
              "      <td>33877.920300</td>\n",
              "    </tr>\n",
              "    <tr>\n",
              "      <th>1</th>\n",
              "      <td>5</td>\n",
              "      <td>7088</td>\n",
              "      <td>sunglasses cool</td>\n",
              "      <td>10.0</td>\n",
              "      <td>shirt white</td>\n",
              "      <td>10.6</td>\n",
              "      <td>blue cat skin</td>\n",
              "      <td>cool_1</td>\n",
              "      <td>1.2</td>\n",
              "      <td>arrowhead</td>\n",
              "      <td>8.8</td>\n",
              "      <td>30.6</td>\n",
              "      <td>1.5000</td>\n",
              "      <td>ETH</td>\n",
              "      <td>4422.705000</td>\n",
              "    </tr>\n",
              "    <tr>\n",
              "      <th>2</th>\n",
              "      <td>6</td>\n",
              "      <td>4700</td>\n",
              "      <td>sunglasses blue</td>\n",
              "      <td>3.2</td>\n",
              "      <td>work red</td>\n",
              "      <td>3.4</td>\n",
              "      <td>blue cat skin</td>\n",
              "      <td>cool_2</td>\n",
              "      <td>5.0</td>\n",
              "      <td>ninja red</td>\n",
              "      <td>74.0</td>\n",
              "      <td>80.5</td>\n",
              "      <td>8.6500</td>\n",
              "      <td>ETH</td>\n",
              "      <td>25504.265500</td>\n",
              "    </tr>\n",
              "    <tr>\n",
              "      <th>3</th>\n",
              "      <td>7</td>\n",
              "      <td>9498</td>\n",
              "      <td>mummy</td>\n",
              "      <td>0.7</td>\n",
              "      <td>tshirt red</td>\n",
              "      <td>5.1</td>\n",
              "      <td>blue cat skin</td>\n",
              "      <td>cool_2</td>\n",
              "      <td>5.0</td>\n",
              "      <td>flower red</td>\n",
              "      <td>5.4</td>\n",
              "      <td>11.2</td>\n",
              "      <td>6.0000</td>\n",
              "      <td>WETH</td>\n",
              "      <td>17690.820000</td>\n",
              "    </tr>\n",
              "    <tr>\n",
              "      <th>4</th>\n",
              "      <td>8</td>\n",
              "      <td>1740</td>\n",
              "      <td>hearts</td>\n",
              "      <td>4.2</td>\n",
              "      <td>epaulette white</td>\n",
              "      <td>118.3</td>\n",
              "      <td>blue cat skin</td>\n",
              "      <td>classy_1</td>\n",
              "      <td>6.2</td>\n",
              "      <td>sunhat tan</td>\n",
              "      <td>41.8</td>\n",
              "      <td>170.5</td>\n",
              "      <td>20.0000</td>\n",
              "      <td>ETH</td>\n",
              "      <td>58969.400000</td>\n",
              "    </tr>\n",
              "    <tr>\n",
              "      <th>...</th>\n",
              "      <td>...</td>\n",
              "      <td>...</td>\n",
              "      <td>...</td>\n",
              "      <td>...</td>\n",
              "      <td>...</td>\n",
              "      <td>...</td>\n",
              "      <td>...</td>\n",
              "      <td>...</td>\n",
              "      <td>...</td>\n",
              "      <td>...</td>\n",
              "      <td>...</td>\n",
              "      <td>...</td>\n",
              "      <td>...</td>\n",
              "      <td>...</td>\n",
              "      <td>...</td>\n",
              "    </tr>\n",
              "    <tr>\n",
              "      <th>7287</th>\n",
              "      <td>9924</td>\n",
              "      <td>4249</td>\n",
              "      <td>sunglasses cool</td>\n",
              "      <td>10.0</td>\n",
              "      <td>tshirt pink</td>\n",
              "      <td>3.9</td>\n",
              "      <td>blue cat skin</td>\n",
              "      <td>wild_1</td>\n",
              "      <td>1.9</td>\n",
              "      <td>bow</td>\n",
              "      <td>76.6</td>\n",
              "      <td>92.4</td>\n",
              "      <td>8.5855</td>\n",
              "      <td>WETH</td>\n",
              "      <td>25314.089185</td>\n",
              "    </tr>\n",
              "    <tr>\n",
              "      <th>7288</th>\n",
              "      <td>9925</td>\n",
              "      <td>8563</td>\n",
              "      <td>stunned</td>\n",
              "      <td>2.8</td>\n",
              "      <td>hoodie purple</td>\n",
              "      <td>6.4</td>\n",
              "      <td>blue cat skin</td>\n",
              "      <td>cool_1</td>\n",
              "      <td>1.2</td>\n",
              "      <td>mohawk purple</td>\n",
              "      <td>5.6</td>\n",
              "      <td>16.0</td>\n",
              "      <td>1.5100</td>\n",
              "      <td>WETH</td>\n",
              "      <td>4452.189700</td>\n",
              "    </tr>\n",
              "    <tr>\n",
              "      <th>7289</th>\n",
              "      <td>9927</td>\n",
              "      <td>9530</td>\n",
              "      <td>sunglasses heart</td>\n",
              "      <td>3.0</td>\n",
              "      <td>sweater orange</td>\n",
              "      <td>8.0</td>\n",
              "      <td>blue cat skin</td>\n",
              "      <td>cool_2</td>\n",
              "      <td>5.0</td>\n",
              "      <td>hat white</td>\n",
              "      <td>5.0</td>\n",
              "      <td>11.0</td>\n",
              "      <td>6.8500</td>\n",
              "      <td>ETH</td>\n",
              "      <td>20197.019500</td>\n",
              "    </tr>\n",
              "    <tr>\n",
              "      <th>7290</th>\n",
              "      <td>9928</td>\n",
              "      <td>3342</td>\n",
              "      <td>face face</td>\n",
              "      <td>9.1</td>\n",
              "      <td>tanktop sailor red</td>\n",
              "      <td>39.7</td>\n",
              "      <td>blue cat skin</td>\n",
              "      <td>wild_1</td>\n",
              "      <td>1.9</td>\n",
              "      <td>afro black</td>\n",
              "      <td>57.5</td>\n",
              "      <td>108.2</td>\n",
              "      <td>15.0010</td>\n",
              "      <td>ETH</td>\n",
              "      <td>44229.998470</td>\n",
              "    </tr>\n",
              "    <tr>\n",
              "      <th>7291</th>\n",
              "      <td>9932</td>\n",
              "      <td>9621</td>\n",
              "      <td>mononoke</td>\n",
              "      <td>4.5</td>\n",
              "      <td>buttondown green</td>\n",
              "      <td>0.2</td>\n",
              "      <td>blue cat skin</td>\n",
              "      <td>cool_2</td>\n",
              "      <td>5.0</td>\n",
              "      <td>mohawk purple</td>\n",
              "      <td>5.6</td>\n",
              "      <td>10.3</td>\n",
              "      <td>7.0500</td>\n",
              "      <td>ETH</td>\n",
              "      <td>20786.713500</td>\n",
              "    </tr>\n",
              "  </tbody>\n",
              "</table>\n",
              "<p>7292 rows × 15 columns</p>\n",
              "</div>"
            ],
            "text/plain": [
              "      cat_number  rank              face  face-score               shirt  \\\n",
              "0              4  9413          unamused         2.0      buttondown tan   \n",
              "1              5  7088   sunglasses cool        10.0         shirt white   \n",
              "2              6  4700   sunglasses blue         3.2            work red   \n",
              "3              7  9498             mummy         0.7          tshirt red   \n",
              "4              8  1740            hearts         4.2     epaulette white   \n",
              "...          ...   ...               ...         ...                 ...   \n",
              "7287        9924  4249   sunglasses cool        10.0         tshirt pink   \n",
              "7288        9925  8563           stunned         2.8       hoodie purple   \n",
              "7289        9927  9530  sunglasses heart         3.0      sweater orange   \n",
              "7290        9928  3342         face face         9.1  tanktop sailor red   \n",
              "7291        9932  9621          mononoke         4.5    buttondown green   \n",
              "\n",
              "      shirt-score           body      tier  tier-score           hats  \\\n",
              "0             8.6  blue cat skin    cool_1         1.2      hat white   \n",
              "1            10.6  blue cat skin    cool_1         1.2      arrowhead   \n",
              "2             3.4  blue cat skin    cool_2         5.0      ninja red   \n",
              "3             5.1  blue cat skin    cool_2         5.0     flower red   \n",
              "4           118.3  blue cat skin  classy_1         6.2     sunhat tan   \n",
              "...           ...            ...       ...         ...            ...   \n",
              "7287          3.9  blue cat skin    wild_1         1.9            bow   \n",
              "7288          6.4  blue cat skin    cool_1         1.2  mohawk purple   \n",
              "7289          8.0  blue cat skin    cool_2         5.0      hat white   \n",
              "7290         39.7  blue cat skin    wild_1         1.9     afro black   \n",
              "7291          0.2  blue cat skin    cool_2         5.0  mohawk purple   \n",
              "\n",
              "      hats-score  total    price currency  dollar-price  \n",
              "0            5.0   11.8  11.4900      ETH  33877.920300  \n",
              "1            8.8   30.6   1.5000      ETH   4422.705000  \n",
              "2           74.0   80.5   8.6500      ETH  25504.265500  \n",
              "3            5.4   11.2   6.0000     WETH  17690.820000  \n",
              "4           41.8  170.5  20.0000      ETH  58969.400000  \n",
              "...          ...    ...      ...      ...           ...  \n",
              "7287        76.6   92.4   8.5855     WETH  25314.089185  \n",
              "7288         5.6   16.0   1.5100     WETH   4452.189700  \n",
              "7289         5.0   11.0   6.8500      ETH  20197.019500  \n",
              "7290        57.5  108.2  15.0010      ETH  44229.998470  \n",
              "7291         5.6   10.3   7.0500      ETH  20786.713500  \n",
              "\n",
              "[7292 rows x 15 columns]"
            ]
          },
          "execution_count": 19,
          "metadata": {},
          "output_type": "execute_result"
        }
      ],
      "source": [
        "merged_data"
      ]
    },
    {
      "cell_type": "code",
      "execution_count": 17,
      "metadata": {},
      "outputs": [],
      "source": [
        "merged_data.to_csv(r'C:\\Users\\Neeraj Kankani\\OneDrive - Oklahoma A and M System\\Desktop\\PDS2\\msis-5223-deliverable-2-kidcodi\\data\\merged_data.csv', header=True)"
      ]
    },
    {
      "cell_type": "markdown",
      "metadata": {
        "id": "eAg9GVkrm851"
      },
      "source": [
        "Exploratory Data Analysis\n",
        "\n",
        "Look for duplicate entries, if we find any drop them and reset the index of our data frame"
      ]
    },
    {
      "cell_type": "code",
      "execution_count": null,
      "metadata": {
        "id": "Symmu0nTm852",
        "outputId": "1f0476b5-3a49-482d-e54c-50161153a155"
      },
      "outputs": [
        {
          "data": {
            "text/plain": [
              "Index(['Unnamed: 0', 'cat_number', 'rank', 'face', 'face-score', 'shirt',\n",
              "       'shirt-score', 'body', 'tier', 'tier-score', 'hats', 'hats-score',\n",
              "       'total'],\n",
              "      dtype='object')"
            ]
          },
          "execution_count": 4,
          "metadata": {},
          "output_type": "execute_result"
        }
      ],
      "source": [
        "sum(file_df.duplicated())\n",
        "file_df.columns"
      ]
    },
    {
      "cell_type": "code",
      "execution_count": 7,
      "metadata": {
        "colab": {
          "base_uri": "https://localhost:8080/"
        },
        "id": "hCOJQLcEm852",
        "outputId": "851a8adb-7c00-4e33-c008-12aac92d9631"
      },
      "outputs": [
        {
          "name": "stderr",
          "output_type": "stream",
          "text": [
            "/usr/local/lib/python3.7/dist-packages/ipykernel_launcher.py:1: FutureWarning: In a future version of pandas all arguments of DataFrame.drop except for the argument 'labels' will be keyword-only\n",
            "  \"\"\"Entry point for launching an IPython kernel.\n"
          ]
        }
      ],
      "source": [
        "file_df = file_df.drop('Unnamed: 0', 1)\n",
        "file_df = file_df.reset_index(drop=True)"
      ]
    },
    {
      "cell_type": "markdown",
      "metadata": {
        "id": "J3AoLpKem852"
      },
      "source": [
        "Looking for null values and outliers"
      ]
    },
    {
      "cell_type": "code",
      "execution_count": 8,
      "metadata": {
        "colab": {
          "base_uri": "https://localhost:8080/"
        },
        "id": "AehHXBimm853",
        "outputId": "9e0cc737-4307-495e-eff8-184ba3b91668"
      },
      "outputs": [
        {
          "data": {
            "text/plain": [
              "cat_number     0\n",
              "rank           0\n",
              "face           0\n",
              "face-score     0\n",
              "shirt          0\n",
              "shirt-score    0\n",
              "body           0\n",
              "tier           0\n",
              "tier-score     0\n",
              "hats           0\n",
              "hats-score     0\n",
              "total          0\n",
              "dtype: int64"
            ]
          },
          "execution_count": 8,
          "metadata": {},
          "output_type": "execute_result"
        }
      ],
      "source": [
        "file_df.isnull().sum()"
      ]
    },
    {
      "cell_type": "code",
      "execution_count": null,
      "metadata": {
        "id": "FwK5oKGym853",
        "outputId": "a368b18a-ccec-4f31-8d3d-df9a7874a4b8"
      },
      "outputs": [
        {
          "data": {
            "text/html": [
              "<div>\n",
              "<style scoped>\n",
              "    .dataframe tbody tr th:only-of-type {\n",
              "        vertical-align: middle;\n",
              "    }\n",
              "\n",
              "    .dataframe tbody tr th {\n",
              "        vertical-align: top;\n",
              "    }\n",
              "\n",
              "    .dataframe thead th {\n",
              "        text-align: right;\n",
              "    }\n",
              "</style>\n",
              "<table border=\"1\" class=\"dataframe\">\n",
              "  <thead>\n",
              "    <tr style=\"text-align: right;\">\n",
              "      <th></th>\n",
              "      <th>cat_number</th>\n",
              "      <th>rank</th>\n",
              "      <th>face-score</th>\n",
              "      <th>shirt-score</th>\n",
              "      <th>tier-score</th>\n",
              "      <th>hats-score</th>\n",
              "      <th>total</th>\n",
              "    </tr>\n",
              "  </thead>\n",
              "  <tbody>\n",
              "    <tr>\n",
              "      <th>count</th>\n",
              "      <td>8779.000000</td>\n",
              "      <td>8779.000000</td>\n",
              "      <td>8779.000000</td>\n",
              "      <td>8779.000000</td>\n",
              "      <td>8779.000000</td>\n",
              "      <td>8779.000000</td>\n",
              "      <td>8779.000000</td>\n",
              "    </tr>\n",
              "    <tr>\n",
              "      <th>mean</th>\n",
              "      <td>4827.984622</td>\n",
              "      <td>4961.916733</td>\n",
              "      <td>11.842567</td>\n",
              "      <td>43.018259</td>\n",
              "      <td>5.472901</td>\n",
              "      <td>46.951931</td>\n",
              "      <td>105.840369</td>\n",
              "    </tr>\n",
              "    <tr>\n",
              "      <th>std</th>\n",
              "      <td>2823.009065</td>\n",
              "      <td>2867.592038</td>\n",
              "      <td>110.854839</td>\n",
              "      <td>111.025395</td>\n",
              "      <td>7.849456</td>\n",
              "      <td>111.221122</td>\n",
              "      <td>324.952094</td>\n",
              "    </tr>\n",
              "    <tr>\n",
              "      <th>min</th>\n",
              "      <td>1.000000</td>\n",
              "      <td>1.000000</td>\n",
              "      <td>0.000000</td>\n",
              "      <td>0.000000</td>\n",
              "      <td>1.200000</td>\n",
              "      <td>3.000000</td>\n",
              "      <td>0.200000</td>\n",
              "    </tr>\n",
              "    <tr>\n",
              "      <th>25%</th>\n",
              "      <td>2376.500000</td>\n",
              "      <td>2473.500000</td>\n",
              "      <td>3.200000</td>\n",
              "      <td>4.400000</td>\n",
              "      <td>1.900000</td>\n",
              "      <td>5.600000</td>\n",
              "      <td>22.300000</td>\n",
              "    </tr>\n",
              "    <tr>\n",
              "      <th>50%</th>\n",
              "      <td>4843.000000</td>\n",
              "      <td>4972.000000</td>\n",
              "      <td>4.800000</td>\n",
              "      <td>34.900000</td>\n",
              "      <td>5.000000</td>\n",
              "      <td>44.500000</td>\n",
              "      <td>70.200000</td>\n",
              "    </tr>\n",
              "    <tr>\n",
              "      <th>75%</th>\n",
              "      <td>7202.500000</td>\n",
              "      <td>7437.500000</td>\n",
              "      <td>7.300000</td>\n",
              "      <td>68.400000</td>\n",
              "      <td>5.000000</td>\n",
              "      <td>71.500000</td>\n",
              "      <td>139.700000</td>\n",
              "    </tr>\n",
              "    <tr>\n",
              "      <th>max</th>\n",
              "      <td>9932.000000</td>\n",
              "      <td>9933.000000</td>\n",
              "      <td>3275.300000</td>\n",
              "      <td>3267.800000</td>\n",
              "      <td>62.400000</td>\n",
              "      <td>3273.400000</td>\n",
              "      <td>9878.800000</td>\n",
              "    </tr>\n",
              "  </tbody>\n",
              "</table>\n",
              "</div>"
            ],
            "text/plain": [
              "        cat_number         rank   face-score  shirt-score   tier-score  \\\n",
              "count  8779.000000  8779.000000  8779.000000  8779.000000  8779.000000   \n",
              "mean   4827.984622  4961.916733    11.842567    43.018259     5.472901   \n",
              "std    2823.009065  2867.592038   110.854839   111.025395     7.849456   \n",
              "min       1.000000     1.000000     0.000000     0.000000     1.200000   \n",
              "25%    2376.500000  2473.500000     3.200000     4.400000     1.900000   \n",
              "50%    4843.000000  4972.000000     4.800000    34.900000     5.000000   \n",
              "75%    7202.500000  7437.500000     7.300000    68.400000     5.000000   \n",
              "max    9932.000000  9933.000000  3275.300000  3267.800000    62.400000   \n",
              "\n",
              "        hats-score        total  \n",
              "count  8779.000000  8779.000000  \n",
              "mean     46.951931   105.840369  \n",
              "std     111.221122   324.952094  \n",
              "min       3.000000     0.200000  \n",
              "25%       5.600000    22.300000  \n",
              "50%      44.500000    70.200000  \n",
              "75%      71.500000   139.700000  \n",
              "max    3273.400000  9878.800000  "
            ]
          },
          "execution_count": 7,
          "metadata": {},
          "output_type": "execute_result"
        }
      ],
      "source": [
        "file_df.describe()"
      ]
    },
    {
      "cell_type": "markdown",
      "metadata": {
        "id": "DuDg_6Kam854"
      },
      "source": [
        "We see that the variation of scores for the characteristics (face, shirt, tier, hats) is large. The top ranked cool cats have the largest scores. "
      ]
    },
    {
      "cell_type": "code",
      "execution_count": null,
      "metadata": {
        "id": "TYBlPqpcm854",
        "outputId": "e8ede241-b38c-4ac8-9f0f-615a114a45a2"
      },
      "outputs": [
        {
          "name": "stdout",
          "output_type": "stream",
          "text": [
            "<class 'pandas.core.frame.DataFrame'>\n",
            "RangeIndex: 8779 entries, 0 to 8778\n",
            "Data columns (total 12 columns):\n",
            " #   Column       Non-Null Count  Dtype  \n",
            "---  ------       --------------  -----  \n",
            " 0   cat_number   8779 non-null   int64  \n",
            " 1   rank         8779 non-null   int64  \n",
            " 2   face         8779 non-null   object \n",
            " 3   face-score   8779 non-null   float64\n",
            " 4   shirt        8779 non-null   object \n",
            " 5   shirt-score  8779 non-null   float64\n",
            " 6   body         8779 non-null   object \n",
            " 7   tier         8779 non-null   object \n",
            " 8   tier-score   8779 non-null   float64\n",
            " 9   hats         8779 non-null   object \n",
            " 10  hats-score   8779 non-null   float64\n",
            " 11  total        8779 non-null   float64\n",
            "dtypes: float64(5), int64(2), object(5)\n",
            "memory usage: 823.2+ KB\n"
          ]
        }
      ],
      "source": [
        "file_df.info()"
      ]
    },
    {
      "cell_type": "markdown",
      "metadata": {
        "id": "0p-GjQb9m854"
      },
      "source": [
        "Data Visualization\n",
        "\n",
        "We'll have a look at the distribution of the overall score here."
      ]
    },
    {
      "cell_type": "code",
      "execution_count": null,
      "metadata": {
        "id": "1PoGK34rm855",
        "outputId": "b623f9af-0c53-47a8-e6a7-3d827a905e53"
      },
      "outputs": [
        {
          "data": {
            "image/png": "[encoded data removed]",
            "text/plain": [
              "<Figure size 1440x720 with 4 Axes>"
            ]
          },
          "metadata": {},
          "output_type": "display_data"
        }
      ],
      "source": [
        "# Plotting the KDE Plot\n",
        "fig, ((ax1, ax2), (ax3, ax4)) = plt.subplots(2,2,figsize=(20,10))\n",
        "sns.kdeplot(file_df['face-score'], color='blue', shade=True, ax =ax1)\n",
        "ax1.set_title(\"Face Score Distribution\",font=\"Serif\")\n",
        "ax1.axvline(file_df['face-score'].mean(), color='r',linestyle=':', linewidth=2)\n",
        "ax1.annotate('mean', xy=(0,0.003), xytext=(1000, 0.0075), font='Serif',\n",
        "            arrowprops = dict(facecolor ='green',\n",
        "                               shrink = 0.05));                               \n",
        "\n",
        "sns.kdeplot(file_df['shirt-score'], color='yellow', shade=True, ax =ax2)\n",
        "ax2.set_title(\"Shirt Score Distribution\",font=\"Serif\")\n",
        "ax2.axvline(file_df['shirt-score'].mean(), color='r',linestyle=':', linewidth=2)\n",
        "ax2.annotate('mean', xy=(50,0.003), xytext=(1000, 0.006), font='Serif',\n",
        "            arrowprops = dict(facecolor ='green',\n",
        "                               shrink = 0.05));\n",
        "\n",
        "sns.kdeplot(file_df['tier-score'], color='red', shade=True, ax =ax3)\n",
        "ax3.set_title(\"Tier Score Distribution\",font=\"Serif\")\n",
        "ax3.axvline(file_df['tier-score'].mean(), color='r',linestyle=':', linewidth=2)\n",
        "ax3.annotate('mean', xy=(6,0.04), xytext=(20, 0.06), font='Serif',\n",
        "            arrowprops = dict(facecolor ='green',\n",
        "                               shrink = 0.05));\n",
        "\n",
        "sns.kdeplot(file_df['hats-score'], color='purple', shade=True, ax =ax4)\n",
        "ax4.set_title(\"Hats Score Distribution\",font=\"Serif\")\n",
        "ax4.axvline(file_df['hats-score'].mean(), color='r',linestyle=':', linewidth=2)\n",
        "ax4.annotate('mean', xy=(60,0.003), xytext=(1000, 0.0025), font='Serif',\n",
        "            arrowprops = dict(facecolor ='green',\n",
        "                               shrink = 0.05));\n",
        "# Setting the X and Y Label\n",
        "plt.xlabel('Total Score')\n",
        "plt.ylabel('Probability Density')\n",
        "plt.show()"
      ]
    },
    {
      "cell_type": "code",
      "execution_count": null,
      "metadata": {
        "id": "rPPzGnatm855"
      },
      "outputs": [],
      "source": [
        "def get_top_n_categories(column, n):\n",
        "    score_dict ={}\n",
        "    score_column = column + '-score'\n",
        "    properties = pd.Series(file_df[column]).unique()\n",
        "    for property in properties:\n",
        "        score = file_df.loc[file_df[column]==property, score_column].unique()\n",
        "        score_dict[property] = score[0]\n",
        "    score_dict =sorted(score_dict.items(), key = lambda x: x[1], reverse=True)\n",
        "    return score_dict[:n]"
      ]
    },
    {
      "cell_type": "code",
      "execution_count": null,
      "metadata": {
        "id": "bTyb510xm855",
        "outputId": "3d8f5c03-453b-4756-bb29-b422896f6144"
      },
      "outputs": [
        {
          "data": {
            "text/plain": [
              "[('exotic_2', 62.4),\n",
              " ('exotic_1', 16.0),\n",
              " ('classy_2', 9.4),\n",
              " ('classy_1', 6.2),\n",
              " ('cool_2', 5.0),\n",
              " ('wild_2', 4.2),\n",
              " ('wild_1', 1.9),\n",
              " ('cool_1', 1.2)]"
            ]
          },
          "execution_count": 44,
          "metadata": {},
          "output_type": "execute_result"
        }
      ],
      "source": [
        "get_top_n_categories('tier',20)"
      ]
    },
    {
      "cell_type": "code",
      "execution_count": null,
      "metadata": {
        "id": "ooPuAUrtm855",
        "outputId": "972ec071-490e-4c16-e7a4-70812615b4fd"
      },
      "outputs": [
        {
          "data": {
            "image/png": "[encoded data removed]",
            "text/plain": [
              "<Figure size 1152x576 with 1 Axes>"
            ]
          },
          "metadata": {},
          "output_type": "display_data"
        }
      ],
      "source": [
        "top_face_properties =  get_top_n_categories('face',15)\n",
        "top_face_properties_df = pd.DataFrame(top_face_properties,columns=['property','score'])\n",
        "plt.figure(figsize=(16, 8))\n",
        "ax = sns.barplot(x='score', y='property', data=top_face_properties_df,facecolor=(0, 0, 0, 0),linewidth=3,edgecolor=sns.color_palette(\"ch:start=3, rot=.1\",20))\n",
        "plt.title(\"Top 15 face properties\",font='Serif')\n",
        "plt.xlabel(\"Score\", fontsize=14)\n",
        "plt.yticks(fontsize=13)\n",
        "plt.xticks(rotation=45, fontsize=13)\n",
        "plt.ylabel(\"\");\n",
        "plt.show()"
      ]
    },
    {
      "cell_type": "code",
      "execution_count": null,
      "metadata": {
        "id": "N7o7_BXqm856",
        "outputId": "c9291266-f056-4874-801e-fcc900e1b615"
      },
      "outputs": [
        {
          "data": {
            "image/png": "[encoded data removed]",
            "text/plain": [
              "<Figure size 1152x576 with 1 Axes>"
            ]
          },
          "metadata": {},
          "output_type": "display_data"
        }
      ],
      "source": [
        "top_shirt_properties =  get_top_n_categories('shirt',15)\n",
        "top_shirt_properties_df = pd.DataFrame(top_shirt_properties,columns=['property','score'])\n",
        "plt.figure(figsize=(16, 8))\n",
        "ax = sns.barplot(x='score', y='property', data=top_shirt_properties_df,facecolor=(0, 0, 0, 0),linewidth=3,edgecolor=sns.color_palette(\"ch:start=2, rot=-.2\",20))\n",
        "plt.title(\"Top 15 shirt properties\",font='Serif')\n",
        "plt.xlabel(\"Score\", fontsize=14)\n",
        "plt.yticks(fontsize=13)\n",
        "plt.xticks(rotation=45, fontsize=13)\n",
        "plt.ylabel(\"\");\n",
        "plt.show()"
      ]
    },
    {
      "cell_type": "code",
      "execution_count": null,
      "metadata": {
        "id": "IUNCXH2am856",
        "outputId": "ec6345d2-4bee-4489-cef6-1b30ad428389"
      },
      "outputs": [
        {
          "data": {
            "image/png": "[encoded data removed]",
            "text/plain": [
              "<Figure size 1152x576 with 1 Axes>"
            ]
          },
          "metadata": {},
          "output_type": "display_data"
        }
      ],
      "source": [
        "top_tier_properties =  get_top_n_categories('tier',15)\n",
        "top_tier_properties_df = pd.DataFrame(top_tier_properties,columns=['property','score'])\n",
        "plt.figure(figsize=(16, 8))\n",
        "ax = sns.barplot(x='score', y='property', data=top_tier_properties_df,facecolor=(0, 0, 0, 0),linewidth=3,edgecolor=sns.color_palette(\"ch:start=-1, rot=-.6\",20))\n",
        "plt.title(\"Top 15 tier properties\",font='Serif')\n",
        "plt.xlabel(\"Score\", fontsize=14)\n",
        "plt.yticks(fontsize=13)\n",
        "plt.xticks(rotation=45, fontsize=13)\n",
        "plt.ylabel(\"\");\n",
        "plt.show()"
      ]
    },
    {
      "cell_type": "code",
      "execution_count": null,
      "metadata": {
        "id": "_jvekW78m856",
        "outputId": "bc835d0d-3b18-47ac-b088-8afa14e59c70"
      },
      "outputs": [
        {
          "data": {
            "image/png": "[encoded data removed]",
            "text/plain": [
              "<Figure size 1152x576 with 1 Axes>"
            ]
          },
          "metadata": {},
          "output_type": "display_data"
        }
      ],
      "source": [
        "top_hats_properties =  get_top_n_categories('hats',15)\n",
        "top_hats_properties_df = pd.DataFrame(top_hats_properties,columns=['property','score'])\n",
        "plt.figure(figsize=(16, 8))\n",
        "ax = sns.barplot(x='score', y='property', data=top_hats_properties_df,facecolor=(0, 0, 0, 0),linewidth=3,edgecolor=sns.color_palette(\"ch:start=-8, rot=-.9\",20))\n",
        "plt.title(\"Top 15 hats properties\",font='Serif')\n",
        "plt.xlabel(\"Score\", fontsize=14)\n",
        "plt.yticks(fontsize=13)\n",
        "plt.xticks(rotation=45, fontsize=13)\n",
        "plt.ylabel(\"\");\n",
        "plt.show()"
      ]
    },
    {
      "cell_type": "code",
      "execution_count": null,
      "metadata": {
        "id": "iedf4tfem856",
        "outputId": "b734bbde-2f5e-45d5-f8f3-72a7a5af665b"
      },
      "outputs": [
        {
          "data": {
            "image/png": "[encoded data removed]",
            "text/plain": [
              "<Figure size 1080x1080 with 1 Axes>"
            ]
          },
          "metadata": {},
          "output_type": "display_data"
        }
      ],
      "source": [
        "sns.catplot(y = \"total\", x = \"tier\", data = file_df.sort_values(\"total\", ascending = False), kind=\"boxen\", height = 15, aspect = 1)\n",
        "plt.show()"
      ]
    },
    {
      "cell_type": "code",
      "execution_count": null,
      "metadata": {
        "id": "OXgWha3Ym856",
        "outputId": "2d80fbd0-3c4c-4a90-a8db-5b5c71739e25"
      },
      "outputs": [
        {
          "data": {
            "text/html": [
              "<div>\n",
              "<style scoped>\n",
              "    .dataframe tbody tr th:only-of-type {\n",
              "        vertical-align: middle;\n",
              "    }\n",
              "\n",
              "    .dataframe tbody tr th {\n",
              "        vertical-align: top;\n",
              "    }\n",
              "\n",
              "    .dataframe thead th {\n",
              "        text-align: right;\n",
              "    }\n",
              "</style>\n",
              "<table border=\"1\" class=\"dataframe\">\n",
              "  <thead>\n",
              "    <tr style=\"text-align: right;\">\n",
              "      <th></th>\n",
              "      <th>cat_number</th>\n",
              "      <th>rank</th>\n",
              "      <th>face-score</th>\n",
              "      <th>shirt-score</th>\n",
              "      <th>tier-score</th>\n",
              "      <th>hats-score</th>\n",
              "      <th>total</th>\n",
              "    </tr>\n",
              "  </thead>\n",
              "  <tbody>\n",
              "    <tr>\n",
              "      <th>cat_number</th>\n",
              "      <td>1.000000</td>\n",
              "      <td>0.000969</td>\n",
              "      <td>0.005541</td>\n",
              "      <td>0.000058</td>\n",
              "      <td>0.007517</td>\n",
              "      <td>-0.003524</td>\n",
              "      <td>0.000896</td>\n",
              "    </tr>\n",
              "    <tr>\n",
              "      <th>rank</th>\n",
              "      <td>0.000969</td>\n",
              "      <td>1.000000</td>\n",
              "      <td>-0.107185</td>\n",
              "      <td>-0.338908</td>\n",
              "      <td>-0.460743</td>\n",
              "      <td>-0.351481</td>\n",
              "      <td>-0.286949</td>\n",
              "    </tr>\n",
              "    <tr>\n",
              "      <th>face-score</th>\n",
              "      <td>0.005541</td>\n",
              "      <td>-0.107185</td>\n",
              "      <td>1.000000</td>\n",
              "      <td>0.888773</td>\n",
              "      <td>0.290245</td>\n",
              "      <td>0.889661</td>\n",
              "      <td>0.956586</td>\n",
              "    </tr>\n",
              "    <tr>\n",
              "      <th>shirt-score</th>\n",
              "      <td>0.000058</td>\n",
              "      <td>-0.338908</td>\n",
              "      <td>0.888773</td>\n",
              "      <td>1.000000</td>\n",
              "      <td>0.392478</td>\n",
              "      <td>0.918997</td>\n",
              "      <td>0.969897</td>\n",
              "    </tr>\n",
              "    <tr>\n",
              "      <th>tier-score</th>\n",
              "      <td>0.007517</td>\n",
              "      <td>-0.460743</td>\n",
              "      <td>0.290245</td>\n",
              "      <td>0.392478</td>\n",
              "      <td>1.000000</td>\n",
              "      <td>0.384382</td>\n",
              "      <td>0.389217</td>\n",
              "    </tr>\n",
              "    <tr>\n",
              "      <th>hats-score</th>\n",
              "      <td>-0.003524</td>\n",
              "      <td>-0.351481</td>\n",
              "      <td>0.889661</td>\n",
              "      <td>0.918997</td>\n",
              "      <td>0.384382</td>\n",
              "      <td>1.000000</td>\n",
              "      <td>0.970088</td>\n",
              "    </tr>\n",
              "    <tr>\n",
              "      <th>total</th>\n",
              "      <td>0.000896</td>\n",
              "      <td>-0.286949</td>\n",
              "      <td>0.956586</td>\n",
              "      <td>0.969897</td>\n",
              "      <td>0.389217</td>\n",
              "      <td>0.970088</td>\n",
              "      <td>1.000000</td>\n",
              "    </tr>\n",
              "  </tbody>\n",
              "</table>\n",
              "</div>"
            ],
            "text/plain": [
              "             cat_number      rank  face-score  shirt-score  tier-score  \\\n",
              "cat_number     1.000000  0.000969    0.005541     0.000058    0.007517   \n",
              "rank           0.000969  1.000000   -0.107185    -0.338908   -0.460743   \n",
              "face-score     0.005541 -0.107185    1.000000     0.888773    0.290245   \n",
              "shirt-score    0.000058 -0.338908    0.888773     1.000000    0.392478   \n",
              "tier-score     0.007517 -0.460743    0.290245     0.392478    1.000000   \n",
              "hats-score    -0.003524 -0.351481    0.889661     0.918997    0.384382   \n",
              "total          0.000896 -0.286949    0.956586     0.969897    0.389217   \n",
              "\n",
              "             hats-score     total  \n",
              "cat_number    -0.003524  0.000896  \n",
              "rank          -0.351481 -0.286949  \n",
              "face-score     0.889661  0.956586  \n",
              "shirt-score    0.918997  0.969897  \n",
              "tier-score     0.384382  0.389217  \n",
              "hats-score     1.000000  0.970088  \n",
              "total          0.970088  1.000000  "
            ]
          },
          "execution_count": 11,
          "metadata": {},
          "output_type": "execute_result"
        }
      ],
      "source": [
        "file_df.corr()"
      ]
    },
    {
      "cell_type": "code",
      "execution_count": null,
      "metadata": {
        "id": "745HD-Olm856",
        "outputId": "0d042b73-b5d3-4f1d-a291-046fefe45e29"
      },
      "outputs": [
        {
          "data": {
            "text/plain": [
              "<AxesSubplot:>"
            ]
          },
          "execution_count": 357,
          "metadata": {},
          "output_type": "execute_result"
        },
        {
          "data": {
            "image/png": "[encoded data removed]",
            "text/plain": [
              "<Figure size 2160x1440 with 2 Axes>"
            ]
          },
          "metadata": {},
          "output_type": "display_data"
        }
      ],
      "source": [
        "sns.set(font_scale=2.5)\n",
        "plt.figure(figsize=(30,20))\n",
        "sns.heatmap(file_df[['rank', 'face-score','shirt-score','tier-score','hats-score', 'total']].corr(), annot=True)\n"
      ]
    },
    {
      "cell_type": "markdown",
      "metadata": {
        "id": "T1d5yOQhm856"
      },
      "source": [
        "Outlier Removal\n",
        "\n",
        "To remove outliers, we use the Inter Quartile Range (IQR) rule. Instead of 25% quartiles, we'll use a smaller rejection area (keeping from 0.01 - 99.99 percentile. Thats because the above the kde plots didn't seem to show too many score points that can be considered outliers."
      ]
    },
    {
      "cell_type": "markdown",
      "metadata": {
        "id": "rUiTjFFSm857"
      },
      "source": [
        "Checking the outliers at 25%, 50%, 75%, 90%, 95%, 99% and 99.6%"
      ]
    },
    {
      "cell_type": "code",
      "execution_count": 9,
      "metadata": {
        "colab": {
          "base_uri": "https://localhost:8080/",
          "height": 457
        },
        "id": "ckpq4zJBm857",
        "outputId": "1b24d61b-c898-4eab-c315-6e0adad9928f"
      },
      "outputs": [
        {
          "data": {
            "text/html": [
              "\n",
              "  <div id=\"df-582f3ffa-f230-4eec-9cae-9ae063030876\">\n",
              "    <div class=\"colab-df-container\">\n",
              "      <div>\n",
              "<style scoped>\n",
              "    .dataframe tbody tr th:only-of-type {\n",
              "        vertical-align: middle;\n",
              "    }\n",
              "\n",
              "    .dataframe tbody tr th {\n",
              "        vertical-align: top;\n",
              "    }\n",
              "\n",
              "    .dataframe thead th {\n",
              "        text-align: right;\n",
              "    }\n",
              "</style>\n",
              "<table border=\"1\" class=\"dataframe\">\n",
              "  <thead>\n",
              "    <tr style=\"text-align: right;\">\n",
              "      <th></th>\n",
              "      <th>face-score</th>\n",
              "      <th>shirt-score</th>\n",
              "      <th>tier-score</th>\n",
              "      <th>hats-score</th>\n",
              "      <th>total</th>\n",
              "    </tr>\n",
              "  </thead>\n",
              "  <tbody>\n",
              "    <tr>\n",
              "      <th>count</th>\n",
              "      <td>8779.000000</td>\n",
              "      <td>8779.000000</td>\n",
              "      <td>8779.000000</td>\n",
              "      <td>8779.000000</td>\n",
              "      <td>8779.000000</td>\n",
              "    </tr>\n",
              "    <tr>\n",
              "      <th>mean</th>\n",
              "      <td>11.842567</td>\n",
              "      <td>43.018259</td>\n",
              "      <td>5.472901</td>\n",
              "      <td>46.951931</td>\n",
              "      <td>105.840369</td>\n",
              "    </tr>\n",
              "    <tr>\n",
              "      <th>std</th>\n",
              "      <td>110.854839</td>\n",
              "      <td>111.025395</td>\n",
              "      <td>7.849456</td>\n",
              "      <td>111.221122</td>\n",
              "      <td>324.952094</td>\n",
              "    </tr>\n",
              "    <tr>\n",
              "      <th>min</th>\n",
              "      <td>0.000000</td>\n",
              "      <td>0.000000</td>\n",
              "      <td>1.200000</td>\n",
              "      <td>3.000000</td>\n",
              "      <td>0.200000</td>\n",
              "    </tr>\n",
              "    <tr>\n",
              "      <th>25%</th>\n",
              "      <td>3.200000</td>\n",
              "      <td>4.400000</td>\n",
              "      <td>1.900000</td>\n",
              "      <td>5.600000</td>\n",
              "      <td>22.300000</td>\n",
              "    </tr>\n",
              "    <tr>\n",
              "      <th>50%</th>\n",
              "      <td>4.800000</td>\n",
              "      <td>34.900000</td>\n",
              "      <td>5.000000</td>\n",
              "      <td>44.500000</td>\n",
              "      <td>70.200000</td>\n",
              "    </tr>\n",
              "    <tr>\n",
              "      <th>75%</th>\n",
              "      <td>7.300000</td>\n",
              "      <td>68.400000</td>\n",
              "      <td>5.000000</td>\n",
              "      <td>71.500000</td>\n",
              "      <td>139.700000</td>\n",
              "    </tr>\n",
              "    <tr>\n",
              "      <th>90%</th>\n",
              "      <td>9.100000</td>\n",
              "      <td>110.700000</td>\n",
              "      <td>9.400000</td>\n",
              "      <td>107.200000</td>\n",
              "      <td>202.400000</td>\n",
              "    </tr>\n",
              "    <tr>\n",
              "      <th>95%</th>\n",
              "      <td>10.000000</td>\n",
              "      <td>118.300000</td>\n",
              "      <td>16.000000</td>\n",
              "      <td>118.800000</td>\n",
              "      <td>242.130000</td>\n",
              "    </tr>\n",
              "    <tr>\n",
              "      <th>98%</th>\n",
              "      <td>10.200000</td>\n",
              "      <td>129.800000</td>\n",
              "      <td>16.000000</td>\n",
              "      <td>148.500000</td>\n",
              "      <td>299.744000</td>\n",
              "    </tr>\n",
              "    <tr>\n",
              "      <th>99%</th>\n",
              "      <td>331.000000</td>\n",
              "      <td>139.500000</td>\n",
              "      <td>62.400000</td>\n",
              "      <td>152.100000</td>\n",
              "      <td>422.332000</td>\n",
              "    </tr>\n",
              "    <tr>\n",
              "      <th>99.6%</th>\n",
              "      <td>414.600000</td>\n",
              "      <td>166.900000</td>\n",
              "      <td>62.400000</td>\n",
              "      <td>172.500000</td>\n",
              "      <td>611.431200</td>\n",
              "    </tr>\n",
              "    <tr>\n",
              "      <th>max</th>\n",
              "      <td>3275.300000</td>\n",
              "      <td>3267.800000</td>\n",
              "      <td>62.400000</td>\n",
              "      <td>3273.400000</td>\n",
              "      <td>9878.800000</td>\n",
              "    </tr>\n",
              "  </tbody>\n",
              "</table>\n",
              "</div>\n",
              "      <button class=\"colab-df-convert\" onclick=\"convertToInteractive('df-582f3ffa-f230-4eec-9cae-9ae063030876')\"\n",
              "              title=\"Convert this dataframe to an interactive table.\"\n",
              "              style=\"display:none;\">\n",
              "        \n",
              "  <svg xmlns=\"http://www.w3.org/2000/svg\" height=\"24px\"viewBox=\"0 0 24 24\"\n",
              "       width=\"24px\">\n",
              "    <path d=\"M0 0h24v24H0V0z\" fill=\"none\"/>\n",
              "    <path d=\"M18.56 5.44l.94 2.06.94-2.06 2.06-.94-2.06-.94-.94-2.06-.94 2.06-2.06.94zm-11 1L8.5 8.5l.94-2.06 2.06-.94-2.06-.94L8.5 2.5l-.94 2.06-2.06.94zm10 10l.94 2.06.94-2.06 2.06-.94-2.06-.94-.94-2.06-.94 2.06-2.06.94z\"/><path d=\"M17.41 7.96l-1.37-1.37c-.4-.4-.92-.59-1.43-.59-.52 0-1.04.2-1.43.59L10.3 9.45l-7.72 7.72c-.78.78-.78 2.05 0 2.83L4 21.41c.39.39.9.59 1.41.59.51 0 1.02-.2 1.41-.59l7.78-7.78 2.81-2.81c.8-.78.8-2.07 0-2.86zM5.41 20L4 18.59l7.72-7.72 1.47 1.35L5.41 20z\"/>\n",
              "  </svg>\n",
              "      </button>\n",
              "      \n",
              "  <style>\n",
              "    .colab-df-container {\n",
              "      display:flex;\n",
              "      flex-wrap:wrap;\n",
              "      gap: 12px;\n",
              "    }\n",
              "\n",
              "    .colab-df-convert {\n",
              "      background-color: #E8F0FE;\n",
              "      border: none;\n",
              "      border-radius: 50%;\n",
              "      cursor: pointer;\n",
              "      display: none;\n",
              "      fill: #1967D2;\n",
              "      height: 32px;\n",
              "      padding: 0 0 0 0;\n",
              "      width: 32px;\n",
              "    }\n",
              "\n",
              "    .colab-df-convert:hover {\n",
              "      background-color: #E2EBFA;\n",
              "      box-shadow: 0px 1px 2px rgba(60, 64, 67, 0.3), 0px 1px 3px 1px rgba(60, 64, 67, 0.15);\n",
              "      fill: #174EA6;\n",
              "    }\n",
              "\n",
              "    [theme=dark] .colab-df-convert {\n",
              "      background-color: #3B4455;\n",
              "      fill: #D2E3FC;\n",
              "    }\n",
              "\n",
              "    [theme=dark] .colab-df-convert:hover {\n",
              "      background-color: #434B5C;\n",
              "      box-shadow: 0px 1px 3px 1px rgba(0, 0, 0, 0.15);\n",
              "      filter: drop-shadow(0px 1px 2px rgba(0, 0, 0, 0.3));\n",
              "      fill: #FFFFFF;\n",
              "    }\n",
              "  </style>\n",
              "\n",
              "      <script>\n",
              "        const buttonEl =\n",
              "          document.querySelector('#df-582f3ffa-f230-4eec-9cae-9ae063030876 button.colab-df-convert');\n",
              "        buttonEl.style.display =\n",
              "          google.colab.kernel.accessAllowed ? 'block' : 'none';\n",
              "\n",
              "        async function convertToInteractive(key) {\n",
              "          const element = document.querySelector('#df-582f3ffa-f230-4eec-9cae-9ae063030876');\n",
              "          const dataTable =\n",
              "            await google.colab.kernel.invokeFunction('convertToInteractive',\n",
              "                                                     [key], {});\n",
              "          if (!dataTable) return;\n",
              "\n",
              "          const docLinkHtml = 'Like what you see? Visit the ' +\n",
              "            '<a target=\"_blank\" href=https://colab.research.google.com/notebooks/data_table.ipynb>data table notebook</a>'\n",
              "            + ' to learn more about interactive tables.';\n",
              "          element.innerHTML = '';\n",
              "          dataTable['output_type'] = 'display_data';\n",
              "          await google.colab.output.renderOutput(dataTable, element);\n",
              "          const docLink = document.createElement('div');\n",
              "          docLink.innerHTML = docLinkHtml;\n",
              "          element.appendChild(docLink);\n",
              "        }\n",
              "      </script>\n",
              "    </div>\n",
              "  </div>\n",
              "  "
            ],
            "text/plain": [
              "        face-score  shirt-score   tier-score   hats-score        total\n",
              "count  8779.000000  8779.000000  8779.000000  8779.000000  8779.000000\n",
              "mean     11.842567    43.018259     5.472901    46.951931   105.840369\n",
              "std     110.854839   111.025395     7.849456   111.221122   324.952094\n",
              "min       0.000000     0.000000     1.200000     3.000000     0.200000\n",
              "25%       3.200000     4.400000     1.900000     5.600000    22.300000\n",
              "50%       4.800000    34.900000     5.000000    44.500000    70.200000\n",
              "75%       7.300000    68.400000     5.000000    71.500000   139.700000\n",
              "90%       9.100000   110.700000     9.400000   107.200000   202.400000\n",
              "95%      10.000000   118.300000    16.000000   118.800000   242.130000\n",
              "98%      10.200000   129.800000    16.000000   148.500000   299.744000\n",
              "99%     331.000000   139.500000    62.400000   152.100000   422.332000\n",
              "99.6%   414.600000   166.900000    62.400000   172.500000   611.431200\n",
              "max    3275.300000  3267.800000    62.400000  3273.400000  9878.800000"
            ]
          },
          "execution_count": 9,
          "metadata": {},
          "output_type": "execute_result"
        }
      ],
      "source": [
        "numeric = file_df[['face-score','shirt-score', 'tier-score','hats-score','total']]\n",
        "numeric.describe(percentiles=[.25,.5,.75,.90,.95,.98,.99,.996])"
      ]
    },
    {
      "cell_type": "markdown",
      "metadata": {
        "id": "h2UdtqV9m857"
      },
      "source": [
        "Capping the outliers for total score"
      ]
    },
    {
      "cell_type": "code",
      "execution_count": 10,
      "metadata": {
        "colab": {
          "base_uri": "https://localhost:8080/",
          "height": 358
        },
        "id": "aYOI-lZcm857",
        "outputId": "6ce1c628-86da-4d65-9a90-2f9b38b01b95"
      },
      "outputs": [
        {
          "name": "stderr",
          "output_type": "stream",
          "text": [
            "/usr/local/lib/python3.7/dist-packages/seaborn/_decorators.py:43: FutureWarning: Pass the following variable as a keyword arg: x. From version 0.12, the only valid positional argument will be `data`, and passing other arguments without an explicit keyword will result in an error or misinterpretation.\n",
            "  FutureWarning\n"
          ]
        },
        {
          "data": {
            "text/plain": [
              "<matplotlib.axes._subplots.AxesSubplot at 0x7fb8ed2c6e10>"
            ]
          },
          "execution_count": 10,
          "metadata": {},
          "output_type": "execute_result"
        },
        {
          "data": {
            "image/png": "[encoded data removed]",
            "text/plain": [
              "<Figure size 432x288 with 1 Axes>"
            ]
          },
          "metadata": {},
          "output_type": "display_data"
        }
      ],
      "source": [
        "q = file_df['total'].quantile(0.996)\n",
        "file_df['total'][file_df['total']>=q] = q\n",
        "sns.boxplot(file_df['total'])"
      ]
    },
    {
      "cell_type": "markdown",
      "metadata": {
        "id": "0Ag6FABlm857"
      },
      "source": [
        "Capping the outliers for face-score"
      ]
    },
    {
      "cell_type": "code",
      "execution_count": 11,
      "metadata": {
        "colab": {
          "base_uri": "https://localhost:8080/",
          "height": 358
        },
        "id": "l0PhHKBdm857",
        "outputId": "a4a41a46-d553-4daf-da75-6d97046a94e1"
      },
      "outputs": [
        {
          "name": "stderr",
          "output_type": "stream",
          "text": [
            "/usr/local/lib/python3.7/dist-packages/seaborn/_decorators.py:43: FutureWarning: Pass the following variable as a keyword arg: x. From version 0.12, the only valid positional argument will be `data`, and passing other arguments without an explicit keyword will result in an error or misinterpretation.\n",
            "  FutureWarning\n"
          ]
        },
        {
          "data": {
            "text/plain": [
              "<matplotlib.axes._subplots.AxesSubplot at 0x7fb8ed1b3f50>"
            ]
          },
          "execution_count": 11,
          "metadata": {},
          "output_type": "execute_result"
        },
        {
          "data": {
            "image/png": "[encoded data removed]",
            "text/plain": [
              "<Figure size 432x288 with 1 Axes>"
            ]
          },
          "metadata": {},
          "output_type": "display_data"
        }
      ],
      "source": [
        "q = file_df['face-score'].quantile(0.996)\n",
        "file_df['face-score'][file_df['face-score']>=q] = q\n",
        "sns.boxplot(file_df['face-score'])"
      ]
    },
    {
      "cell_type": "markdown",
      "metadata": {
        "id": "_jP_JpRDm857"
      },
      "source": [
        "Caping the outliers for shirt-score"
      ]
    },
    {
      "cell_type": "code",
      "execution_count": 12,
      "metadata": {
        "colab": {
          "base_uri": "https://localhost:8080/",
          "height": 358
        },
        "id": "OU01hfxjm857",
        "outputId": "b6ccdbab-eae3-4bab-efb2-d794d0e8ea2f"
      },
      "outputs": [
        {
          "name": "stderr",
          "output_type": "stream",
          "text": [
            "/usr/local/lib/python3.7/dist-packages/seaborn/_decorators.py:43: FutureWarning: Pass the following variable as a keyword arg: x. From version 0.12, the only valid positional argument will be `data`, and passing other arguments without an explicit keyword will result in an error or misinterpretation.\n",
            "  FutureWarning\n"
          ]
        },
        {
          "data": {
            "text/plain": [
              "<matplotlib.axes._subplots.AxesSubplot at 0x7fb8ecceb850>"
            ]
          },
          "execution_count": 12,
          "metadata": {},
          "output_type": "execute_result"
        },
        {
          "data": {
            "image/png": "[encoded data removed]",
            "text/plain": [
              "<Figure size 432x288 with 1 Axes>"
            ]
          },
          "metadata": {},
          "output_type": "display_data"
        }
      ],
      "source": [
        "q = file_df['shirt-score'].quantile(0.996)\n",
        "file_df['shirt-score'][file_df['shirt-score']>=q] = q\n",
        "sns.boxplot(file_df['shirt-score'])"
      ]
    },
    {
      "cell_type": "code",
      "execution_count": 13,
      "metadata": {
        "colab": {
          "base_uri": "https://localhost:8080/",
          "height": 300
        },
        "id": "-BgWOe2-m857",
        "outputId": "a6d4f444-595e-4108-f5ad-04a9612e74dd"
      },
      "outputs": [
        {
          "data": {
            "text/html": [
              "\n",
              "  <div id=\"df-bc81a166-dba4-455b-9753-4d8853876ea6\">\n",
              "    <div class=\"colab-df-container\">\n",
              "      <div>\n",
              "<style scoped>\n",
              "    .dataframe tbody tr th:only-of-type {\n",
              "        vertical-align: middle;\n",
              "    }\n",
              "\n",
              "    .dataframe tbody tr th {\n",
              "        vertical-align: top;\n",
              "    }\n",
              "\n",
              "    .dataframe thead th {\n",
              "        text-align: right;\n",
              "    }\n",
              "</style>\n",
              "<table border=\"1\" class=\"dataframe\">\n",
              "  <thead>\n",
              "    <tr style=\"text-align: right;\">\n",
              "      <th></th>\n",
              "      <th>cat_number</th>\n",
              "      <th>rank</th>\n",
              "      <th>face-score</th>\n",
              "      <th>shirt-score</th>\n",
              "      <th>tier-score</th>\n",
              "      <th>hats-score</th>\n",
              "      <th>total</th>\n",
              "    </tr>\n",
              "  </thead>\n",
              "  <tbody>\n",
              "    <tr>\n",
              "      <th>count</th>\n",
              "      <td>8779.000000</td>\n",
              "      <td>8779.000000</td>\n",
              "      <td>8779.000000</td>\n",
              "      <td>8779.000000</td>\n",
              "      <td>8779.000000</td>\n",
              "      <td>8779.000000</td>\n",
              "      <td>8779.000000</td>\n",
              "    </tr>\n",
              "    <tr>\n",
              "      <th>mean</th>\n",
              "      <td>4827.984622</td>\n",
              "      <td>4961.916733</td>\n",
              "      <td>8.870669</td>\n",
              "      <td>39.839298</td>\n",
              "      <td>5.472901</td>\n",
              "      <td>46.951931</td>\n",
              "      <td>96.168131</td>\n",
              "    </tr>\n",
              "    <tr>\n",
              "      <th>std</th>\n",
              "      <td>2823.009065</td>\n",
              "      <td>2867.592038</td>\n",
              "      <td>38.657032</td>\n",
              "      <td>40.866216</td>\n",
              "      <td>7.849456</td>\n",
              "      <td>111.221122</td>\n",
              "      <td>87.460018</td>\n",
              "    </tr>\n",
              "    <tr>\n",
              "      <th>min</th>\n",
              "      <td>1.000000</td>\n",
              "      <td>1.000000</td>\n",
              "      <td>0.000000</td>\n",
              "      <td>0.000000</td>\n",
              "      <td>1.200000</td>\n",
              "      <td>3.000000</td>\n",
              "      <td>0.200000</td>\n",
              "    </tr>\n",
              "    <tr>\n",
              "      <th>25%</th>\n",
              "      <td>2376.500000</td>\n",
              "      <td>2473.500000</td>\n",
              "      <td>3.200000</td>\n",
              "      <td>4.400000</td>\n",
              "      <td>1.900000</td>\n",
              "      <td>5.600000</td>\n",
              "      <td>22.300000</td>\n",
              "    </tr>\n",
              "    <tr>\n",
              "      <th>50%</th>\n",
              "      <td>4843.000000</td>\n",
              "      <td>4972.000000</td>\n",
              "      <td>4.800000</td>\n",
              "      <td>34.900000</td>\n",
              "      <td>5.000000</td>\n",
              "      <td>44.500000</td>\n",
              "      <td>70.200000</td>\n",
              "    </tr>\n",
              "    <tr>\n",
              "      <th>75%</th>\n",
              "      <td>7202.500000</td>\n",
              "      <td>7437.500000</td>\n",
              "      <td>7.300000</td>\n",
              "      <td>68.400000</td>\n",
              "      <td>5.000000</td>\n",
              "      <td>71.500000</td>\n",
              "      <td>139.700000</td>\n",
              "    </tr>\n",
              "    <tr>\n",
              "      <th>max</th>\n",
              "      <td>9932.000000</td>\n",
              "      <td>9933.000000</td>\n",
              "      <td>414.600000</td>\n",
              "      <td>166.900000</td>\n",
              "      <td>62.400000</td>\n",
              "      <td>3273.400000</td>\n",
              "      <td>611.431200</td>\n",
              "    </tr>\n",
              "  </tbody>\n",
              "</table>\n",
              "</div>\n",
              "      <button class=\"colab-df-convert\" onclick=\"convertToInteractive('df-bc81a166-dba4-455b-9753-4d8853876ea6')\"\n",
              "              title=\"Convert this dataframe to an interactive table.\"\n",
              "              style=\"display:none;\">\n",
              "        \n",
              "  <svg xmlns=\"http://www.w3.org/2000/svg\" height=\"24px\"viewBox=\"0 0 24 24\"\n",
              "       width=\"24px\">\n",
              "    <path d=\"M0 0h24v24H0V0z\" fill=\"none\"/>\n",
              "    <path d=\"M18.56 5.44l.94 2.06.94-2.06 2.06-.94-2.06-.94-.94-2.06-.94 2.06-2.06.94zm-11 1L8.5 8.5l.94-2.06 2.06-.94-2.06-.94L8.5 2.5l-.94 2.06-2.06.94zm10 10l.94 2.06.94-2.06 2.06-.94-2.06-.94-.94-2.06-.94 2.06-2.06.94z\"/><path d=\"M17.41 7.96l-1.37-1.37c-.4-.4-.92-.59-1.43-.59-.52 0-1.04.2-1.43.59L10.3 9.45l-7.72 7.72c-.78.78-.78 2.05 0 2.83L4 21.41c.39.39.9.59 1.41.59.51 0 1.02-.2 1.41-.59l7.78-7.78 2.81-2.81c.8-.78.8-2.07 0-2.86zM5.41 20L4 18.59l7.72-7.72 1.47 1.35L5.41 20z\"/>\n",
              "  </svg>\n",
              "      </button>\n",
              "      \n",
              "  <style>\n",
              "    .colab-df-container {\n",
              "      display:flex;\n",
              "      flex-wrap:wrap;\n",
              "      gap: 12px;\n",
              "    }\n",
              "\n",
              "    .colab-df-convert {\n",
              "      background-color: #E8F0FE;\n",
              "      border: none;\n",
              "      border-radius: 50%;\n",
              "      cursor: pointer;\n",
              "      display: none;\n",
              "      fill: #1967D2;\n",
              "      height: 32px;\n",
              "      padding: 0 0 0 0;\n",
              "      width: 32px;\n",
              "    }\n",
              "\n",
              "    .colab-df-convert:hover {\n",
              "      background-color: #E2EBFA;\n",
              "      box-shadow: 0px 1px 2px rgba(60, 64, 67, 0.3), 0px 1px 3px 1px rgba(60, 64, 67, 0.15);\n",
              "      fill: #174EA6;\n",
              "    }\n",
              "\n",
              "    [theme=dark] .colab-df-convert {\n",
              "      background-color: #3B4455;\n",
              "      fill: #D2E3FC;\n",
              "    }\n",
              "\n",
              "    [theme=dark] .colab-df-convert:hover {\n",
              "      background-color: #434B5C;\n",
              "      box-shadow: 0px 1px 3px 1px rgba(0, 0, 0, 0.15);\n",
              "      filter: drop-shadow(0px 1px 2px rgba(0, 0, 0, 0.3));\n",
              "      fill: #FFFFFF;\n",
              "    }\n",
              "  </style>\n",
              "\n",
              "      <script>\n",
              "        const buttonEl =\n",
              "          document.querySelector('#df-bc81a166-dba4-455b-9753-4d8853876ea6 button.colab-df-convert');\n",
              "        buttonEl.style.display =\n",
              "          google.colab.kernel.accessAllowed ? 'block' : 'none';\n",
              "\n",
              "        async function convertToInteractive(key) {\n",
              "          const element = document.querySelector('#df-bc81a166-dba4-455b-9753-4d8853876ea6');\n",
              "          const dataTable =\n",
              "            await google.colab.kernel.invokeFunction('convertToInteractive',\n",
              "                                                     [key], {});\n",
              "          if (!dataTable) return;\n",
              "\n",
              "          const docLinkHtml = 'Like what you see? Visit the ' +\n",
              "            '<a target=\"_blank\" href=https://colab.research.google.com/notebooks/data_table.ipynb>data table notebook</a>'\n",
              "            + ' to learn more about interactive tables.';\n",
              "          element.innerHTML = '';\n",
              "          dataTable['output_type'] = 'display_data';\n",
              "          await google.colab.output.renderOutput(dataTable, element);\n",
              "          const docLink = document.createElement('div');\n",
              "          docLink.innerHTML = docLinkHtml;\n",
              "          element.appendChild(docLink);\n",
              "        }\n",
              "      </script>\n",
              "    </div>\n",
              "  </div>\n",
              "  "
            ],
            "text/plain": [
              "        cat_number         rank   face-score  shirt-score   tier-score  \\\n",
              "count  8779.000000  8779.000000  8779.000000  8779.000000  8779.000000   \n",
              "mean   4827.984622  4961.916733     8.870669    39.839298     5.472901   \n",
              "std    2823.009065  2867.592038    38.657032    40.866216     7.849456   \n",
              "min       1.000000     1.000000     0.000000     0.000000     1.200000   \n",
              "25%    2376.500000  2473.500000     3.200000     4.400000     1.900000   \n",
              "50%    4843.000000  4972.000000     4.800000    34.900000     5.000000   \n",
              "75%    7202.500000  7437.500000     7.300000    68.400000     5.000000   \n",
              "max    9932.000000  9933.000000   414.600000   166.900000    62.400000   \n",
              "\n",
              "        hats-score        total  \n",
              "count  8779.000000  8779.000000  \n",
              "mean     46.951931    96.168131  \n",
              "std     111.221122    87.460018  \n",
              "min       3.000000     0.200000  \n",
              "25%       5.600000    22.300000  \n",
              "50%      44.500000    70.200000  \n",
              "75%      71.500000   139.700000  \n",
              "max    3273.400000   611.431200  "
            ]
          },
          "execution_count": 13,
          "metadata": {},
          "output_type": "execute_result"
        }
      ],
      "source": [
        "file_df.describe()"
      ]
    },
    {
      "cell_type": "markdown",
      "metadata": {
        "id": "qSrqQcFTm857"
      },
      "source": [
        "Caping the outliers for hats-score"
      ]
    },
    {
      "cell_type": "code",
      "execution_count": 14,
      "metadata": {
        "colab": {
          "base_uri": "https://localhost:8080/",
          "height": 358
        },
        "id": "NvFqOemGm857",
        "outputId": "c9c3cf92-5924-4af4-fb63-e182c9fb5586"
      },
      "outputs": [
        {
          "name": "stderr",
          "output_type": "stream",
          "text": [
            "/usr/local/lib/python3.7/dist-packages/seaborn/_decorators.py:43: FutureWarning: Pass the following variable as a keyword arg: x. From version 0.12, the only valid positional argument will be `data`, and passing other arguments without an explicit keyword will result in an error or misinterpretation.\n",
            "  FutureWarning\n"
          ]
        },
        {
          "data": {
            "text/plain": [
              "<matplotlib.axes._subplots.AxesSubplot at 0x7fb8ecc6f610>"
            ]
          },
          "execution_count": 14,
          "metadata": {},
          "output_type": "execute_result"
        },
        {
          "data": {
            "image/png": "[encoded data removed]",
            "text/plain": [
              "<Figure size 432x288 with 1 Axes>"
            ]
          },
          "metadata": {},
          "output_type": "display_data"
        }
      ],
      "source": [
        "q = file_df['hats-score'].quantile(0.996)\n",
        "file_df['hats-score'][file_df['hats-score']>=q] = q\n",
        "sns.boxplot(file_df['hats-score'])"
      ]
    },
    {
      "cell_type": "code",
      "execution_count": null,
      "metadata": {
        "id": "oWcRdkAom858",
        "outputId": "7fb48d27-4a91-40c3-ace2-a6509badae8c"
      },
      "outputs": [
        {
          "data": {
            "text/plain": [
              "cat_number     9730.440\n",
              "rank           9742.440\n",
              "face-score      331.000\n",
              "shirt-score     139.500\n",
              "tier-score       61.200\n",
              "hats-score      149.100\n",
              "total           414.854\n",
              "dtype: float64"
            ]
          },
          "execution_count": 321,
          "metadata": {},
          "output_type": "execute_result"
        }
      ],
      "source": [
        "Q1 = file_df.quantile(q = 0.01)\n",
        "Q3 = file_df.quantile(q = 0.99)\n",
        "IQR = Q3 - Q1\n",
        "IQR"
      ]
    },
    {
      "cell_type": "code",
      "execution_count": null,
      "metadata": {
        "id": "86XLbM13m858",
        "outputId": "f1e03b07-93db-43be-c61b-118de7c8fac1"
      },
      "outputs": [
        {
          "data": {
            "text/plain": [
              "(8779, 13)"
            ]
          },
          "execution_count": 93,
          "metadata": {},
          "output_type": "execute_result"
        }
      ],
      "source": [
        "file_df.shape"
      ]
    },
    {
      "cell_type": "code",
      "execution_count": null,
      "metadata": {
        "id": "UtYyaosrm858"
      },
      "outputs": [],
      "source": [
        "#X_train,X_test_and_val,y_train,y_test_and_val = train_test_split(X, y, test_size=0.30, train_size=0.70, random_state=0)\n",
        "#X_val,X_test,y_val,y_test = train_test_split(X_test_and_val,y_test_and_val, test_size=0.33, train_size=0.67, random_state=0)"
      ]
    },
    {
      "cell_type": "markdown",
      "metadata": {
        "id": "GYo89emWm858"
      },
      "source": [
        "Creating a Baseline Model using Ridge and Linear Regression"
      ]
    },
    {
      "cell_type": "markdown",
      "metadata": {
        "id": "ZBNKyv6Tm858"
      },
      "source": [
        "Splitting the data into parts.\n",
        "\n",
        "First part has all the numerical features and the second part will have the traget variable."
      ]
    },
    {
      "cell_type": "code",
      "execution_count": 15,
      "metadata": {
        "id": "qezJOPGEm858"
      },
      "outputs": [],
      "source": [
        "X = file_df[['rank','face-score','shirt-score','total','hats-score']] #.drop('total', axis = 1)\n",
        "y = file_df['tier-score']"
      ]
    },
    {
      "cell_type": "code",
      "execution_count": 16,
      "metadata": {
        "colab": {
          "base_uri": "https://localhost:8080/"
        },
        "id": "2E2IR3hRm858",
        "outputId": "135ad4f4-ca5a-4ccc-ae04-bee459d3c3ca"
      },
      "outputs": [
        {
          "name": "stdout",
          "output_type": "stream",
          "text": [
            "--- Model: Ridge Regression ---\n",
            "MSE:  19.824752345233215\n",
            "R2 Score 0.6605432179583365\n",
            "--- Model: Linear Regression ---\n",
            "MSE:  19.672769431762067\n",
            "R2 Score 0.6631456025850799\n"
          ]
        }
      ],
      "source": [
        "def training(model, X_train, y_train, X_test, y_test, model_name):\n",
        "    \n",
        "    model = make_pipeline(StandardScaler(with_mean=False),model,)\n",
        "    model.fit(X_train, y_train)\n",
        "    y_pred = model.predict(X_test)\n",
        "    MSE = mse(y_test, y_pred)\n",
        "    R2_Score = r2_score(y_test, y_pred)\n",
        "    \n",
        "    print(\"--- Model:\", model_name,\"---\")\n",
        "    print(\"MSE: \",MSE)\n",
        "    print(\"R2 Score\", R2_Score)\n",
        "    \n",
        "ridge = Ridge(fit_intercept = True)\n",
        "lr = LinearRegression()\n",
        "m = [ridge,lr]\n",
        "mn = [\"Ridge Regression\",\"Linear Regression\"]\n",
        "\n",
        "X_train, X_test, y_train, y_test = train_test_split(X, y, test_size=0.33, random_state=42)\n",
        "\n",
        "for i in range(0,len(m)):\n",
        "    training(model=m[i], X_train=X_train, y_train=y_train, X_test=X_test,y_test=y_test, model_name=mn[i])"
      ]
    },
    {
      "cell_type": "markdown",
      "metadata": {
        "id": "hs_KKMSRm858"
      },
      "source": [
        "Using Label Encoding on the target variable (tier) so that we can assign a number to each of the rarity feature."
      ]
    },
    {
      "cell_type": "code",
      "execution_count": 17,
      "metadata": {
        "colab": {
          "base_uri": "https://localhost:8080/",
          "height": 658
        },
        "id": "mUQA81RSm858",
        "outputId": "351e83df-7769-4ed1-ac28-af38775bcad9"
      },
      "outputs": [
        {
          "data": {
            "text/html": [
              "\n",
              "  <div id=\"df-70db5023-d6aa-4b12-953b-b59c1ca8b463\">\n",
              "    <div class=\"colab-df-container\">\n",
              "      <div>\n",
              "<style scoped>\n",
              "    .dataframe tbody tr th:only-of-type {\n",
              "        vertical-align: middle;\n",
              "    }\n",
              "\n",
              "    .dataframe tbody tr th {\n",
              "        vertical-align: top;\n",
              "    }\n",
              "\n",
              "    .dataframe thead th {\n",
              "        text-align: right;\n",
              "    }\n",
              "</style>\n",
              "<table border=\"1\" class=\"dataframe\">\n",
              "  <thead>\n",
              "    <tr style=\"text-align: right;\">\n",
              "      <th></th>\n",
              "      <th>cat_number</th>\n",
              "      <th>rank</th>\n",
              "      <th>face</th>\n",
              "      <th>face-score</th>\n",
              "      <th>shirt</th>\n",
              "      <th>shirt-score</th>\n",
              "      <th>body</th>\n",
              "      <th>tier</th>\n",
              "      <th>tier-score</th>\n",
              "      <th>hats</th>\n",
              "      <th>hats-score</th>\n",
              "      <th>total</th>\n",
              "      <th>tier_encoded</th>\n",
              "    </tr>\n",
              "  </thead>\n",
              "  <tbody>\n",
              "    <tr>\n",
              "      <th>0</th>\n",
              "      <td>1</td>\n",
              "      <td>3474</td>\n",
              "      <td>sunglasses blue</td>\n",
              "      <td>3.2</td>\n",
              "      <td>winter red</td>\n",
              "      <td>38.9</td>\n",
              "      <td>blue cat skin</td>\n",
              "      <td>wild_1</td>\n",
              "      <td>1.9</td>\n",
              "      <td>hat black</td>\n",
              "      <td>61.4</td>\n",
              "      <td>105.4</td>\n",
              "      <td>6</td>\n",
              "    </tr>\n",
              "    <tr>\n",
              "      <th>1</th>\n",
              "      <td>3</td>\n",
              "      <td>9235</td>\n",
              "      <td>beard pirate</td>\n",
              "      <td>0.8</td>\n",
              "      <td>hoodie purple</td>\n",
              "      <td>6.4</td>\n",
              "      <td>blue cat skin</td>\n",
              "      <td>cool_2</td>\n",
              "      <td>5.0</td>\n",
              "      <td>mohawk purple</td>\n",
              "      <td>5.6</td>\n",
              "      <td>12.8</td>\n",
              "      <td>3</td>\n",
              "    </tr>\n",
              "    <tr>\n",
              "      <th>2</th>\n",
              "      <td>4</td>\n",
              "      <td>9413</td>\n",
              "      <td>unamused</td>\n",
              "      <td>2.0</td>\n",
              "      <td>buttondown tan</td>\n",
              "      <td>8.6</td>\n",
              "      <td>blue cat skin</td>\n",
              "      <td>cool_1</td>\n",
              "      <td>1.2</td>\n",
              "      <td>hat white</td>\n",
              "      <td>5.0</td>\n",
              "      <td>11.8</td>\n",
              "      <td>2</td>\n",
              "    </tr>\n",
              "    <tr>\n",
              "      <th>3</th>\n",
              "      <td>5</td>\n",
              "      <td>7088</td>\n",
              "      <td>sunglasses cool</td>\n",
              "      <td>10.0</td>\n",
              "      <td>shirt white</td>\n",
              "      <td>10.6</td>\n",
              "      <td>blue cat skin</td>\n",
              "      <td>cool_1</td>\n",
              "      <td>1.2</td>\n",
              "      <td>arrowhead</td>\n",
              "      <td>8.8</td>\n",
              "      <td>30.6</td>\n",
              "      <td>2</td>\n",
              "    </tr>\n",
              "    <tr>\n",
              "      <th>4</th>\n",
              "      <td>6</td>\n",
              "      <td>4700</td>\n",
              "      <td>sunglasses blue</td>\n",
              "      <td>3.2</td>\n",
              "      <td>work red</td>\n",
              "      <td>3.4</td>\n",
              "      <td>blue cat skin</td>\n",
              "      <td>cool_2</td>\n",
              "      <td>5.0</td>\n",
              "      <td>ninja red</td>\n",
              "      <td>74.0</td>\n",
              "      <td>80.5</td>\n",
              "      <td>3</td>\n",
              "    </tr>\n",
              "    <tr>\n",
              "      <th>...</th>\n",
              "      <td>...</td>\n",
              "      <td>...</td>\n",
              "      <td>...</td>\n",
              "      <td>...</td>\n",
              "      <td>...</td>\n",
              "      <td>...</td>\n",
              "      <td>...</td>\n",
              "      <td>...</td>\n",
              "      <td>...</td>\n",
              "      <td>...</td>\n",
              "      <td>...</td>\n",
              "      <td>...</td>\n",
              "      <td>...</td>\n",
              "    </tr>\n",
              "    <tr>\n",
              "      <th>8774</th>\n",
              "      <td>9927</td>\n",
              "      <td>9530</td>\n",
              "      <td>sunglasses heart</td>\n",
              "      <td>3.0</td>\n",
              "      <td>sweater orange</td>\n",
              "      <td>8.0</td>\n",
              "      <td>blue cat skin</td>\n",
              "      <td>cool_2</td>\n",
              "      <td>5.0</td>\n",
              "      <td>hat white</td>\n",
              "      <td>5.0</td>\n",
              "      <td>11.0</td>\n",
              "      <td>3</td>\n",
              "    </tr>\n",
              "    <tr>\n",
              "      <th>8775</th>\n",
              "      <td>9928</td>\n",
              "      <td>3342</td>\n",
              "      <td>face face</td>\n",
              "      <td>9.1</td>\n",
              "      <td>tanktop sailor red</td>\n",
              "      <td>39.7</td>\n",
              "      <td>blue cat skin</td>\n",
              "      <td>wild_1</td>\n",
              "      <td>1.9</td>\n",
              "      <td>afro black</td>\n",
              "      <td>57.5</td>\n",
              "      <td>108.2</td>\n",
              "      <td>6</td>\n",
              "    </tr>\n",
              "    <tr>\n",
              "      <th>8776</th>\n",
              "      <td>9929</td>\n",
              "      <td>3455</td>\n",
              "      <td>sunglasses squad</td>\n",
              "      <td>9.1</td>\n",
              "      <td>tanktop sailor black</td>\n",
              "      <td>42.6</td>\n",
              "      <td>blue cat skin</td>\n",
              "      <td>wild_2</td>\n",
              "      <td>4.2</td>\n",
              "      <td>pirate red</td>\n",
              "      <td>49.8</td>\n",
              "      <td>105.7</td>\n",
              "      <td>7</td>\n",
              "    </tr>\n",
              "    <tr>\n",
              "      <th>8777</th>\n",
              "      <td>9931</td>\n",
              "      <td>4652</td>\n",
              "      <td>zombie</td>\n",
              "      <td>1.1</td>\n",
              "      <td>shirt yellow</td>\n",
              "      <td>4.4</td>\n",
              "      <td>blue cat skin</td>\n",
              "      <td>wild_1</td>\n",
              "      <td>1.9</td>\n",
              "      <td>wreath flowers</td>\n",
              "      <td>75.2</td>\n",
              "      <td>82.6</td>\n",
              "      <td>6</td>\n",
              "    </tr>\n",
              "    <tr>\n",
              "      <th>8778</th>\n",
              "      <td>9932</td>\n",
              "      <td>9621</td>\n",
              "      <td>mononoke</td>\n",
              "      <td>4.5</td>\n",
              "      <td>buttondown green</td>\n",
              "      <td>0.2</td>\n",
              "      <td>blue cat skin</td>\n",
              "      <td>cool_2</td>\n",
              "      <td>5.0</td>\n",
              "      <td>mohawk purple</td>\n",
              "      <td>5.6</td>\n",
              "      <td>10.3</td>\n",
              "      <td>3</td>\n",
              "    </tr>\n",
              "  </tbody>\n",
              "</table>\n",
              "<p>8779 rows × 13 columns</p>\n",
              "</div>\n",
              "      <button class=\"colab-df-convert\" onclick=\"convertToInteractive('df-70db5023-d6aa-4b12-953b-b59c1ca8b463')\"\n",
              "              title=\"Convert this dataframe to an interactive table.\"\n",
              "              style=\"display:none;\">\n",
              "        \n",
              "  <svg xmlns=\"http://www.w3.org/2000/svg\" height=\"24px\"viewBox=\"0 0 24 24\"\n",
              "       width=\"24px\">\n",
              "    <path d=\"M0 0h24v24H0V0z\" fill=\"none\"/>\n",
              "    <path d=\"M18.56 5.44l.94 2.06.94-2.06 2.06-.94-2.06-.94-.94-2.06-.94 2.06-2.06.94zm-11 1L8.5 8.5l.94-2.06 2.06-.94-2.06-.94L8.5 2.5l-.94 2.06-2.06.94zm10 10l.94 2.06.94-2.06 2.06-.94-2.06-.94-.94-2.06-.94 2.06-2.06.94z\"/><path d=\"M17.41 7.96l-1.37-1.37c-.4-.4-.92-.59-1.43-.59-.52 0-1.04.2-1.43.59L10.3 9.45l-7.72 7.72c-.78.78-.78 2.05 0 2.83L4 21.41c.39.39.9.59 1.41.59.51 0 1.02-.2 1.41-.59l7.78-7.78 2.81-2.81c.8-.78.8-2.07 0-2.86zM5.41 20L4 18.59l7.72-7.72 1.47 1.35L5.41 20z\"/>\n",
              "  </svg>\n",
              "      </button>\n",
              "      \n",
              "  <style>\n",
              "    .colab-df-container {\n",
              "      display:flex;\n",
              "      flex-wrap:wrap;\n",
              "      gap: 12px;\n",
              "    }\n",
              "\n",
              "    .colab-df-convert {\n",
              "      background-color: #E8F0FE;\n",
              "      border: none;\n",
              "      border-radius: 50%;\n",
              "      cursor: pointer;\n",
              "      display: none;\n",
              "      fill: #1967D2;\n",
              "      height: 32px;\n",
              "      padding: 0 0 0 0;\n",
              "      width: 32px;\n",
              "    }\n",
              "\n",
              "    .colab-df-convert:hover {\n",
              "      background-color: #E2EBFA;\n",
              "      box-shadow: 0px 1px 2px rgba(60, 64, 67, 0.3), 0px 1px 3px 1px rgba(60, 64, 67, 0.15);\n",
              "      fill: #174EA6;\n",
              "    }\n",
              "\n",
              "    [theme=dark] .colab-df-convert {\n",
              "      background-color: #3B4455;\n",
              "      fill: #D2E3FC;\n",
              "    }\n",
              "\n",
              "    [theme=dark] .colab-df-convert:hover {\n",
              "      background-color: #434B5C;\n",
              "      box-shadow: 0px 1px 3px 1px rgba(0, 0, 0, 0.15);\n",
              "      filter: drop-shadow(0px 1px 2px rgba(0, 0, 0, 0.3));\n",
              "      fill: #FFFFFF;\n",
              "    }\n",
              "  </style>\n",
              "\n",
              "      <script>\n",
              "        const buttonEl =\n",
              "          document.querySelector('#df-70db5023-d6aa-4b12-953b-b59c1ca8b463 button.colab-df-convert');\n",
              "        buttonEl.style.display =\n",
              "          google.colab.kernel.accessAllowed ? 'block' : 'none';\n",
              "\n",
              "        async function convertToInteractive(key) {\n",
              "          const element = document.querySelector('#df-70db5023-d6aa-4b12-953b-b59c1ca8b463');\n",
              "          const dataTable =\n",
              "            await google.colab.kernel.invokeFunction('convertToInteractive',\n",
              "                                                     [key], {});\n",
              "          if (!dataTable) return;\n",
              "\n",
              "          const docLinkHtml = 'Like what you see? Visit the ' +\n",
              "            '<a target=\"_blank\" href=https://colab.research.google.com/notebooks/data_table.ipynb>data table notebook</a>'\n",
              "            + ' to learn more about interactive tables.';\n",
              "          element.innerHTML = '';\n",
              "          dataTable['output_type'] = 'display_data';\n",
              "          await google.colab.output.renderOutput(dataTable, element);\n",
              "          const docLink = document.createElement('div');\n",
              "          docLink.innerHTML = docLinkHtml;\n",
              "          element.appendChild(docLink);\n",
              "        }\n",
              "      </script>\n",
              "    </div>\n",
              "  </div>\n",
              "  "
            ],
            "text/plain": [
              "      cat_number  rank              face  face-score                 shirt  \\\n",
              "0              1  3474   sunglasses blue         3.2            winter red   \n",
              "1              3  9235      beard pirate         0.8         hoodie purple   \n",
              "2              4  9413          unamused         2.0        buttondown tan   \n",
              "3              5  7088   sunglasses cool        10.0           shirt white   \n",
              "4              6  4700   sunglasses blue         3.2              work red   \n",
              "...          ...   ...               ...         ...                   ...   \n",
              "8774        9927  9530  sunglasses heart         3.0        sweater orange   \n",
              "8775        9928  3342         face face         9.1    tanktop sailor red   \n",
              "8776        9929  3455  sunglasses squad         9.1  tanktop sailor black   \n",
              "8777        9931  4652            zombie         1.1          shirt yellow   \n",
              "8778        9932  9621          mononoke         4.5      buttondown green   \n",
              "\n",
              "      shirt-score           body    tier  tier-score            hats  \\\n",
              "0            38.9  blue cat skin  wild_1         1.9       hat black   \n",
              "1             6.4  blue cat skin  cool_2         5.0   mohawk purple   \n",
              "2             8.6  blue cat skin  cool_1         1.2       hat white   \n",
              "3            10.6  blue cat skin  cool_1         1.2       arrowhead   \n",
              "4             3.4  blue cat skin  cool_2         5.0       ninja red   \n",
              "...           ...            ...     ...         ...             ...   \n",
              "8774          8.0  blue cat skin  cool_2         5.0       hat white   \n",
              "8775         39.7  blue cat skin  wild_1         1.9      afro black   \n",
              "8776         42.6  blue cat skin  wild_2         4.2      pirate red   \n",
              "8777          4.4  blue cat skin  wild_1         1.9  wreath flowers   \n",
              "8778          0.2  blue cat skin  cool_2         5.0   mohawk purple   \n",
              "\n",
              "      hats-score  total  tier_encoded  \n",
              "0           61.4  105.4             6  \n",
              "1            5.6   12.8             3  \n",
              "2            5.0   11.8             2  \n",
              "3            8.8   30.6             2  \n",
              "4           74.0   80.5             3  \n",
              "...          ...    ...           ...  \n",
              "8774         5.0   11.0             3  \n",
              "8775        57.5  108.2             6  \n",
              "8776        49.8  105.7             7  \n",
              "8777        75.2   82.6             6  \n",
              "8778         5.6   10.3             3  \n",
              "\n",
              "[8779 rows x 13 columns]"
            ]
          },
          "execution_count": 17,
          "metadata": {},
          "output_type": "execute_result"
        }
      ],
      "source": [
        "le = LabelEncoder()\n",
        "file_df['tier_encoded'] = le.fit_transform(file_df['tier'])\n",
        "file_df"
      ]
    },
    {
      "cell_type": "code",
      "execution_count": 18,
      "metadata": {
        "colab": {
          "base_uri": "https://localhost:8080/"
        },
        "id": "fQq6vHE7m858",
        "outputId": "0b96b556-3895-438e-ad1b-7f1dc53207e3"
      },
      "outputs": [
        {
          "data": {
            "text/plain": [
              "cool_2      0.260508\n",
              "cool_1      0.198656\n",
              "wild_1      0.174963\n",
              "wild_2      0.123704\n",
              "classy_1    0.100809\n",
              "classy_2    0.076432\n",
              "exotic_1    0.049892\n",
              "exotic_2    0.015036\n",
              "Name: tier, dtype: float64"
            ]
          },
          "execution_count": 18,
          "metadata": {},
          "output_type": "execute_result"
        }
      ],
      "source": [
        "file_df['tier'].value_counts(normalize = True)"
      ]
    },
    {
      "cell_type": "code",
      "execution_count": 19,
      "metadata": {
        "colab": {
          "base_uri": "https://localhost:8080/"
        },
        "id": "vKKP3sQPm858",
        "outputId": "60eb7683-32cd-4f11-85dd-11b5dd0fbd45"
      },
      "outputs": [
        {
          "name": "stdout",
          "output_type": "stream",
          "text": [
            "Exotic_2 consists of 1.5 % of the dataset\n",
            "Cool_2 consists of 26.05 % of the dataset\n"
          ]
        }
      ],
      "source": [
        "print('Exotic_2 consists of', round(file_df['tier'].value_counts()[7]/len(file_df) * 100,2), '% of the dataset')\n",
        "print('Cool_2 consists of', round(file_df['tier'].value_counts()[0]/len(file_df) * 100,2), '% of the dataset')"
      ]
    },
    {
      "cell_type": "markdown",
      "metadata": {
        "id": "42amDlZKm858"
      },
      "source": [
        "Stratified KFold\n",
        "\n",
        "The stratified k fold cross-validation is an extension of the cross-validation technique used for classification problems. It maintains the same class ratio throughout the K folds as the ratio in the original dataset.\n",
        "\n",
        "Here we find that the various categories of tier has uneven distribution. So we will use the stratified k fold cross-validation technique so that the class ratio is preserved through the K folds."
      ]
    },
    {
      "cell_type": "code",
      "execution_count": 20,
      "metadata": {
        "colab": {
          "base_uri": "https://localhost:8080/"
        },
        "id": "XNmzd4Ggm858",
        "outputId": "3e3fc88f-9546-4bfa-c894-08a2f7c2f618"
      },
      "outputs": [
        {
          "name": "stdout",
          "output_type": "stream",
          "text": [
            "Train: [1580 1581 1589 ... 8776 8777 8778] Test: [   0    1    2 ... 2011 2029 2112]\n",
            "Train: [   0    1    2 ... 8776 8777 8778] Test: [1580 1581 1589 ... 3642 3645 3807]\n",
            "Train: [   0    1    2 ... 8776 8777 8778] Test: [3275 3276 3285 ... 5365 5368 5494]\n",
            "Train: [   0    1    2 ... 8776 8777 8778] Test: [5135 5140 5142 ... 7234 7254 7269]\n",
            "Train: [   0    1    2 ... 7234 7254 7269] Test: [6908 6956 6968 ... 8776 8777 8778]\n"
          ]
        }
      ],
      "source": [
        "fold_no = 1\n",
        "y_skf = file_df['tier_encoded']\n",
        "skf = StratifiedKFold(n_splits=5, random_state=None, shuffle=False)\n",
        "for train_index, test_index in skf.split(X, y_skf):\n",
        "    print(\"Train:\", train_index, \"Test:\", test_index)\n",
        "    original_Xtrain, original_Xtest = X.iloc[train_index], X.iloc[test_index]\n",
        "    original_ytrain, original_ytest = y_skf.iloc[train_index], y_skf.iloc[test_index]\n",
        "    fold_no += 1\n"
      ]
    },
    {
      "cell_type": "markdown",
      "metadata": {
        "id": "_UgAWvXSm858"
      },
      "source": [
        "Turn each of the data splits into arrays"
      ]
    },
    {
      "cell_type": "code",
      "execution_count": 21,
      "metadata": {
        "id": "9YUugU-Em858"
      },
      "outputs": [],
      "source": [
        "original_Xtrain = original_Xtrain.values\n",
        "original_Xtest = original_Xtest.values\n",
        "original_ytrain = original_ytrain.values\n",
        "original_ytest = original_ytest.values"
      ]
    },
    {
      "cell_type": "markdown",
      "metadata": {
        "id": "RpDUqk6_m858"
      },
      "source": [
        "Now we see if both the train and test label distribution are similarly distributed by compating the ratios"
      ]
    },
    {
      "cell_type": "code",
      "execution_count": 22,
      "metadata": {
        "colab": {
          "base_uri": "https://localhost:8080/"
        },
        "id": "DQnSiqJtm859",
        "outputId": "4012be85-1735-4df0-edbb-d175f848b4de"
      },
      "outputs": [
        {
          "name": "stdout",
          "output_type": "stream",
          "text": [
            "train_counts_label [ 708  537 1395 1830  350  106 1229  869]\n",
            "test_counts_label [177 134 349 457  88  26 307 217]\n",
            "\n",
            "Label Distributions: \n",
            "\n",
            "[0.10079727 0.07645216 0.19860478 0.26053531 0.04982916 0.01509112\n",
            " 0.17497153 0.12371868]\n",
            "[0.1008547  0.07635328 0.1988604  0.26039886 0.05014245 0.01481481\n",
            " 0.17492877 0.12364672]\n"
          ]
        }
      ],
      "source": [
        "train_unique_label, train_counts_label = np.unique(original_ytrain, return_counts=True)\n",
        "test_unique_label, test_counts_label = np.unique(original_ytest, return_counts=True)\n",
        "print(\"train_counts_label %s\" % train_counts_label)\n",
        "print(\"test_counts_label %s\" % test_counts_label)\n",
        "print('\\nLabel Distributions: \\n')\n",
        "print(train_counts_label/ len(original_ytrain))\n",
        "print(test_counts_label/ len(original_ytest))"
      ]
    },
    {
      "cell_type": "markdown",
      "metadata": {
        "id": "eYXbUbwjm859"
      },
      "source": [
        "Using Naive Bayes classifier as a model for Stratified KFold. \n",
        "It is termed as ‘Naive’ because it assumes independence between every pair of features in the data.\n",
        "\n",
        "Build a custom function to pass our data splits to for training and testing."
      ]
    },
    {
      "cell_type": "code",
      "execution_count": 23,
      "metadata": {
        "id": "Vm25PEt7m859"
      },
      "outputs": [],
      "source": [
        "gnb = GaussianNB()\n",
        "dct = DecisionTreeClassifier()\n",
        "rt = RandomForestClassifier()"
      ]
    },
    {
      "cell_type": "code",
      "execution_count": 24,
      "metadata": {
        "id": "_OO6fk-Dm859"
      },
      "outputs": [],
      "source": [
        "def train_model(train, test, fold_no):\n",
        "    X_features = ['face-score','shirt-score','total','hats-score']\n",
        "    y_target_var = ['tier_encoded']\n",
        "    y_target_var = column_or_1d(y_target_var, warn = True)\n",
        "    X_train = train[X_features]\n",
        "    y_train = train[y_target_var]\n",
        "    X_test = test[X_features]\n",
        "    y_test = test[y_target_var]\n",
        "    gnb.fit(X_train,y_train)\n",
        "    dct.fit(X_train,y_train)\n",
        "    rt.fit(X_train,y_train)\n",
        "    predictions_gnb = gnb.predict(X_test)\n",
        "    predictions_dct = dct.predict(X_test)\n",
        "    predictions_rt = rt.predict(X_test)\n",
        "    print('Fold',str(fold_no),'Accuracy:',accuracy_score(y_test,predictions_gnb), accuracy_score(y_test,predictions_dct), accuracy_score(y_test,predictions_rt))"
      ]
    },
    {
      "cell_type": "code",
      "execution_count": 25,
      "metadata": {
        "colab": {
          "base_uri": "https://localhost:8080/"
        },
        "id": "xrNxMXGAm859",
        "outputId": "dba85215-c952-4b0c-cda4-43d69a588e3f"
      },
      "outputs": [
        {
          "name": "stdout",
          "output_type": "stream",
          "text": [
            "--------------------------------------------------\n"
          ]
        },
        {
          "name": "stderr",
          "output_type": "stream",
          "text": [
            "/usr/local/lib/python3.7/dist-packages/sklearn/utils/validation.py:993: DataConversionWarning: A column-vector y was passed when a 1d array was expected. Please change the shape of y to (n_samples, ), for example using ravel().\n",
            "  y = column_or_1d(y, warn=True)\n",
            "/usr/local/lib/python3.7/dist-packages/ipykernel_launcher.py:11: DataConversionWarning: A column-vector y was passed when a 1d array was expected. Please change the shape of y to (n_samples,), for example using ravel().\n",
            "  # This is added back by InteractiveShellApp.init_path()\n"
          ]
        },
        {
          "name": "stdout",
          "output_type": "stream",
          "text": [
            "Fold 1 Accuracy: 0.6110478359908884 0.8302961275626424 0.8610478359908884\n",
            "--------------------------------------------------\n"
          ]
        },
        {
          "name": "stderr",
          "output_type": "stream",
          "text": [
            "/usr/local/lib/python3.7/dist-packages/sklearn/utils/validation.py:993: DataConversionWarning: A column-vector y was passed when a 1d array was expected. Please change the shape of y to (n_samples, ), for example using ravel().\n",
            "  y = column_or_1d(y, warn=True)\n",
            "/usr/local/lib/python3.7/dist-packages/ipykernel_launcher.py:11: DataConversionWarning: A column-vector y was passed when a 1d array was expected. Please change the shape of y to (n_samples,), for example using ravel().\n",
            "  # This is added back by InteractiveShellApp.init_path()\n"
          ]
        },
        {
          "name": "stdout",
          "output_type": "stream",
          "text": [
            "Fold 2 Accuracy: 0.5876993166287016 0.8337129840546698 0.85250569476082\n",
            "--------------------------------------------------\n"
          ]
        },
        {
          "name": "stderr",
          "output_type": "stream",
          "text": [
            "/usr/local/lib/python3.7/dist-packages/sklearn/utils/validation.py:993: DataConversionWarning: A column-vector y was passed when a 1d array was expected. Please change the shape of y to (n_samples, ), for example using ravel().\n",
            "  y = column_or_1d(y, warn=True)\n",
            "/usr/local/lib/python3.7/dist-packages/ipykernel_launcher.py:11: DataConversionWarning: A column-vector y was passed when a 1d array was expected. Please change the shape of y to (n_samples,), for example using ravel().\n",
            "  # This is added back by InteractiveShellApp.init_path()\n"
          ]
        },
        {
          "name": "stdout",
          "output_type": "stream",
          "text": [
            "Fold 3 Accuracy: 0.6070615034168565 0.8308656036446469 0.8593394077448747\n",
            "--------------------------------------------------\n"
          ]
        },
        {
          "name": "stderr",
          "output_type": "stream",
          "text": [
            "/usr/local/lib/python3.7/dist-packages/sklearn/utils/validation.py:993: DataConversionWarning: A column-vector y was passed when a 1d array was expected. Please change the shape of y to (n_samples, ), for example using ravel().\n",
            "  y = column_or_1d(y, warn=True)\n",
            "/usr/local/lib/python3.7/dist-packages/ipykernel_launcher.py:11: DataConversionWarning: A column-vector y was passed when a 1d array was expected. Please change the shape of y to (n_samples,), for example using ravel().\n",
            "  # This is added back by InteractiveShellApp.init_path()\n"
          ]
        },
        {
          "name": "stdout",
          "output_type": "stream",
          "text": [
            "Fold 4 Accuracy: 0.6167425968109339 0.8354214123006833 0.8587699316628702\n",
            "--------------------------------------------------\n"
          ]
        },
        {
          "name": "stderr",
          "output_type": "stream",
          "text": [
            "/usr/local/lib/python3.7/dist-packages/sklearn/utils/validation.py:993: DataConversionWarning: A column-vector y was passed when a 1d array was expected. Please change the shape of y to (n_samples, ), for example using ravel().\n",
            "  y = column_or_1d(y, warn=True)\n",
            "/usr/local/lib/python3.7/dist-packages/ipykernel_launcher.py:11: DataConversionWarning: A column-vector y was passed when a 1d array was expected. Please change the shape of y to (n_samples,), for example using ravel().\n",
            "  # This is added back by InteractiveShellApp.init_path()\n"
          ]
        },
        {
          "name": "stdout",
          "output_type": "stream",
          "text": [
            "Fold 5 Accuracy: 0.6005698005698006 0.8267806267806268 0.852991452991453\n"
          ]
        }
      ],
      "source": [
        "fold_no = 1\n",
        "for train_index, test_index in skf.split(file_df, y_skf):\n",
        "    train = file_df.loc[train_index,:]\n",
        "    test = file_df.loc[test_index,:]\n",
        "    print('-'*50)\n",
        "    #print(test)\n",
        "    train_model(train,test,fold_no)\n",
        "    fold_no += 1"
      ]
    },
    {
      "cell_type": "markdown",
      "metadata": {
        "id": "W5rslkT0m859"
      },
      "source": [
        "`Hyperparameter Tuning`\n",
        "\n",
        "Using `GridSearchCV` to find the best parameters"
      ]
    },
    {
      "cell_type": "markdown",
      "metadata": {
        "id": "Qcc71OS2m859"
      },
      "source": [
        "GridSearchCV for Naive Bayes Algorithm"
      ]
    },
    {
      "cell_type": "code",
      "execution_count": 26,
      "metadata": {
        "id": "DpJqoISdm859"
      },
      "outputs": [],
      "source": [
        "param_grid_nb = {\n",
        "    'var_smoothing': np.logspace(0,-9, num=100)\n",
        "}"
      ]
    },
    {
      "cell_type": "markdown",
      "metadata": {
        "id": "eYw3AjqRm859"
      },
      "source": [
        "`var_smoothing` is a stability calculation to widen (or smooth) the curve and therefore account for more samples that are further away from the distribution mean. In this case, np.logspace returns numbers spaced evenly on a log scale, starts from 0, ends at -9, and generates 100 samples."
      ]
    },
    {
      "cell_type": "markdown",
      "metadata": {
        "id": "btNvKQi3m859"
      },
      "source": [
        "Parameters-\n",
        "1. estimator is the machine learning model of interest\n",
        "2. param_grid is a dictionary with parameter names (string) as keys and lists of parameter settings to try as values\n",
        "3. cv is the cross validation generator \n",
        "4. verbose is the verbosity: the higher, the more messages"
      ]
    },
    {
      "cell_type": "code",
      "execution_count": 27,
      "metadata": {
        "colab": {
          "base_uri": "https://localhost:8080/"
        },
        "id": "AS-CyEcCm859",
        "outputId": "c044b20f-c235-4263-ebca-b000ecfc6a5d"
      },
      "outputs": [
        {
          "name": "stdout",
          "output_type": "stream",
          "text": [
            "Fitting 10 folds for each of 100 candidates, totalling 1000 fits\n",
            "Single best score achieved across all params: \n",
            " 0.6187379687379687\n",
            "Dictionary of parameters (min_samples_split) used to generate that score \n",
            " {'var_smoothing': 4.328761281083062e-05}\n",
            "Best Estimator: \n",
            " GaussianNB(var_smoothing=4.328761281083062e-05)\n"
          ]
        }
      ],
      "source": [
        "gs_NB = GridSearchCV(estimator=gnb, param_grid=param_grid_nb, cv=10,verbose=1,scoring='accuracy')\n",
        "gs_NB.fit(original_Xtrain, original_ytrain)\n",
        "print('Single best score achieved across all params: \\n', gs_NB.best_score_)\n",
        "print('Dictionary of parameters (min_samples_split) used to generate that score \\n', gs_NB.best_params_)\n",
        "print('Best Estimator: \\n', gs_NB.best_estimator_)\n"
      ]
    },
    {
      "cell_type": "markdown",
      "metadata": {
        "id": "QExFY-ekm859"
      },
      "source": [
        "Using the best parameters obtained from GridSearchCV to trtain the Naive Bayes model."
      ]
    },
    {
      "cell_type": "code",
      "execution_count": null,
      "metadata": {
        "id": "kgLic_MKm859",
        "outputId": "2159c88b-5b21-4c8b-c094-c70c2516132a"
      },
      "outputs": [
        {
          "data": {
            "text/plain": [
              "GaussianNB(var_smoothing=4.328761281083062e-05)"
            ]
          },
          "execution_count": 180,
          "metadata": {},
          "output_type": "execute_result"
        }
      ],
      "source": [
        "gnb_1 = GaussianNB(var_smoothing = 4.328761281083062e-05)\n",
        "gnb_1.fit(original_Xtrain, original_ytrain)"
      ]
    },
    {
      "cell_type": "markdown",
      "metadata": {
        "id": "uPHqy3R0m859"
      },
      "source": [
        "Predictions and Accuracy score of the new Naive Bayes model"
      ]
    },
    {
      "cell_type": "code",
      "execution_count": null,
      "metadata": {
        "id": "YSIsytDym859",
        "outputId": "078f8bff-5ba4-43cd-90a7-8c88918c6369"
      },
      "outputs": [
        {
          "name": "stdout",
          "output_type": "stream",
          "text": [
            "Accuracy for Random Forest on CV data:  0.5920227920227921\n"
          ]
        }
      ],
      "source": [
        "predictions_gnb_1 = gnb_1.predict(original_Xtest)\n",
        "print(\"Accuracy for GaussianNB on CV data: \",accuracy_score(original_ytest,predictions_gnb_1))"
      ]
    },
    {
      "cell_type": "markdown",
      "metadata": {
        "id": "uUGH3uBRm85-"
      },
      "source": [
        "Using GridSearchCV on the Naive Bayes has not effectively increased the performance of the model. "
      ]
    },
    {
      "cell_type": "markdown",
      "metadata": {
        "id": "xeelfFo-m85-"
      },
      "source": [
        "GridSearchCV for Decision Tree Classifier"
      ]
    },
    {
      "cell_type": "code",
      "execution_count": null,
      "metadata": {
        "id": "GNzHt9ihm85-"
      },
      "outputs": [],
      "source": [
        "sample_split_range = list(range(2, 50))\n",
        "#param_grid = dict(min_samples_split=sample_split_range)\n",
        "#params = {'max_leaf_nodes': list(range(2, 100)), 'min_samples_split': [2, 3, 4]}\n",
        "param_grid = {'min_samples_split': sample_split_range,\n",
        "              #'max_features': ['auto', 'sqrt', 'log2'],\n",
        "              'ccp_alpha': [0.0, 0.1, .01, .001],\n",
        "              #'max_depth' : [5, 6, 7, 8, 9],\n",
        "              'criterion' :['gini', 'entropy']\n",
        "             }\n"
      ]
    },
    {
      "cell_type": "code",
      "execution_count": null,
      "metadata": {
        "id": "dU9iBq2fm85-",
        "outputId": "c205856c-a866-48b1-adea-0a6a29c26a12"
      },
      "outputs": [
        {
          "name": "stdout",
          "output_type": "stream",
          "text": [
            "Fitting 10 folds for each of 384 candidates, totalling 3840 fits\n"
          ]
        },
        {
          "data": {
            "text/plain": [
              "GridSearchCV(cv=10, estimator=DecisionTreeClassifier(random_state=42),\n",
              "             param_grid={'ccp_alpha': [0.0, 0.1, 0.01, 0.001],\n",
              "                         'criterion': ['gini', 'entropy'],\n",
              "                         'min_samples_split': [2, 3, 4, 5, 6, 7, 8, 9, 10, 11,\n",
              "                                               12, 13, 14, 15, 16, 17, 18, 19,\n",
              "                                               20, 21, 22, 23, 24, 25, 26, 27,\n",
              "                                               28, 29, 30, 31, ...]},\n",
              "             scoring='accuracy', verbose=1)"
            ]
          },
          "execution_count": 227,
          "metadata": {},
          "output_type": "execute_result"
        }
      ],
      "source": [
        "gs_dtc = GridSearchCV(DecisionTreeClassifier(random_state=42), param_grid, verbose=1, cv=10, scoring='accuracy')\n",
        "gs_dtc.fit(original_Xtrain, original_ytrain)"
      ]
    },
    {
      "cell_type": "code",
      "execution_count": null,
      "metadata": {
        "id": "DnKjtbNUm85-",
        "outputId": "1796e48c-0cd4-4c79-e745-d34af77bbb8e"
      },
      "outputs": [
        {
          "name": "stdout",
          "output_type": "stream",
          "text": [
            "Single best score achieved across all params: \n",
            " 0.8277398856346224\n",
            "Dictionary of parameters (min_samples_split) used to generate that score \n",
            " {'ccp_alpha': 0.0, 'criterion': 'gini', 'min_samples_split': 2}\n",
            "Best Estimator: \n",
            " DecisionTreeClassifier(random_state=42)\n"
          ]
        }
      ],
      "source": [
        "print('Single best score achieved across all params: \\n', gs_dtc.best_score_)\n",
        "print('Dictionary of parameters (min_samples_split) used to generate that score \\n', gs_dtc.best_params_)\n",
        "print('Best Estimator: \\n', gs_dtc.best_estimator_)"
      ]
    },
    {
      "cell_type": "markdown",
      "metadata": {
        "id": "w-QuhGuYm85-"
      },
      "source": [
        "We obtain a much better result with Decision tree compared to Gaussian Naive Bayes.\n",
        "Also we find that the best estimator model is using only one hyperparameter that is `random_state`\n",
        "\n",
        "Next, we will use this hyper parameter to train the model."
      ]
    },
    {
      "cell_type": "code",
      "execution_count": null,
      "metadata": {
        "id": "wxREyqPBm85-",
        "outputId": "abe5eed4-01cc-4b19-bcfd-32e2bcb3f3ca"
      },
      "outputs": [
        {
          "data": {
            "text/plain": [
              "DecisionTreeClassifier(random_state=42)"
            ]
          },
          "execution_count": 239,
          "metadata": {},
          "output_type": "execute_result"
        }
      ],
      "source": [
        "dct_1 = DecisionTreeClassifier(random_state=42)\n",
        "dct_1.fit(original_Xtrain, original_ytrain)"
      ]
    },
    {
      "cell_type": "code",
      "execution_count": null,
      "metadata": {
        "id": "P5MO_rqCm85-",
        "outputId": "3d692350-aef4-4842-9607-e318708e5d14"
      },
      "outputs": [
        {
          "name": "stdout",
          "output_type": "stream",
          "text": [
            "Accuracy for Decision Tree Clssifier on CV data:  0.8233618233618234\n"
          ]
        }
      ],
      "source": [
        "predictions_dct_1 = dct_1.predict(original_Xtest)\n",
        "print(\"Accuracy for Decision Tree Clssifier on CV data: \",accuracy_score(original_ytest,predictions_dct_1))"
      ]
    },
    {
      "cell_type": "markdown",
      "metadata": {
        "id": "miVlmmF8m85-"
      },
      "source": [
        "GridSearchCV for Random Forest Classifier"
      ]
    },
    {
      "cell_type": "code",
      "execution_count": null,
      "metadata": {
        "id": "WmpGiidSm85-"
      },
      "outputs": [],
      "source": [
        "param_grid = { \n",
        "    'n_estimators': [100, 500],\n",
        "    'max_features': ['auto', 'sqrt', 'log2'],\n",
        "    #'max_depth' : [4,5,6,7,8],\n",
        "    'criterion' :['gini', 'entropy']\n",
        "}"
      ]
    },
    {
      "cell_type": "code",
      "execution_count": null,
      "metadata": {
        "id": "lF0Nf-N_m85-",
        "outputId": "bdda8a0a-460a-4c8b-b460-e49c042ad8a1"
      },
      "outputs": [
        {
          "data": {
            "text/plain": [
              "GridSearchCV(cv=5, estimator=RandomForestClassifier(random_state=42),\n",
              "             param_grid={'criterion': ['gini', 'entropy'],\n",
              "                         'max_features': ['auto', 'sqrt', 'log2'],\n",
              "                         'n_estimators': [100, 500]},\n",
              "             scoring='accuracy')"
            ]
          },
          "execution_count": 251,
          "metadata": {},
          "output_type": "execute_result"
        }
      ],
      "source": [
        "gs_rfc = GridSearchCV(estimator=RandomForestClassifier(random_state=42), param_grid=param_grid, cv= 5,  scoring='accuracy')\n",
        "gs_rfc.fit(original_Xtrain, original_ytrain)\n",
        "gs_rfc"
      ]
    },
    {
      "cell_type": "code",
      "execution_count": null,
      "metadata": {
        "id": "Mu9UZ4sCm85-",
        "outputId": "cbc0c86d-cd18-4eff-e4c4-8f4c34c019f0"
      },
      "outputs": [
        {
          "name": "stdout",
          "output_type": "stream",
          "text": [
            "Single best score achieved across all params: \n",
            " 0.8404045381269579\n",
            "Dictionary of parameters (min_samples_split) used to generate that score \n",
            " {'criterion': 'entropy', 'max_features': 'auto', 'n_estimators': 100}\n",
            "Best Estimator: \n",
            " RandomForestClassifier(criterion='entropy', random_state=42)\n"
          ]
        }
      ],
      "source": [
        "print('Single best score achieved across all params: \\n', gs_rfc.best_score_)\n",
        "print('Dictionary of parameters (min_samples_split) used to generate that score \\n', gs_rfc.best_params_)\n",
        "print('Best Estimator: \\n', gs_rfc.best_estimator_)"
      ]
    },
    {
      "cell_type": "markdown",
      "metadata": {
        "id": "7gdvFMSOm85-"
      },
      "source": [
        "The performance of Random Forest is slightly better than Decision Tree though it takes a considerable amount of computation time.\n",
        "\n",
        "Also hyperparameter tuning doesn’t always have a huge impact on performance."
      ]
    },
    {
      "cell_type": "code",
      "execution_count": null,
      "metadata": {
        "id": "w7Jz7jnjm85-",
        "outputId": "0b8b3fa8-a548-4c63-f5a5-58987d669d29"
      },
      "outputs": [
        {
          "data": {
            "text/plain": [
              "RandomForestClassifier(criterion='entropy', random_state=42)"
            ]
          },
          "execution_count": 254,
          "metadata": {},
          "output_type": "execute_result"
        }
      ],
      "source": [
        "rf_1 = RandomForestClassifier(criterion='entropy',random_state=42)\n",
        "rf_1.fit(original_Xtrain, original_ytrain)"
      ]
    },
    {
      "cell_type": "code",
      "execution_count": null,
      "metadata": {
        "id": "Ls_RKqBBm85-",
        "outputId": "fb8ee8f0-6917-41f8-edec-26c9d960fddf"
      },
      "outputs": [
        {
          "name": "stdout",
          "output_type": "stream",
          "text": [
            "Accuracy for Random Forest Clssifier on CV data:  0.8358974358974359\n"
          ]
        }
      ],
      "source": [
        "predictions_rf_1 = rf_1.predict(original_Xtest)\n",
        "print(\"Accuracy for Random Forest Clssifier on CV data: \",accuracy_score(original_ytest,predictions_rf_1))"
      ]
    },
    {
      "cell_type": "markdown",
      "metadata": {
        "id": "6Mt3zzXAm85-"
      },
      "source": [
        "Multiclass ROC curve for multiple models"
      ]
    },
    {
      "cell_type": "code",
      "execution_count": null,
      "metadata": {
        "id": "6d_6zokVm85-"
      },
      "outputs": [],
      "source": []
    },
    {
      "cell_type": "markdown",
      "metadata": {
        "id": "-PqnO0Dam85-"
      },
      "source": [
        "In this section, we implement a `Neural Network` in order to see whether it has a better performance than the previous implemented models."
      ]
    },
    {
      "cell_type": "code",
      "execution_count": 83,
      "metadata": {
        "id": "qVfDl5lk735L"
      },
      "outputs": [],
      "source": [
        "X_nn = file_df[['rank','face-score','shirt-score','total','hats-score']] #.drop('total', axis = 1)\n",
        "y_nn = file_df['tier']"
      ]
    },
    {
      "cell_type": "markdown",
      "metadata": {
        "id": "EkF1RXpf8Dwb"
      },
      "source": [
        "Normalize features within range 0 (minimum) and 1 (maximum)"
      ]
    },
    {
      "cell_type": "code",
      "execution_count": 84,
      "metadata": {
        "id": "nccFsSyx7984"
      },
      "outputs": [],
      "source": [
        "scaler = MinMaxScaler(feature_range=(0, 1))\n",
        "X_nn = scaler.fit_transform(X)\n",
        "X_nn = pd.DataFrame(X_nn)"
      ]
    },
    {
      "cell_type": "markdown",
      "metadata": {
        "id": "CpTYKlnC8Rfj"
      },
      "source": [
        "Convert target Y to one hot encoded Y for Neural Network"
      ]
    },
    {
      "cell_type": "code",
      "execution_count": 88,
      "metadata": {
        "id": "yp84zWCM8Qy1"
      },
      "outputs": [],
      "source": [
        "encoder = LabelEncoder()\n",
        "encoder.fit(y_nn)\n",
        "y_nn = encoder.transform(y_nn)\n",
        "y_nn = tf.keras.utils.to_categorical(y_nn)"
      ]
    },
    {
      "cell_type": "code",
      "execution_count": 89,
      "metadata": {
        "colab": {
          "base_uri": "https://localhost:8080/"
        },
        "id": "WFAs1NNJ9k0u",
        "outputId": "f6388564-32ed-43dd-f8d9-0918c8b3155b"
      },
      "outputs": [
        {
          "data": {
            "text/plain": [
              "array([[0., 0., 0., ..., 0., 1., 0.],\n",
              "       [0., 0., 0., ..., 0., 0., 0.],\n",
              "       [0., 0., 1., ..., 0., 0., 0.],\n",
              "       ...,\n",
              "       [0., 0., 0., ..., 0., 0., 1.],\n",
              "       [0., 0., 0., ..., 0., 1., 0.],\n",
              "       [0., 0., 0., ..., 0., 0., 0.]], dtype=float32)"
            ]
          },
          "execution_count": 89,
          "metadata": {},
          "output_type": "execute_result"
        }
      ],
      "source": [
        "y_nn"
      ]
    },
    {
      "cell_type": "code",
      "execution_count": 121,
      "metadata": {
        "id": "OitcXX8hKgF4"
      },
      "outputs": [],
      "source": [
        "X_nn_train, X_nn_test, y_nn_train, y_nn_test = train_test_split(X_nn.values, y_nn, test_size=0.2)\n"
      ]
    },
    {
      "cell_type": "code",
      "execution_count": 90,
      "metadata": {
        "colab": {
          "base_uri": "https://localhost:8080/"
        },
        "id": "8JQw9_vEm85-",
        "outputId": "c3464f74-31dc-429d-ad2d-192b140fca12"
      },
      "outputs": [
        {
          "data": {
            "text/plain": [
              "5"
            ]
          },
          "execution_count": 90,
          "metadata": {},
          "output_type": "execute_result"
        }
      ],
      "source": [
        "n_inputs = X_nn.shape[1]\n",
        "n_inputs"
      ]
    },
    {
      "cell_type": "code",
      "execution_count": 91,
      "metadata": {
        "colab": {
          "base_uri": "https://localhost:8080/"
        },
        "id": "ZJWd-d4o2Kjk",
        "outputId": "325dfae6-c44b-4e9b-db45-a9d593fe958c"
      },
      "outputs": [
        {
          "data": {
            "text/plain": [
              "((8779, 5), (8779, 8))"
            ]
          },
          "execution_count": 91,
          "metadata": {},
          "output_type": "execute_result"
        }
      ],
      "source": [
        "X_nn.shape, y_nn.shape"
      ]
    },
    {
      "cell_type": "code",
      "execution_count": 129,
      "metadata": {
        "id": "xHk1ZVcQm85_"
      },
      "outputs": [],
      "source": [
        "epochs = 100\n",
        "learning_rate = 0.01\n",
        "optimizer = adam_v2.Adam(learning_rate=learning_rate, decay=learning_rate/epochs)    \n",
        "nn_model = Sequential([\n",
        "    Dense(n_inputs, input_shape=(n_inputs, ), activation='relu'),\n",
        "    Dense(32, activation='relu'),\n",
        "    Dense(y_nn.shape[1], activation='softmax')\n",
        "])"
      ]
    },
    {
      "cell_type": "code",
      "execution_count": 130,
      "metadata": {
        "colab": {
          "base_uri": "https://localhost:8080/"
        },
        "id": "3On8uKNH1g8X",
        "outputId": "72a7e728-2693-443d-e500-793e510a9b60"
      },
      "outputs": [
        {
          "name": "stdout",
          "output_type": "stream",
          "text": [
            "Model: \"sequential_22\"\n",
            "_________________________________________________________________\n",
            " Layer (type)                Output Shape              Param #   \n",
            "=================================================================\n",
            " dense_57 (Dense)            (None, 5)                 30        \n",
            "                                                                 \n",
            " dense_58 (Dense)            (None, 32)                192       \n",
            "                                                                 \n",
            " dense_59 (Dense)            (None, 8)                 264       \n",
            "                                                                 \n",
            "=================================================================\n",
            "Total params: 486\n",
            "Trainable params: 486\n",
            "Non-trainable params: 0\n",
            "_________________________________________________________________\n"
          ]
        }
      ],
      "source": [
        "nn_model.summary()"
      ]
    },
    {
      "cell_type": "code",
      "execution_count": 131,
      "metadata": {
        "id": "8Rf259Hw1sej"
      },
      "outputs": [],
      "source": [
        "nn_model.compile(optimizer = optimizer, loss =\"categorical_crossentropy\", metrics = [\"accuracy\"])"
      ]
    },
    {
      "cell_type": "code",
      "execution_count": 132,
      "metadata": {
        "colab": {
          "base_uri": "https://localhost:8080/"
        },
        "id": "vIRRy4zR0UkL",
        "outputId": "314a8953-975f-4330-ca05-1c61839a9fe7"
      },
      "outputs": [
        {
          "name": "stdout",
          "output_type": "stream",
          "text": [
            "Epoch 1/100\n"
          ]
        },
        {
          "name": "stderr",
          "output_type": "stream",
          "text": [
            "/usr/local/lib/python3.7/dist-packages/tensorflow/python/data/ops/structured_function.py:265: UserWarning: Even though the `tf.config.experimental_run_functions_eagerly` option is set, this option does not apply to tf.data functions. To force eager execution of tf.data functions, please use `tf.data.experimental.enable_debug_mode()`.\n",
            "  \"Even though the `tf.config.experimental_run_functions_eagerly` \"\n"
          ]
        },
        {
          "name": "stdout",
          "output_type": "stream",
          "text": [
            "225/225 - 4s - loss: 1.1081 - accuracy: 0.5062 - val_loss: 0.8471 - val_accuracy: 0.6142 - 4s/epoch - 18ms/step\n",
            "Epoch 2/100\n",
            "225/225 - 4s - loss: 0.8193 - accuracy: 0.5993 - val_loss: 0.7885 - val_accuracy: 0.6356 - 4s/epoch - 17ms/step\n",
            "Epoch 3/100\n",
            "225/225 - 4s - loss: 0.7926 - accuracy: 0.6168 - val_loss: 0.7976 - val_accuracy: 0.5851 - 4s/epoch - 17ms/step\n",
            "Epoch 4/100\n",
            "225/225 - 4s - loss: 0.7784 - accuracy: 0.6305 - val_loss: 0.7836 - val_accuracy: 0.6270 - 4s/epoch - 17ms/step\n",
            "Epoch 5/100\n",
            "225/225 - 4s - loss: 0.7676 - accuracy: 0.6347 - val_loss: 0.7707 - val_accuracy: 0.6377 - 4s/epoch - 18ms/step\n",
            "Epoch 6/100\n",
            "225/225 - 4s - loss: 0.7615 - accuracy: 0.6323 - val_loss: 0.7642 - val_accuracy: 0.6413 - 4s/epoch - 18ms/step\n",
            "Epoch 7/100\n",
            "225/225 - 5s - loss: 0.7476 - accuracy: 0.6424 - val_loss: 0.7646 - val_accuracy: 0.6427 - 5s/epoch - 21ms/step\n",
            "Epoch 8/100\n",
            "225/225 - 4s - loss: 0.7440 - accuracy: 0.6385 - val_loss: 0.7760 - val_accuracy: 0.6413 - 4s/epoch - 17ms/step\n",
            "Epoch 9/100\n",
            "225/225 - 4s - loss: 0.7371 - accuracy: 0.6502 - val_loss: 0.7336 - val_accuracy: 0.6484 - 4s/epoch - 17ms/step\n",
            "Epoch 10/100\n",
            "225/225 - 4s - loss: 0.7333 - accuracy: 0.6442 - val_loss: 0.7597 - val_accuracy: 0.6363 - 4s/epoch - 17ms/step\n",
            "Epoch 11/100\n",
            "225/225 - 4s - loss: 0.7218 - accuracy: 0.6577 - val_loss: 0.7335 - val_accuracy: 0.6520 - 4s/epoch - 17ms/step\n",
            "Epoch 12/100\n",
            "225/225 - 4s - loss: 0.7137 - accuracy: 0.6570 - val_loss: 0.7701 - val_accuracy: 0.6520 - 4s/epoch - 17ms/step\n",
            "Epoch 13/100\n",
            "225/225 - 5s - loss: 0.7023 - accuracy: 0.6655 - val_loss: 0.7008 - val_accuracy: 0.6747 - 5s/epoch - 20ms/step\n",
            "Epoch 14/100\n",
            "225/225 - 4s - loss: 0.6903 - accuracy: 0.6671 - val_loss: 0.6904 - val_accuracy: 0.6769 - 4s/epoch - 17ms/step\n",
            "Epoch 15/100\n",
            "225/225 - 4s - loss: 0.6882 - accuracy: 0.6705 - val_loss: 0.6943 - val_accuracy: 0.6769 - 4s/epoch - 17ms/step\n",
            "Epoch 16/100\n",
            "225/225 - 4s - loss: 0.6754 - accuracy: 0.6798 - val_loss: 0.6922 - val_accuracy: 0.6633 - 4s/epoch - 17ms/step\n",
            "Epoch 17/100\n",
            "225/225 - 4s - loss: 0.6722 - accuracy: 0.6807 - val_loss: 0.6818 - val_accuracy: 0.6890 - 4s/epoch - 17ms/step\n",
            "Epoch 18/100\n",
            "225/225 - 4s - loss: 0.6729 - accuracy: 0.6826 - val_loss: 0.6771 - val_accuracy: 0.6826 - 4s/epoch - 17ms/step\n",
            "Epoch 19/100\n",
            "225/225 - 5s - loss: 0.6622 - accuracy: 0.6871 - val_loss: 0.6711 - val_accuracy: 0.6819 - 5s/epoch - 21ms/step\n",
            "Epoch 20/100\n",
            "225/225 - 4s - loss: 0.6591 - accuracy: 0.6912 - val_loss: 0.6705 - val_accuracy: 0.6769 - 4s/epoch - 18ms/step\n",
            "Epoch 21/100\n",
            "225/225 - 4s - loss: 0.6554 - accuracy: 0.6881 - val_loss: 0.6547 - val_accuracy: 0.6861 - 4s/epoch - 17ms/step\n",
            "Epoch 22/100\n",
            "225/225 - 4s - loss: 0.6517 - accuracy: 0.6906 - val_loss: 0.6650 - val_accuracy: 0.6819 - 4s/epoch - 17ms/step\n",
            "Epoch 23/100\n",
            "225/225 - 4s - loss: 0.6460 - accuracy: 0.6949 - val_loss: 0.6420 - val_accuracy: 0.6961 - 4s/epoch - 17ms/step\n",
            "Epoch 24/100\n",
            "225/225 - 4s - loss: 0.6441 - accuracy: 0.6962 - val_loss: 0.6586 - val_accuracy: 0.7039 - 4s/epoch - 17ms/step\n",
            "Epoch 25/100\n",
            "225/225 - 4s - loss: 0.6400 - accuracy: 0.6922 - val_loss: 0.6406 - val_accuracy: 0.6918 - 4s/epoch - 17ms/step\n",
            "Epoch 26/100\n",
            "225/225 - 4s - loss: 0.6397 - accuracy: 0.6935 - val_loss: 0.6657 - val_accuracy: 0.6868 - 4s/epoch - 17ms/step\n",
            "Epoch 27/100\n",
            "225/225 - 4s - loss: 0.6371 - accuracy: 0.6988 - val_loss: 0.6598 - val_accuracy: 0.6698 - 4s/epoch - 17ms/step\n",
            "Epoch 28/100\n",
            "225/225 - 4s - loss: 0.6333 - accuracy: 0.7006 - val_loss: 0.6310 - val_accuracy: 0.6954 - 4s/epoch - 17ms/step\n",
            "Epoch 29/100\n",
            "225/225 - 4s - loss: 0.6361 - accuracy: 0.7020 - val_loss: 0.6333 - val_accuracy: 0.6904 - 4s/epoch - 17ms/step\n",
            "Epoch 30/100\n",
            "225/225 - 4s - loss: 0.6314 - accuracy: 0.6999 - val_loss: 0.6361 - val_accuracy: 0.7004 - 4s/epoch - 17ms/step\n",
            "Epoch 31/100\n",
            "225/225 - 4s - loss: 0.6257 - accuracy: 0.7075 - val_loss: 0.6364 - val_accuracy: 0.6947 - 4s/epoch - 18ms/step\n",
            "Epoch 32/100\n",
            "225/225 - 4s - loss: 0.6222 - accuracy: 0.7068 - val_loss: 0.6609 - val_accuracy: 0.6961 - 4s/epoch - 17ms/step\n",
            "Epoch 33/100\n",
            "225/225 - 4s - loss: 0.6263 - accuracy: 0.7033 - val_loss: 0.6257 - val_accuracy: 0.7146 - 4s/epoch - 17ms/step\n",
            "Epoch 34/100\n",
            "225/225 - 4s - loss: 0.6189 - accuracy: 0.7132 - val_loss: 0.6373 - val_accuracy: 0.6897 - 4s/epoch - 18ms/step\n",
            "Epoch 35/100\n",
            "225/225 - 4s - loss: 0.6168 - accuracy: 0.7113 - val_loss: 0.6172 - val_accuracy: 0.7267 - 4s/epoch - 18ms/step\n",
            "Epoch 36/100\n",
            "225/225 - 4s - loss: 0.6115 - accuracy: 0.7163 - val_loss: 0.6023 - val_accuracy: 0.7281 - 4s/epoch - 18ms/step\n",
            "Epoch 37/100\n",
            "225/225 - 4s - loss: 0.6212 - accuracy: 0.7154 - val_loss: 0.6389 - val_accuracy: 0.7039 - 4s/epoch - 18ms/step\n",
            "Epoch 38/100\n",
            "225/225 - 4s - loss: 0.6090 - accuracy: 0.7188 - val_loss: 0.6126 - val_accuracy: 0.7132 - 4s/epoch - 17ms/step\n",
            "Epoch 39/100\n",
            "225/225 - 4s - loss: 0.6113 - accuracy: 0.7191 - val_loss: 0.5954 - val_accuracy: 0.7381 - 4s/epoch - 17ms/step\n",
            "Epoch 40/100\n",
            "225/225 - 4s - loss: 0.6022 - accuracy: 0.7216 - val_loss: 0.6105 - val_accuracy: 0.7224 - 4s/epoch - 18ms/step\n",
            "Epoch 41/100\n",
            "225/225 - 4s - loss: 0.6042 - accuracy: 0.7172 - val_loss: 0.6011 - val_accuracy: 0.7146 - 4s/epoch - 17ms/step\n",
            "Epoch 42/100\n",
            "225/225 - 5s - loss: 0.6013 - accuracy: 0.7188 - val_loss: 0.5940 - val_accuracy: 0.7374 - 5s/epoch - 22ms/step\n",
            "Epoch 43/100\n",
            "225/225 - 4s - loss: 0.5990 - accuracy: 0.7261 - val_loss: 0.5904 - val_accuracy: 0.7246 - 4s/epoch - 18ms/step\n",
            "Epoch 44/100\n",
            "225/225 - 4s - loss: 0.5930 - accuracy: 0.7284 - val_loss: 0.5958 - val_accuracy: 0.7310 - 4s/epoch - 18ms/step\n",
            "Epoch 45/100\n",
            "225/225 - 4s - loss: 0.5914 - accuracy: 0.7309 - val_loss: 0.6198 - val_accuracy: 0.7117 - 4s/epoch - 18ms/step\n",
            "Epoch 46/100\n",
            "225/225 - 4s - loss: 0.5933 - accuracy: 0.7273 - val_loss: 0.5878 - val_accuracy: 0.7324 - 4s/epoch - 17ms/step\n",
            "Epoch 47/100\n",
            "225/225 - 4s - loss: 0.5884 - accuracy: 0.7326 - val_loss: 0.5814 - val_accuracy: 0.7395 - 4s/epoch - 17ms/step\n",
            "Epoch 48/100\n",
            "225/225 - 4s - loss: 0.5846 - accuracy: 0.7332 - val_loss: 0.5824 - val_accuracy: 0.7345 - 4s/epoch - 17ms/step\n",
            "Epoch 49/100\n",
            "225/225 - 4s - loss: 0.5917 - accuracy: 0.7245 - val_loss: 0.5712 - val_accuracy: 0.7423 - 4s/epoch - 18ms/step\n",
            "Epoch 50/100\n",
            "225/225 - 4s - loss: 0.5797 - accuracy: 0.7342 - val_loss: 0.5704 - val_accuracy: 0.7466 - 4s/epoch - 18ms/step\n",
            "Epoch 51/100\n",
            "225/225 - 4s - loss: 0.5758 - accuracy: 0.7375 - val_loss: 0.5690 - val_accuracy: 0.7488 - 4s/epoch - 18ms/step\n",
            "Epoch 52/100\n",
            "225/225 - 4s - loss: 0.5716 - accuracy: 0.7417 - val_loss: 0.5716 - val_accuracy: 0.7516 - 4s/epoch - 18ms/step\n",
            "Epoch 53/100\n",
            "225/225 - 4s - loss: 0.5742 - accuracy: 0.7392 - val_loss: 0.5876 - val_accuracy: 0.7267 - 4s/epoch - 18ms/step\n",
            "Epoch 54/100\n",
            "225/225 - 4s - loss: 0.5666 - accuracy: 0.7439 - val_loss: 0.5760 - val_accuracy: 0.7480 - 4s/epoch - 18ms/step\n",
            "Epoch 55/100\n",
            "225/225 - 4s - loss: 0.5653 - accuracy: 0.7396 - val_loss: 0.5574 - val_accuracy: 0.7594 - 4s/epoch - 17ms/step\n",
            "Epoch 56/100\n",
            "225/225 - 4s - loss: 0.5571 - accuracy: 0.7510 - val_loss: 0.5561 - val_accuracy: 0.7587 - 4s/epoch - 17ms/step\n",
            "Epoch 57/100\n",
            "225/225 - 4s - loss: 0.5557 - accuracy: 0.7542 - val_loss: 0.5513 - val_accuracy: 0.7537 - 4s/epoch - 18ms/step\n",
            "Epoch 58/100\n",
            "225/225 - 4s - loss: 0.5517 - accuracy: 0.7570 - val_loss: 0.5566 - val_accuracy: 0.7673 - 4s/epoch - 17ms/step\n",
            "Epoch 59/100\n",
            "225/225 - 4s - loss: 0.5444 - accuracy: 0.7590 - val_loss: 0.5865 - val_accuracy: 0.7253 - 4s/epoch - 18ms/step\n",
            "Epoch 60/100\n",
            "225/225 - 4s - loss: 0.5469 - accuracy: 0.7577 - val_loss: 0.5353 - val_accuracy: 0.7758 - 4s/epoch - 18ms/step\n",
            "Epoch 61/100\n",
            "225/225 - 4s - loss: 0.5396 - accuracy: 0.7624 - val_loss: 0.5605 - val_accuracy: 0.7431 - 4s/epoch - 18ms/step\n",
            "Epoch 62/100\n",
            "225/225 - 4s - loss: 0.5352 - accuracy: 0.7668 - val_loss: 0.5516 - val_accuracy: 0.7708 - 4s/epoch - 17ms/step\n",
            "Epoch 63/100\n",
            "225/225 - 4s - loss: 0.5375 - accuracy: 0.7645 - val_loss: 0.5270 - val_accuracy: 0.7779 - 4s/epoch - 18ms/step\n",
            "Epoch 64/100\n",
            "225/225 - 4s - loss: 0.5359 - accuracy: 0.7602 - val_loss: 0.5233 - val_accuracy: 0.7708 - 4s/epoch - 18ms/step\n",
            "Epoch 65/100\n",
            "225/225 - 4s - loss: 0.5266 - accuracy: 0.7679 - val_loss: 0.5278 - val_accuracy: 0.7858 - 4s/epoch - 18ms/step\n",
            "Epoch 66/100\n",
            "225/225 - 4s - loss: 0.5230 - accuracy: 0.7732 - val_loss: 0.5271 - val_accuracy: 0.7751 - 4s/epoch - 18ms/step\n",
            "Epoch 67/100\n",
            "225/225 - 4s - loss: 0.5193 - accuracy: 0.7752 - val_loss: 0.5294 - val_accuracy: 0.7751 - 4s/epoch - 17ms/step\n",
            "Epoch 68/100\n",
            "225/225 - 4s - loss: 0.5201 - accuracy: 0.7722 - val_loss: 0.5099 - val_accuracy: 0.7836 - 4s/epoch - 17ms/step\n",
            "Epoch 69/100\n",
            "225/225 - 4s - loss: 0.5140 - accuracy: 0.7755 - val_loss: 0.5037 - val_accuracy: 0.8000 - 4s/epoch - 17ms/step\n",
            "Epoch 70/100\n",
            "225/225 - 4s - loss: 0.5080 - accuracy: 0.7825 - val_loss: 0.4951 - val_accuracy: 0.7964 - 4s/epoch - 17ms/step\n",
            "Epoch 71/100\n",
            "225/225 - 4s - loss: 0.5030 - accuracy: 0.7811 - val_loss: 0.5094 - val_accuracy: 0.7794 - 4s/epoch - 17ms/step\n",
            "Epoch 72/100\n",
            "225/225 - 4s - loss: 0.5014 - accuracy: 0.7866 - val_loss: 0.4896 - val_accuracy: 0.7964 - 4s/epoch - 17ms/step\n",
            "Epoch 73/100\n",
            "225/225 - 4s - loss: 0.4985 - accuracy: 0.7884 - val_loss: 0.4869 - val_accuracy: 0.8043 - 4s/epoch - 17ms/step\n",
            "Epoch 74/100\n",
            "225/225 - 4s - loss: 0.5015 - accuracy: 0.7802 - val_loss: 0.4878 - val_accuracy: 0.8028 - 4s/epoch - 17ms/step\n",
            "Epoch 75/100\n",
            "225/225 - 4s - loss: 0.4881 - accuracy: 0.7948 - val_loss: 0.4737 - val_accuracy: 0.8171 - 4s/epoch - 17ms/step\n",
            "Epoch 76/100\n",
            "225/225 - 4s - loss: 0.4870 - accuracy: 0.7937 - val_loss: 0.4893 - val_accuracy: 0.7936 - 4s/epoch - 17ms/step\n",
            "Epoch 77/100\n",
            "225/225 - 4s - loss: 0.4848 - accuracy: 0.7935 - val_loss: 0.4728 - val_accuracy: 0.8064 - 4s/epoch - 17ms/step\n",
            "Epoch 78/100\n",
            "225/225 - 4s - loss: 0.4805 - accuracy: 0.7960 - val_loss: 0.4699 - val_accuracy: 0.8128 - 4s/epoch - 18ms/step\n",
            "Epoch 79/100\n",
            "225/225 - 4s - loss: 0.4766 - accuracy: 0.7983 - val_loss: 0.4868 - val_accuracy: 0.7943 - 4s/epoch - 17ms/step\n",
            "Epoch 80/100\n",
            "225/225 - 4s - loss: 0.4686 - accuracy: 0.8074 - val_loss: 0.4663 - val_accuracy: 0.8178 - 4s/epoch - 18ms/step\n",
            "Epoch 81/100\n",
            "225/225 - 4s - loss: 0.4596 - accuracy: 0.8129 - val_loss: 0.4501 - val_accuracy: 0.8221 - 4s/epoch - 18ms/step\n",
            "Epoch 82/100\n",
            "225/225 - 4s - loss: 0.4562 - accuracy: 0.8151 - val_loss: 0.4605 - val_accuracy: 0.8114 - 4s/epoch - 17ms/step\n",
            "Epoch 83/100\n",
            "225/225 - 4s - loss: 0.4550 - accuracy: 0.8140 - val_loss: 0.4438 - val_accuracy: 0.8399 - 4s/epoch - 17ms/step\n",
            "Epoch 84/100\n",
            "225/225 - 4s - loss: 0.4480 - accuracy: 0.8176 - val_loss: 0.4424 - val_accuracy: 0.8313 - 4s/epoch - 18ms/step\n",
            "Epoch 85/100\n",
            "225/225 - 4s - loss: 0.4463 - accuracy: 0.8232 - val_loss: 0.4375 - val_accuracy: 0.8384 - 4s/epoch - 18ms/step\n",
            "Epoch 86/100\n",
            "225/225 - 4s - loss: 0.4459 - accuracy: 0.8193 - val_loss: 0.5141 - val_accuracy: 0.7516 - 4s/epoch - 18ms/step\n",
            "Epoch 87/100\n",
            "225/225 - 4s - loss: 0.4426 - accuracy: 0.8192 - val_loss: 0.4372 - val_accuracy: 0.8441 - 4s/epoch - 17ms/step\n",
            "Epoch 88/100\n",
            "225/225 - 4s - loss: 0.4382 - accuracy: 0.8206 - val_loss: 0.4212 - val_accuracy: 0.8505 - 4s/epoch - 17ms/step\n",
            "Epoch 89/100\n",
            "225/225 - 4s - loss: 0.4275 - accuracy: 0.8314 - val_loss: 0.4189 - val_accuracy: 0.8470 - 4s/epoch - 17ms/step\n",
            "Epoch 90/100\n",
            "225/225 - 4s - loss: 0.4308 - accuracy: 0.8263 - val_loss: 0.4326 - val_accuracy: 0.8441 - 4s/epoch - 18ms/step\n",
            "Epoch 91/100\n",
            "225/225 - 4s - loss: 0.4245 - accuracy: 0.8275 - val_loss: 0.4241 - val_accuracy: 0.8263 - 4s/epoch - 17ms/step\n",
            "Epoch 92/100\n",
            "225/225 - 4s - loss: 0.4176 - accuracy: 0.8389 - val_loss: 0.4143 - val_accuracy: 0.8548 - 4s/epoch - 18ms/step\n",
            "Epoch 93/100\n",
            "225/225 - 4s - loss: 0.4150 - accuracy: 0.8380 - val_loss: 0.4302 - val_accuracy: 0.8313 - 4s/epoch - 17ms/step\n",
            "Epoch 94/100\n",
            "225/225 - 4s - loss: 0.4170 - accuracy: 0.8325 - val_loss: 0.4055 - val_accuracy: 0.8505 - 4s/epoch - 17ms/step\n",
            "Epoch 95/100\n",
            "225/225 - 4s - loss: 0.4109 - accuracy: 0.8384 - val_loss: 0.4191 - val_accuracy: 0.8470 - 4s/epoch - 18ms/step\n",
            "Epoch 96/100\n",
            "225/225 - 4s - loss: 0.4043 - accuracy: 0.8444 - val_loss: 0.4036 - val_accuracy: 0.8569 - 4s/epoch - 17ms/step\n",
            "Epoch 97/100\n",
            "225/225 - 4s - loss: 0.4027 - accuracy: 0.8426 - val_loss: 0.4110 - val_accuracy: 0.8520 - 4s/epoch - 18ms/step\n",
            "Epoch 98/100\n",
            "225/225 - 4s - loss: 0.3953 - accuracy: 0.8466 - val_loss: 0.3888 - val_accuracy: 0.8662 - 4s/epoch - 17ms/step\n",
            "Epoch 99/100\n",
            "225/225 - 4s - loss: 0.3943 - accuracy: 0.8428 - val_loss: 0.4018 - val_accuracy: 0.8484 - 4s/epoch - 18ms/step\n",
            "Epoch 100/100\n",
            "225/225 - 4s - loss: 0.3871 - accuracy: 0.8475 - val_loss: 0.4581 - val_accuracy: 0.8021 - 4s/epoch - 18ms/step\n"
          ]
        },
        {
          "data": {
            "text/plain": [
              "<keras.callbacks.History at 0x7fb8d370bf10>"
            ]
          },
          "execution_count": 132,
          "metadata": {},
          "output_type": "execute_result"
        }
      ],
      "source": [
        "nn_model.fit(X_nn_train, y_nn_train, validation_split=0.2, batch_size=25, epochs=100, shuffle=True, verbose=2) "
      ]
    },
    {
      "cell_type": "code",
      "execution_count": 133,
      "metadata": {
        "colab": {
          "base_uri": "https://localhost:8080/",
          "height": 168
        },
        "id": "MNjB17uym85_",
        "outputId": "ad56f5f5-c34b-4601-ac06-73ad6d855000"
      },
      "outputs": [
        {
          "ename": "AttributeError",
          "evalue": "ignored",
          "output_type": "error",
          "traceback": [
            "\u001b[0;31m---------------------------------------------------------------------------\u001b[0m",
            "\u001b[0;31mAttributeError\u001b[0m                            Traceback (most recent call last)",
            "\u001b[0;32m<ipython-input-133-0bd901c996f0>\u001b[0m in \u001b[0;36m<module>\u001b[0;34m()\u001b[0m\n\u001b[0;32m----> 1\u001b[0;31m \u001b[0my_pred_class\u001b[0m \u001b[0;34m=\u001b[0m \u001b[0mnn_model\u001b[0m\u001b[0;34m.\u001b[0m\u001b[0mpredict_classes\u001b[0m\u001b[0;34m(\u001b[0m\u001b[0mX_nn_test\u001b[0m\u001b[0;34m)\u001b[0m\u001b[0;34m\u001b[0m\u001b[0;34m\u001b[0m\u001b[0m\n\u001b[0m",
            "\u001b[0;31mAttributeError\u001b[0m: 'Sequential' object has no attribute 'predict_classes'"
          ]
        }
      ],
      "source": [
        "y_pred_class = nn_model.predict_classes(X_nn_test)"
      ]
    },
    {
      "cell_type": "code",
      "execution_count": 134,
      "metadata": {
        "colab": {
          "base_uri": "https://localhost:8080/",
          "height": 391
        },
        "id": "M7GbMPXUm85_",
        "outputId": "67567b90-8764-4847-bf1b-4dec45923f56"
      },
      "outputs": [
        {
          "name": "stderr",
          "output_type": "stream",
          "text": [
            "/usr/local/lib/python3.7/dist-packages/tensorflow/python/data/ops/structured_function.py:265: UserWarning: Even though the `tf.config.experimental_run_functions_eagerly` option is set, this option does not apply to tf.data functions. To force eager execution of tf.data functions, please use `tf.data.experimental.enable_debug_mode()`.\n",
            "  \"Even though the `tf.config.experimental_run_functions_eagerly` \"\n"
          ]
        },
        {
          "ename": "ValueError",
          "evalue": "ignored",
          "output_type": "error",
          "traceback": [
            "\u001b[0;31m---------------------------------------------------------------------------\u001b[0m",
            "\u001b[0;31mValueError\u001b[0m                                Traceback (most recent call last)",
            "\u001b[0;32m<ipython-input-134-a1d7c890feee>\u001b[0m in \u001b[0;36m<module>\u001b[0;34m()\u001b[0m\n\u001b[1;32m      1\u001b[0m \u001b[0mpredictions_nn\u001b[0m \u001b[0;34m=\u001b[0m \u001b[0mnn_model\u001b[0m\u001b[0;34m.\u001b[0m\u001b[0mpredict\u001b[0m\u001b[0;34m(\u001b[0m\u001b[0mX_nn_test\u001b[0m\u001b[0;34m)\u001b[0m\u001b[0;34m\u001b[0m\u001b[0;34m\u001b[0m\u001b[0m\n\u001b[0;32m----> 2\u001b[0;31m \u001b[0mprint\u001b[0m\u001b[0;34m(\u001b[0m\u001b[0;34m\"Accuracy of the Neural Network model: \"\u001b[0m\u001b[0;34m,\u001b[0m\u001b[0maccuracy_score\u001b[0m\u001b[0;34m(\u001b[0m\u001b[0my_nn_test\u001b[0m\u001b[0;34m,\u001b[0m\u001b[0mpredictions_nn\u001b[0m\u001b[0;34m)\u001b[0m\u001b[0;34m)\u001b[0m\u001b[0;34m\u001b[0m\u001b[0;34m\u001b[0m\u001b[0m\n\u001b[0m",
            "\u001b[0;32m/usr/local/lib/python3.7/dist-packages/sklearn/metrics/_classification.py\u001b[0m in \u001b[0;36maccuracy_score\u001b[0;34m(y_true, y_pred, normalize, sample_weight)\u001b[0m\n\u001b[1;32m    209\u001b[0m \u001b[0;34m\u001b[0m\u001b[0m\n\u001b[1;32m    210\u001b[0m     \u001b[0;31m# Compute accuracy for each possible representation\u001b[0m\u001b[0;34m\u001b[0m\u001b[0;34m\u001b[0m\u001b[0;34m\u001b[0m\u001b[0m\n\u001b[0;32m--> 211\u001b[0;31m     \u001b[0my_type\u001b[0m\u001b[0;34m,\u001b[0m \u001b[0my_true\u001b[0m\u001b[0;34m,\u001b[0m \u001b[0my_pred\u001b[0m \u001b[0;34m=\u001b[0m \u001b[0m_check_targets\u001b[0m\u001b[0;34m(\u001b[0m\u001b[0my_true\u001b[0m\u001b[0;34m,\u001b[0m \u001b[0my_pred\u001b[0m\u001b[0;34m)\u001b[0m\u001b[0;34m\u001b[0m\u001b[0;34m\u001b[0m\u001b[0m\n\u001b[0m\u001b[1;32m    212\u001b[0m     \u001b[0mcheck_consistent_length\u001b[0m\u001b[0;34m(\u001b[0m\u001b[0my_true\u001b[0m\u001b[0;34m,\u001b[0m \u001b[0my_pred\u001b[0m\u001b[0;34m,\u001b[0m \u001b[0msample_weight\u001b[0m\u001b[0;34m)\u001b[0m\u001b[0;34m\u001b[0m\u001b[0;34m\u001b[0m\u001b[0m\n\u001b[1;32m    213\u001b[0m     \u001b[0;32mif\u001b[0m \u001b[0my_type\u001b[0m\u001b[0;34m.\u001b[0m\u001b[0mstartswith\u001b[0m\u001b[0;34m(\u001b[0m\u001b[0;34m\"multilabel\"\u001b[0m\u001b[0;34m)\u001b[0m\u001b[0;34m:\u001b[0m\u001b[0;34m\u001b[0m\u001b[0;34m\u001b[0m\u001b[0m\n",
            "\u001b[0;32m/usr/local/lib/python3.7/dist-packages/sklearn/metrics/_classification.py\u001b[0m in \u001b[0;36m_check_targets\u001b[0;34m(y_true, y_pred)\u001b[0m\n\u001b[1;32m     93\u001b[0m         raise ValueError(\n\u001b[1;32m     94\u001b[0m             \"Classification metrics can't handle a mix of {0} and {1} targets\".format(\n\u001b[0;32m---> 95\u001b[0;31m                 \u001b[0mtype_true\u001b[0m\u001b[0;34m,\u001b[0m \u001b[0mtype_pred\u001b[0m\u001b[0;34m\u001b[0m\u001b[0;34m\u001b[0m\u001b[0m\n\u001b[0m\u001b[1;32m     96\u001b[0m             )\n\u001b[1;32m     97\u001b[0m         )\n",
            "\u001b[0;31mValueError\u001b[0m: Classification metrics can't handle a mix of multilabel-indicator and continuous-multioutput targets"
          ]
        }
      ],
      "source": [
        "predictions_nn = nn_model.predict(X_nn_test)\n",
        "print(\"Accuracy of the Neural Network model: \",accuracy_score(y_nn_test,predictions_nn))"
      ]
    },
    {
      "cell_type": "code",
      "execution_count": null,
      "metadata": {
        "id": "faBWV4C5m85_"
      },
      "outputs": [],
      "source": []
    }
  ],
  "metadata": {
    "colab": {
      "name": "Cool_Cats_price_prediction.ipynb",
      "provenance": []
    },
    "interpreter": {
      "hash": "b0fa6594d8f4cbf19f97940f81e996739fb7646882a419484c72d19e05852a7e"
    },
    "kernelspec": {
      "display_name": "Python 3.9.7 64-bit",
      "language": "python",
      "name": "python3"
    },
    "language_info": {
      "codemirror_mode": {
        "name": "ipython",
        "version": 3
      },
      "file_extension": ".py",
      "mimetype": "text/x-python",
      "name": "python",
      "nbconvert_exporter": "python",
      "pygments_lexer": "ipython3",
      "version": "3.8.8"
    },
    "orig_nbformat": 4
  },
  "nbformat": 4,
  "nbformat_minor": 0
}
