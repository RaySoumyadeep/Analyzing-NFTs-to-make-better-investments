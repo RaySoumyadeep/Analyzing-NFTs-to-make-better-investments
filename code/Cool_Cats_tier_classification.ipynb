{
 "cells": [
  {
   "cell_type": "markdown",
   "metadata": {},
   "source": [
    "Get all needed libraries for EDA, Modeling, Hyperparameter tuning, and final calculations."
   ]
  },
  {
   "cell_type": "code",
   "execution_count": 446,
   "metadata": {},
   "outputs": [],
   "source": [
    "import time\n",
    "import pandas as pd\n",
    "import numpy as np\n",
    "import seaborn as sns\n",
    "import matplotlib.pyplot as plt\n",
    "import seaborn as sns\n",
    "sns.set()\n",
    "#%matplotlib inline\n",
    "\n",
    "# Mute the setting wtih a copy warnings\n",
    "pd.options.mode.chained_assignment = None\n",
    "\n",
    "#import plotly.express as px\n",
    "import xgboost as xgb\n",
    "from sklearn.preprocessing import StandardScaler, MinMaxScaler, LabelEncoder, OneHotEncoder\n",
    "from sklearn.preprocessing import MultiLabelBinarizer\n",
    "\n",
    "from sklearn.naive_bayes import GaussianNB\n",
    "\n",
    "from sklearn.tree import DecisionTreeClassifier\n",
    "from sklearn.ensemble import RandomForestClassifier\n",
    "\n",
    "from sklearn.model_selection import train_test_split\n",
    "from sklearn.model_selection import GridSearchCV\n",
    "from sklearn.model_selection import KFold, StratifiedKFold, cross_val_score\n",
    "\n",
    "from sklearn import linear_model\n",
    "from sklearn.linear_model import LinearRegression\n",
    "from sklearn.linear_model import Ridge\n",
    "from sklearn.pipeline import make_pipeline\n",
    "\n",
    "from sklearn.metrics import mean_squared_error as mse\n",
    "from sklearn.metrics import r2_score, plot_roc_curve, roc_auc_score, accuracy_score\n",
    "from sklearn.metrics import classification_report, confusion_matrix\n",
    "\n",
    "from sklearn.utils.validation import column_or_1d\n",
    "\n",
    "import keras\n",
    "import keras.utils\n",
    "import tensorflow as tf\n",
    "tf.config.run_functions_eagerly(True)\n",
    "from keras import backend as K\n",
    "from keras.models import Sequential\n",
    "from keras.layers import Activation\n",
    "from keras.layers.core import Dense\n",
    "from keras.optimizers import adam_v2\n",
    "from keras.callbacks import History\n",
    "from keras.wrappers.scikit_learn import KerasClassifier\n",
    "from keras.metrics import categorical_crossentropy"
   ]
  },
  {
   "cell_type": "markdown",
   "metadata": {},
   "source": [
    "Read in the data, creating a Pandas DataFrame object."
   ]
  },
  {
   "cell_type": "code",
   "execution_count": 307,
   "metadata": {},
   "outputs": [
    {
     "data": {
      "text/html": [
       "<div>\n",
       "<style scoped>\n",
       "    .dataframe tbody tr th:only-of-type {\n",
       "        vertical-align: middle;\n",
       "    }\n",
       "\n",
       "    .dataframe tbody tr th {\n",
       "        vertical-align: top;\n",
       "    }\n",
       "\n",
       "    .dataframe thead th {\n",
       "        text-align: right;\n",
       "    }\n",
       "</style>\n",
       "<table border=\"1\" class=\"dataframe\">\n",
       "  <thead>\n",
       "    <tr style=\"text-align: right;\">\n",
       "      <th></th>\n",
       "      <th>Unnamed: 0</th>\n",
       "      <th>cat_number</th>\n",
       "      <th>rank</th>\n",
       "      <th>face</th>\n",
       "      <th>face-score</th>\n",
       "      <th>shirt</th>\n",
       "      <th>shirt-score</th>\n",
       "      <th>body</th>\n",
       "      <th>tier</th>\n",
       "      <th>tier-score</th>\n",
       "      <th>hats</th>\n",
       "      <th>hats-score</th>\n",
       "      <th>total</th>\n",
       "    </tr>\n",
       "  </thead>\n",
       "  <tbody>\n",
       "    <tr>\n",
       "      <th>0</th>\n",
       "      <td>0</td>\n",
       "      <td>1</td>\n",
       "      <td>3474</td>\n",
       "      <td>sunglasses blue</td>\n",
       "      <td>3.2</td>\n",
       "      <td>winter red</td>\n",
       "      <td>38.9</td>\n",
       "      <td>blue cat skin</td>\n",
       "      <td>wild_1</td>\n",
       "      <td>1.9</td>\n",
       "      <td>hat black</td>\n",
       "      <td>61.4</td>\n",
       "      <td>105.4</td>\n",
       "    </tr>\n",
       "    <tr>\n",
       "      <th>1</th>\n",
       "      <td>2</td>\n",
       "      <td>3</td>\n",
       "      <td>9235</td>\n",
       "      <td>beard pirate</td>\n",
       "      <td>0.8</td>\n",
       "      <td>hoodie purple</td>\n",
       "      <td>6.4</td>\n",
       "      <td>blue cat skin</td>\n",
       "      <td>cool_2</td>\n",
       "      <td>5.0</td>\n",
       "      <td>mohawk purple</td>\n",
       "      <td>5.6</td>\n",
       "      <td>12.8</td>\n",
       "    </tr>\n",
       "    <tr>\n",
       "      <th>2</th>\n",
       "      <td>3</td>\n",
       "      <td>4</td>\n",
       "      <td>9413</td>\n",
       "      <td>unamused</td>\n",
       "      <td>2.0</td>\n",
       "      <td>buttondown tan</td>\n",
       "      <td>8.6</td>\n",
       "      <td>blue cat skin</td>\n",
       "      <td>cool_1</td>\n",
       "      <td>1.2</td>\n",
       "      <td>hat white</td>\n",
       "      <td>5.0</td>\n",
       "      <td>11.8</td>\n",
       "    </tr>\n",
       "    <tr>\n",
       "      <th>3</th>\n",
       "      <td>4</td>\n",
       "      <td>5</td>\n",
       "      <td>7088</td>\n",
       "      <td>sunglasses cool</td>\n",
       "      <td>10.0</td>\n",
       "      <td>shirt white</td>\n",
       "      <td>10.6</td>\n",
       "      <td>blue cat skin</td>\n",
       "      <td>cool_1</td>\n",
       "      <td>1.2</td>\n",
       "      <td>arrowhead</td>\n",
       "      <td>8.8</td>\n",
       "      <td>30.6</td>\n",
       "    </tr>\n",
       "    <tr>\n",
       "      <th>4</th>\n",
       "      <td>5</td>\n",
       "      <td>6</td>\n",
       "      <td>4700</td>\n",
       "      <td>sunglasses blue</td>\n",
       "      <td>3.2</td>\n",
       "      <td>work red</td>\n",
       "      <td>3.4</td>\n",
       "      <td>blue cat skin</td>\n",
       "      <td>cool_2</td>\n",
       "      <td>5.0</td>\n",
       "      <td>ninja red</td>\n",
       "      <td>74.0</td>\n",
       "      <td>80.5</td>\n",
       "    </tr>\n",
       "  </tbody>\n",
       "</table>\n",
       "</div>"
      ],
      "text/plain": [
       "   Unnamed: 0  cat_number  rank             face  face-score           shirt  \\\n",
       "0           0           1  3474  sunglasses blue         3.2      winter red   \n",
       "1           2           3  9235     beard pirate         0.8   hoodie purple   \n",
       "2           3           4  9413         unamused         2.0  buttondown tan   \n",
       "3           4           5  7088  sunglasses cool        10.0     shirt white   \n",
       "4           5           6  4700  sunglasses blue         3.2        work red   \n",
       "\n",
       "   shirt-score           body    tier  tier-score           hats  hats-score  \\\n",
       "0         38.9  blue cat skin  wild_1         1.9      hat black        61.4   \n",
       "1          6.4  blue cat skin  cool_2         5.0  mohawk purple         5.6   \n",
       "2          8.6  blue cat skin  cool_1         1.2      hat white         5.0   \n",
       "3         10.6  blue cat skin  cool_1         1.2      arrowhead         8.8   \n",
       "4          3.4  blue cat skin  cool_2         5.0      ninja red        74.0   \n",
       "\n",
       "   total  \n",
       "0  105.4  \n",
       "1   12.8  \n",
       "2   11.8  \n",
       "3   30.6  \n",
       "4   80.5  "
      ]
     },
     "execution_count": 307,
     "metadata": {},
     "output_type": "execute_result"
    }
   ],
   "source": [
    "file_df = pd.read_csv('/Users/soumyadeepray/Documents/Github/master-msis5223/Project/final_dataset.csv', sep=',')\n",
    "file_df.head()"
   ]
  },
  {
   "cell_type": "code",
   "execution_count": 308,
   "metadata": {},
   "outputs": [
    {
     "data": {
      "text/plain": [
       "(8779, 13)"
      ]
     },
     "execution_count": 308,
     "metadata": {},
     "output_type": "execute_result"
    }
   ],
   "source": [
    "file_df.shape"
   ]
  },
  {
   "cell_type": "markdown",
   "metadata": {},
   "source": [
    "Exploratory Data Analysis\n",
    "\n",
    "Look for duplicate entries, if we find any drop them and reset the index of our data frame"
   ]
  },
  {
   "cell_type": "code",
   "execution_count": 309,
   "metadata": {},
   "outputs": [
    {
     "data": {
      "text/plain": [
       "Index(['Unnamed: 0', 'cat_number', 'rank', 'face', 'face-score', 'shirt',\n",
       "       'shirt-score', 'body', 'tier', 'tier-score', 'hats', 'hats-score',\n",
       "       'total'],\n",
       "      dtype='object')"
      ]
     },
     "execution_count": 309,
     "metadata": {},
     "output_type": "execute_result"
    }
   ],
   "source": [
    "sum(file_df.duplicated())\n",
    "file_df.columns"
   ]
  },
  {
   "cell_type": "markdown",
   "metadata": {},
   "source": [
    "Removing unnecessary index column"
   ]
  },
  {
   "cell_type": "code",
   "execution_count": 329,
   "metadata": {},
   "outputs": [
    {
     "name": "stderr",
     "output_type": "stream",
     "text": [
      "/var/folders/jk/45pfmj415lb9l0__2lq4xmr40000gn/T/ipykernel_89322/1078296202.py:1: FutureWarning: In a future version of pandas all arguments of DataFrame.drop except for the argument 'labels' will be keyword-only\n",
      "  file_df = file_df.drop('Unnamed: 0', 1)\n"
     ]
    }
   ],
   "source": [
    "file_df = file_df.drop('Unnamed: 0', 1)\n",
    "file_df = file_df.reset_index(drop=True)"
   ]
  },
  {
   "cell_type": "markdown",
   "metadata": {},
   "source": [
    "Looking for null values and outliers"
   ]
  },
  {
   "cell_type": "code",
   "execution_count": 6,
   "metadata": {},
   "outputs": [
    {
     "data": {
      "text/plain": [
       "cat_number     0\n",
       "rank           0\n",
       "face           0\n",
       "face-score     0\n",
       "shirt          0\n",
       "shirt-score    0\n",
       "body           0\n",
       "tier           0\n",
       "tier-score     0\n",
       "hats           0\n",
       "hats-score     0\n",
       "total          0\n",
       "dtype: int64"
      ]
     },
     "execution_count": 6,
     "metadata": {},
     "output_type": "execute_result"
    }
   ],
   "source": [
    "file_df.isnull().sum()"
   ]
  },
  {
   "cell_type": "code",
   "execution_count": 7,
   "metadata": {},
   "outputs": [
    {
     "data": {
      "text/html": [
       "<div>\n",
       "<style scoped>\n",
       "    .dataframe tbody tr th:only-of-type {\n",
       "        vertical-align: middle;\n",
       "    }\n",
       "\n",
       "    .dataframe tbody tr th {\n",
       "        vertical-align: top;\n",
       "    }\n",
       "\n",
       "    .dataframe thead th {\n",
       "        text-align: right;\n",
       "    }\n",
       "</style>\n",
       "<table border=\"1\" class=\"dataframe\">\n",
       "  <thead>\n",
       "    <tr style=\"text-align: right;\">\n",
       "      <th></th>\n",
       "      <th>cat_number</th>\n",
       "      <th>rank</th>\n",
       "      <th>face-score</th>\n",
       "      <th>shirt-score</th>\n",
       "      <th>tier-score</th>\n",
       "      <th>hats-score</th>\n",
       "      <th>total</th>\n",
       "    </tr>\n",
       "  </thead>\n",
       "  <tbody>\n",
       "    <tr>\n",
       "      <th>count</th>\n",
       "      <td>8779.000000</td>\n",
       "      <td>8779.000000</td>\n",
       "      <td>8779.000000</td>\n",
       "      <td>8779.000000</td>\n",
       "      <td>8779.000000</td>\n",
       "      <td>8779.000000</td>\n",
       "      <td>8779.000000</td>\n",
       "    </tr>\n",
       "    <tr>\n",
       "      <th>mean</th>\n",
       "      <td>4827.984622</td>\n",
       "      <td>4961.916733</td>\n",
       "      <td>11.842567</td>\n",
       "      <td>43.018259</td>\n",
       "      <td>5.472901</td>\n",
       "      <td>46.951931</td>\n",
       "      <td>105.840369</td>\n",
       "    </tr>\n",
       "    <tr>\n",
       "      <th>std</th>\n",
       "      <td>2823.009065</td>\n",
       "      <td>2867.592038</td>\n",
       "      <td>110.854839</td>\n",
       "      <td>111.025395</td>\n",
       "      <td>7.849456</td>\n",
       "      <td>111.221122</td>\n",
       "      <td>324.952094</td>\n",
       "    </tr>\n",
       "    <tr>\n",
       "      <th>min</th>\n",
       "      <td>1.000000</td>\n",
       "      <td>1.000000</td>\n",
       "      <td>0.000000</td>\n",
       "      <td>0.000000</td>\n",
       "      <td>1.200000</td>\n",
       "      <td>3.000000</td>\n",
       "      <td>0.200000</td>\n",
       "    </tr>\n",
       "    <tr>\n",
       "      <th>25%</th>\n",
       "      <td>2376.500000</td>\n",
       "      <td>2473.500000</td>\n",
       "      <td>3.200000</td>\n",
       "      <td>4.400000</td>\n",
       "      <td>1.900000</td>\n",
       "      <td>5.600000</td>\n",
       "      <td>22.300000</td>\n",
       "    </tr>\n",
       "    <tr>\n",
       "      <th>50%</th>\n",
       "      <td>4843.000000</td>\n",
       "      <td>4972.000000</td>\n",
       "      <td>4.800000</td>\n",
       "      <td>34.900000</td>\n",
       "      <td>5.000000</td>\n",
       "      <td>44.500000</td>\n",
       "      <td>70.200000</td>\n",
       "    </tr>\n",
       "    <tr>\n",
       "      <th>75%</th>\n",
       "      <td>7202.500000</td>\n",
       "      <td>7437.500000</td>\n",
       "      <td>7.300000</td>\n",
       "      <td>68.400000</td>\n",
       "      <td>5.000000</td>\n",
       "      <td>71.500000</td>\n",
       "      <td>139.700000</td>\n",
       "    </tr>\n",
       "    <tr>\n",
       "      <th>max</th>\n",
       "      <td>9932.000000</td>\n",
       "      <td>9933.000000</td>\n",
       "      <td>3275.300000</td>\n",
       "      <td>3267.800000</td>\n",
       "      <td>62.400000</td>\n",
       "      <td>3273.400000</td>\n",
       "      <td>9878.800000</td>\n",
       "    </tr>\n",
       "  </tbody>\n",
       "</table>\n",
       "</div>"
      ],
      "text/plain": [
       "        cat_number         rank   face-score  shirt-score   tier-score  \\\n",
       "count  8779.000000  8779.000000  8779.000000  8779.000000  8779.000000   \n",
       "mean   4827.984622  4961.916733    11.842567    43.018259     5.472901   \n",
       "std    2823.009065  2867.592038   110.854839   111.025395     7.849456   \n",
       "min       1.000000     1.000000     0.000000     0.000000     1.200000   \n",
       "25%    2376.500000  2473.500000     3.200000     4.400000     1.900000   \n",
       "50%    4843.000000  4972.000000     4.800000    34.900000     5.000000   \n",
       "75%    7202.500000  7437.500000     7.300000    68.400000     5.000000   \n",
       "max    9932.000000  9933.000000  3275.300000  3267.800000    62.400000   \n",
       "\n",
       "        hats-score        total  \n",
       "count  8779.000000  8779.000000  \n",
       "mean     46.951931   105.840369  \n",
       "std     111.221122   324.952094  \n",
       "min       3.000000     0.200000  \n",
       "25%       5.600000    22.300000  \n",
       "50%      44.500000    70.200000  \n",
       "75%      71.500000   139.700000  \n",
       "max    3273.400000  9878.800000  "
      ]
     },
     "execution_count": 7,
     "metadata": {},
     "output_type": "execute_result"
    }
   ],
   "source": [
    "file_df.describe()"
   ]
  },
  {
   "cell_type": "markdown",
   "metadata": {},
   "source": [
    "We see that the variation of scores for the characteristics (face, shirt, tier, hats) is large. The top ranked cool cats have the largest scores. "
   ]
  },
  {
   "cell_type": "code",
   "execution_count": null,
   "metadata": {},
   "outputs": [
    {
     "name": "stdout",
     "output_type": "stream",
     "text": [
      "<class 'pandas.core.frame.DataFrame'>\n",
      "RangeIndex: 8779 entries, 0 to 8778\n",
      "Data columns (total 12 columns):\n",
      " #   Column       Non-Null Count  Dtype  \n",
      "---  ------       --------------  -----  \n",
      " 0   cat_number   8779 non-null   int64  \n",
      " 1   rank         8779 non-null   int64  \n",
      " 2   face         8779 non-null   object \n",
      " 3   face-score   8779 non-null   float64\n",
      " 4   shirt        8779 non-null   object \n",
      " 5   shirt-score  8779 non-null   float64\n",
      " 6   body         8779 non-null   object \n",
      " 7   tier         8779 non-null   object \n",
      " 8   tier-score   8779 non-null   float64\n",
      " 9   hats         8779 non-null   object \n",
      " 10  hats-score   8779 non-null   float64\n",
      " 11  total        8779 non-null   float64\n",
      "dtypes: float64(5), int64(2), object(5)\n",
      "memory usage: 823.2+ KB\n"
     ]
    }
   ],
   "source": [
    "file_df.info()"
   ]
  },
  {
   "cell_type": "markdown",
   "metadata": {},
   "source": [
    "Data Visualization\n",
    "\n",
    "We'll have a look at the distribution of the overall score here."
   ]
  },
  {
   "cell_type": "code",
   "execution_count": 310,
   "metadata": {},
   "outputs": [
    {
     "data": {
      "image/png": "[encoded data removed]",
      "text/plain": [
       "<Figure size 1440x720 with 4 Axes>"
      ]
     },
     "metadata": {},
     "output_type": "display_data"
    }
   ],
   "source": [
    "# Plotting the KDE Plot\n",
    "fig, ((ax1, ax2), (ax3, ax4)) = plt.subplots(2,2,figsize=(20,10))\n",
    "sns.kdeplot(file_df['face-score'], color='blue', shade=True, ax =ax1)\n",
    "ax1.set_title(\"Face Score Distribution\",font=\"Serif\")\n",
    "ax1.axvline(file_df['face-score'].mean(), color='r',linestyle=':', linewidth=2)\n",
    "ax1.annotate('mean', xy=(0,0.003), xytext=(1000, 0.0075), font='Serif',\n",
    "            arrowprops = dict(facecolor ='green',\n",
    "                               shrink = 0.05));                               \n",
    "\n",
    "sns.kdeplot(file_df['shirt-score'], color='yellow', shade=True, ax =ax2)\n",
    "ax2.set_title(\"Shirt Score Distribution\",font=\"Serif\")\n",
    "ax2.axvline(file_df['shirt-score'].mean(), color='r',linestyle=':', linewidth=2)\n",
    "ax2.annotate('mean', xy=(50,0.003), xytext=(1000, 0.006), font='Serif',\n",
    "            arrowprops = dict(facecolor ='green',\n",
    "                               shrink = 0.05));\n",
    "\n",
    "sns.kdeplot(file_df['tier-score'], color='red', shade=True, ax =ax3)\n",
    "ax3.set_title(\"Tier Score Distribution\",font=\"Serif\")\n",
    "ax3.axvline(file_df['tier-score'].mean(), color='r',linestyle=':', linewidth=2)\n",
    "ax3.annotate('mean', xy=(6,0.04), xytext=(20, 0.06), font='Serif',\n",
    "            arrowprops = dict(facecolor ='green',\n",
    "                               shrink = 0.05));\n",
    "\n",
    "sns.kdeplot(file_df['hats-score'], color='purple', shade=True, ax =ax4)\n",
    "ax4.set_title(\"Hats Score Distribution\",font=\"Serif\")\n",
    "ax4.axvline(file_df['hats-score'].mean(), color='r',linestyle=':', linewidth=2)\n",
    "ax4.annotate('mean', xy=(60,0.003), xytext=(1000, 0.0025), font='Serif',\n",
    "            arrowprops = dict(facecolor ='green',\n",
    "                               shrink = 0.05));\n",
    "# Setting the X and Y Label\n",
    "plt.xlabel('Total Score')\n",
    "plt.ylabel('Probability Density')\n",
    "plt.show()"
   ]
  },
  {
   "cell_type": "code",
   "execution_count": 311,
   "metadata": {},
   "outputs": [],
   "source": [
    "def get_top_n_categories(column, n):\n",
    "    score_dict ={}\n",
    "    score_column = column + '-score'\n",
    "    properties = pd.Series(file_df[column]).unique()\n",
    "    for property in properties:\n",
    "        score = file_df.loc[file_df[column]==property, score_column].unique()\n",
    "        score_dict[property] = score[0]\n",
    "    score_dict =sorted(score_dict.items(), key = lambda x: x[1], reverse=True)\n",
    "    return score_dict[:n]"
   ]
  },
  {
   "cell_type": "code",
   "execution_count": 312,
   "metadata": {},
   "outputs": [
    {
     "data": {
      "text/plain": [
       "[('exotic_2', 62.4),\n",
       " ('exotic_1', 16.0),\n",
       " ('classy_2', 9.4),\n",
       " ('classy_1', 6.2),\n",
       " ('cool_2', 5.0),\n",
       " ('wild_2', 4.2),\n",
       " ('wild_1', 1.9),\n",
       " ('cool_1', 1.2)]"
      ]
     },
     "execution_count": 312,
     "metadata": {},
     "output_type": "execute_result"
    }
   ],
   "source": [
    "get_top_n_categories('tier',20)"
   ]
  },
  {
   "cell_type": "code",
   "execution_count": 313,
   "metadata": {},
   "outputs": [
    {
     "data": {
      "image/png": "[encoded data removed]",
      "text/plain": [
       "<Figure size 1152x576 with 1 Axes>"
      ]
     },
     "metadata": {},
     "output_type": "display_data"
    }
   ],
   "source": [
    "top_face_properties =  get_top_n_categories('face',15)\n",
    "top_face_properties_df = pd.DataFrame(top_face_properties,columns=['property','score'])\n",
    "plt.figure(figsize=(16, 8))\n",
    "ax = sns.barplot(x='score', y='property', data=top_face_properties_df,facecolor=(0, 0, 0, 0),linewidth=3,edgecolor=sns.color_palette(\"ch:start=3, rot=.1\",20))\n",
    "plt.title(\"Top 15 face properties\",font='Serif')\n",
    "plt.xlabel(\"Score\", fontsize=14)\n",
    "plt.yticks(fontsize=13)\n",
    "plt.xticks(rotation=45, fontsize=13)\n",
    "plt.ylabel(\"\");\n",
    "plt.show()"
   ]
  },
  {
   "cell_type": "code",
   "execution_count": 196,
   "metadata": {},
   "outputs": [
    {
     "data": {
      "image/png": "[encoded data removed]",
      "text/plain": [
       "<Figure size 1152x576 with 1 Axes>"
      ]
     },
     "metadata": {},
     "output_type": "display_data"
    }
   ],
   "source": [
    "top_shirt_properties =  get_top_n_categories('shirt',15)\n",
    "top_shirt_properties_df = pd.DataFrame(top_shirt_properties,columns=['property','score'])\n",
    "plt.figure(figsize=(16, 8))\n",
    "ax = sns.barplot(x='score', y='property', data=top_shirt_properties_df,facecolor=(0, 0, 0, 0),linewidth=3,edgecolor=sns.color_palette(\"ch:start=2, rot=-.2\",20))\n",
    "plt.title(\"Top 15 shirt properties\",font='Serif')\n",
    "plt.xlabel(\"Score\", fontsize=14)\n",
    "plt.yticks(fontsize=13)\n",
    "plt.xticks(rotation=45, fontsize=13)\n",
    "plt.ylabel(\"\");\n",
    "plt.show()"
   ]
  },
  {
   "cell_type": "code",
   "execution_count": 207,
   "metadata": {},
   "outputs": [
    {
     "data": {
      "image/png": "[encoded data removed]",
      "text/plain": [
       "<Figure size 1152x576 with 1 Axes>"
      ]
     },
     "metadata": {},
     "output_type": "display_data"
    }
   ],
   "source": [
    "top_tier_properties =  get_top_n_categories('tier',15)\n",
    "top_tier_properties_df = pd.DataFrame(top_tier_properties,columns=['property','score'])\n",
    "plt.figure(figsize=(16, 8))\n",
    "ax = sns.barplot(x='score', y='property', data=top_tier_properties_df,facecolor=(0, 0, 0, 0),linewidth=3,edgecolor=sns.color_palette(\"ch:start=-1, rot=-.6\",20))\n",
    "plt.title(\"Top 15 tier properties\",font='Serif')\n",
    "plt.xlabel(\"Score\", fontsize=14)\n",
    "plt.yticks(fontsize=13)\n",
    "plt.xticks(rotation=45, fontsize=13)\n",
    "plt.ylabel(\"\");\n",
    "plt.show()"
   ]
  },
  {
   "cell_type": "code",
   "execution_count": 208,
   "metadata": {},
   "outputs": [
    {
     "data": {
      "image/png": "[encoded data removed]",
      "text/plain": [
       "<Figure size 1152x576 with 1 Axes>"
      ]
     },
     "metadata": {},
     "output_type": "display_data"
    }
   ],
   "source": [
    "top_hats_properties =  get_top_n_categories('hats',15)\n",
    "top_hats_properties_df = pd.DataFrame(top_hats_properties,columns=['property','score'])\n",
    "plt.figure(figsize=(16, 8))\n",
    "ax = sns.barplot(x='score', y='property', data=top_hats_properties_df,facecolor=(0, 0, 0, 0),linewidth=3,edgecolor=sns.color_palette(\"ch:start=-8, rot=-.9\",20))\n",
    "plt.title(\"Top 15 hats properties\",font='Serif')\n",
    "plt.xlabel(\"Score\", fontsize=14)\n",
    "plt.yticks(fontsize=13)\n",
    "plt.xticks(rotation=45, fontsize=13)\n",
    "plt.ylabel(\"\");\n",
    "plt.show()"
   ]
  },
  {
   "cell_type": "code",
   "execution_count": 314,
   "metadata": {},
   "outputs": [
    {
     "data": {
      "image/png": "[encoded data removed]",
      "text/plain": [
       "<Figure size 1080x1080 with 1 Axes>"
      ]
     },
     "metadata": {},
     "output_type": "display_data"
    }
   ],
   "source": [
    "sns.catplot(y = \"total\", x = \"tier\", data = file_df.sort_values(\"total\", ascending = False), kind=\"boxen\", height = 15, aspect = 1)\n",
    "plt.show()"
   ]
  },
  {
   "cell_type": "code",
   "execution_count": 315,
   "metadata": {},
   "outputs": [
    {
     "data": {
      "text/html": [
       "<div>\n",
       "<style scoped>\n",
       "    .dataframe tbody tr th:only-of-type {\n",
       "        vertical-align: middle;\n",
       "    }\n",
       "\n",
       "    .dataframe tbody tr th {\n",
       "        vertical-align: top;\n",
       "    }\n",
       "\n",
       "    .dataframe thead th {\n",
       "        text-align: right;\n",
       "    }\n",
       "</style>\n",
       "<table border=\"1\" class=\"dataframe\">\n",
       "  <thead>\n",
       "    <tr style=\"text-align: right;\">\n",
       "      <th></th>\n",
       "      <th>Unnamed: 0</th>\n",
       "      <th>cat_number</th>\n",
       "      <th>rank</th>\n",
       "      <th>face-score</th>\n",
       "      <th>shirt-score</th>\n",
       "      <th>tier-score</th>\n",
       "      <th>hats-score</th>\n",
       "      <th>total</th>\n",
       "    </tr>\n",
       "  </thead>\n",
       "  <tbody>\n",
       "    <tr>\n",
       "      <th>Unnamed: 0</th>\n",
       "      <td>1.000000</td>\n",
       "      <td>1.000000</td>\n",
       "      <td>0.000969</td>\n",
       "      <td>0.005541</td>\n",
       "      <td>0.000057</td>\n",
       "      <td>0.007517</td>\n",
       "      <td>-0.003524</td>\n",
       "      <td>0.000896</td>\n",
       "    </tr>\n",
       "    <tr>\n",
       "      <th>cat_number</th>\n",
       "      <td>1.000000</td>\n",
       "      <td>1.000000</td>\n",
       "      <td>0.000969</td>\n",
       "      <td>0.005541</td>\n",
       "      <td>0.000058</td>\n",
       "      <td>0.007517</td>\n",
       "      <td>-0.003524</td>\n",
       "      <td>0.000896</td>\n",
       "    </tr>\n",
       "    <tr>\n",
       "      <th>rank</th>\n",
       "      <td>0.000969</td>\n",
       "      <td>0.000969</td>\n",
       "      <td>1.000000</td>\n",
       "      <td>-0.107185</td>\n",
       "      <td>-0.338908</td>\n",
       "      <td>-0.460743</td>\n",
       "      <td>-0.351481</td>\n",
       "      <td>-0.286949</td>\n",
       "    </tr>\n",
       "    <tr>\n",
       "      <th>face-score</th>\n",
       "      <td>0.005541</td>\n",
       "      <td>0.005541</td>\n",
       "      <td>-0.107185</td>\n",
       "      <td>1.000000</td>\n",
       "      <td>0.888773</td>\n",
       "      <td>0.290245</td>\n",
       "      <td>0.889661</td>\n",
       "      <td>0.956586</td>\n",
       "    </tr>\n",
       "    <tr>\n",
       "      <th>shirt-score</th>\n",
       "      <td>0.000057</td>\n",
       "      <td>0.000058</td>\n",
       "      <td>-0.338908</td>\n",
       "      <td>0.888773</td>\n",
       "      <td>1.000000</td>\n",
       "      <td>0.392478</td>\n",
       "      <td>0.918997</td>\n",
       "      <td>0.969897</td>\n",
       "    </tr>\n",
       "    <tr>\n",
       "      <th>tier-score</th>\n",
       "      <td>0.007517</td>\n",
       "      <td>0.007517</td>\n",
       "      <td>-0.460743</td>\n",
       "      <td>0.290245</td>\n",
       "      <td>0.392478</td>\n",
       "      <td>1.000000</td>\n",
       "      <td>0.384382</td>\n",
       "      <td>0.389217</td>\n",
       "    </tr>\n",
       "    <tr>\n",
       "      <th>hats-score</th>\n",
       "      <td>-0.003524</td>\n",
       "      <td>-0.003524</td>\n",
       "      <td>-0.351481</td>\n",
       "      <td>0.889661</td>\n",
       "      <td>0.918997</td>\n",
       "      <td>0.384382</td>\n",
       "      <td>1.000000</td>\n",
       "      <td>0.970088</td>\n",
       "    </tr>\n",
       "    <tr>\n",
       "      <th>total</th>\n",
       "      <td>0.000896</td>\n",
       "      <td>0.000896</td>\n",
       "      <td>-0.286949</td>\n",
       "      <td>0.956586</td>\n",
       "      <td>0.969897</td>\n",
       "      <td>0.389217</td>\n",
       "      <td>0.970088</td>\n",
       "      <td>1.000000</td>\n",
       "    </tr>\n",
       "  </tbody>\n",
       "</table>\n",
       "</div>"
      ],
      "text/plain": [
       "             Unnamed: 0  cat_number      rank  face-score  shirt-score  \\\n",
       "Unnamed: 0     1.000000    1.000000  0.000969    0.005541     0.000057   \n",
       "cat_number     1.000000    1.000000  0.000969    0.005541     0.000058   \n",
       "rank           0.000969    0.000969  1.000000   -0.107185    -0.338908   \n",
       "face-score     0.005541    0.005541 -0.107185    1.000000     0.888773   \n",
       "shirt-score    0.000057    0.000058 -0.338908    0.888773     1.000000   \n",
       "tier-score     0.007517    0.007517 -0.460743    0.290245     0.392478   \n",
       "hats-score    -0.003524   -0.003524 -0.351481    0.889661     0.918997   \n",
       "total          0.000896    0.000896 -0.286949    0.956586     0.969897   \n",
       "\n",
       "             tier-score  hats-score     total  \n",
       "Unnamed: 0     0.007517   -0.003524  0.000896  \n",
       "cat_number     0.007517   -0.003524  0.000896  \n",
       "rank          -0.460743   -0.351481 -0.286949  \n",
       "face-score     0.290245    0.889661  0.956586  \n",
       "shirt-score    0.392478    0.918997  0.969897  \n",
       "tier-score     1.000000    0.384382  0.389217  \n",
       "hats-score     0.384382    1.000000  0.970088  \n",
       "total          0.389217    0.970088  1.000000  "
      ]
     },
     "execution_count": 315,
     "metadata": {},
     "output_type": "execute_result"
    }
   ],
   "source": [
    "file_df.corr()"
   ]
  },
  {
   "cell_type": "code",
   "execution_count": 316,
   "metadata": {},
   "outputs": [
    {
     "data": {
      "text/plain": [
       "<AxesSubplot:>"
      ]
     },
     "execution_count": 316,
     "metadata": {},
     "output_type": "execute_result"
    },
    {
     "data": {
      "image/png": "[encoded data removed]",
      "text/plain": [
       "<Figure size 2160x1440 with 2 Axes>"
      ]
     },
     "metadata": {},
     "output_type": "display_data"
    }
   ],
   "source": [
    "sns.set(font_scale=2.5)\n",
    "plt.figure(figsize=(30,20))\n",
    "sns.heatmap(file_df[['rank', 'face-score','shirt-score','tier-score','hats-score', 'total']].corr(), annot=True)\n"
   ]
  },
  {
   "cell_type": "markdown",
   "metadata": {},
   "source": [
    "Outlier Removal\n",
    "\n",
    "To remove outliers, we use the Inter Quartile Range (IQR) rule. Instead of 25% quartiles, we'll use a smaller rejection area (keeping from 0.01 - 99.99 percentile. Thats because the above the kde plots didn't seem to show too many score points that can be considered outliers."
   ]
  },
  {
   "cell_type": "markdown",
   "metadata": {},
   "source": [
    "Checking the outliers at 25%, 50%, 75%, 90%, 95%, 99% and 99.6%"
   ]
  },
  {
   "cell_type": "code",
   "execution_count": 317,
   "metadata": {},
   "outputs": [
    {
     "data": {
      "text/html": [
       "<div>\n",
       "<style scoped>\n",
       "    .dataframe tbody tr th:only-of-type {\n",
       "        vertical-align: middle;\n",
       "    }\n",
       "\n",
       "    .dataframe tbody tr th {\n",
       "        vertical-align: top;\n",
       "    }\n",
       "\n",
       "    .dataframe thead th {\n",
       "        text-align: right;\n",
       "    }\n",
       "</style>\n",
       "<table border=\"1\" class=\"dataframe\">\n",
       "  <thead>\n",
       "    <tr style=\"text-align: right;\">\n",
       "      <th></th>\n",
       "      <th>face-score</th>\n",
       "      <th>shirt-score</th>\n",
       "      <th>tier-score</th>\n",
       "      <th>hats-score</th>\n",
       "      <th>total</th>\n",
       "    </tr>\n",
       "  </thead>\n",
       "  <tbody>\n",
       "    <tr>\n",
       "      <th>count</th>\n",
       "      <td>8779.000000</td>\n",
       "      <td>8779.000000</td>\n",
       "      <td>8779.000000</td>\n",
       "      <td>8779.000000</td>\n",
       "      <td>8779.000000</td>\n",
       "    </tr>\n",
       "    <tr>\n",
       "      <th>mean</th>\n",
       "      <td>11.842567</td>\n",
       "      <td>43.018259</td>\n",
       "      <td>5.472901</td>\n",
       "      <td>46.951931</td>\n",
       "      <td>105.840369</td>\n",
       "    </tr>\n",
       "    <tr>\n",
       "      <th>std</th>\n",
       "      <td>110.854839</td>\n",
       "      <td>111.025395</td>\n",
       "      <td>7.849456</td>\n",
       "      <td>111.221122</td>\n",
       "      <td>324.952094</td>\n",
       "    </tr>\n",
       "    <tr>\n",
       "      <th>min</th>\n",
       "      <td>0.000000</td>\n",
       "      <td>0.000000</td>\n",
       "      <td>1.200000</td>\n",
       "      <td>3.000000</td>\n",
       "      <td>0.200000</td>\n",
       "    </tr>\n",
       "    <tr>\n",
       "      <th>25%</th>\n",
       "      <td>3.200000</td>\n",
       "      <td>4.400000</td>\n",
       "      <td>1.900000</td>\n",
       "      <td>5.600000</td>\n",
       "      <td>22.300000</td>\n",
       "    </tr>\n",
       "    <tr>\n",
       "      <th>50%</th>\n",
       "      <td>4.800000</td>\n",
       "      <td>34.900000</td>\n",
       "      <td>5.000000</td>\n",
       "      <td>44.500000</td>\n",
       "      <td>70.200000</td>\n",
       "    </tr>\n",
       "    <tr>\n",
       "      <th>75%</th>\n",
       "      <td>7.300000</td>\n",
       "      <td>68.400000</td>\n",
       "      <td>5.000000</td>\n",
       "      <td>71.500000</td>\n",
       "      <td>139.700000</td>\n",
       "    </tr>\n",
       "    <tr>\n",
       "      <th>90%</th>\n",
       "      <td>9.100000</td>\n",
       "      <td>110.700000</td>\n",
       "      <td>9.400000</td>\n",
       "      <td>107.200000</td>\n",
       "      <td>202.400000</td>\n",
       "    </tr>\n",
       "    <tr>\n",
       "      <th>95%</th>\n",
       "      <td>10.000000</td>\n",
       "      <td>118.300000</td>\n",
       "      <td>16.000000</td>\n",
       "      <td>118.800000</td>\n",
       "      <td>242.130000</td>\n",
       "    </tr>\n",
       "    <tr>\n",
       "      <th>98%</th>\n",
       "      <td>10.200000</td>\n",
       "      <td>129.800000</td>\n",
       "      <td>16.000000</td>\n",
       "      <td>148.500000</td>\n",
       "      <td>299.744000</td>\n",
       "    </tr>\n",
       "    <tr>\n",
       "      <th>99%</th>\n",
       "      <td>331.000000</td>\n",
       "      <td>139.500000</td>\n",
       "      <td>62.400000</td>\n",
       "      <td>152.100000</td>\n",
       "      <td>422.332000</td>\n",
       "    </tr>\n",
       "    <tr>\n",
       "      <th>99.6%</th>\n",
       "      <td>414.600000</td>\n",
       "      <td>166.900000</td>\n",
       "      <td>62.400000</td>\n",
       "      <td>172.500000</td>\n",
       "      <td>611.431200</td>\n",
       "    </tr>\n",
       "    <tr>\n",
       "      <th>max</th>\n",
       "      <td>3275.300000</td>\n",
       "      <td>3267.800000</td>\n",
       "      <td>62.400000</td>\n",
       "      <td>3273.400000</td>\n",
       "      <td>9878.800000</td>\n",
       "    </tr>\n",
       "  </tbody>\n",
       "</table>\n",
       "</div>"
      ],
      "text/plain": [
       "        face-score  shirt-score   tier-score   hats-score        total\n",
       "count  8779.000000  8779.000000  8779.000000  8779.000000  8779.000000\n",
       "mean     11.842567    43.018259     5.472901    46.951931   105.840369\n",
       "std     110.854839   111.025395     7.849456   111.221122   324.952094\n",
       "min       0.000000     0.000000     1.200000     3.000000     0.200000\n",
       "25%       3.200000     4.400000     1.900000     5.600000    22.300000\n",
       "50%       4.800000    34.900000     5.000000    44.500000    70.200000\n",
       "75%       7.300000    68.400000     5.000000    71.500000   139.700000\n",
       "90%       9.100000   110.700000     9.400000   107.200000   202.400000\n",
       "95%      10.000000   118.300000    16.000000   118.800000   242.130000\n",
       "98%      10.200000   129.800000    16.000000   148.500000   299.744000\n",
       "99%     331.000000   139.500000    62.400000   152.100000   422.332000\n",
       "99.6%   414.600000   166.900000    62.400000   172.500000   611.431200\n",
       "max    3275.300000  3267.800000    62.400000  3273.400000  9878.800000"
      ]
     },
     "execution_count": 317,
     "metadata": {},
     "output_type": "execute_result"
    }
   ],
   "source": [
    "numeric = file_df[['face-score','shirt-score', 'tier-score','hats-score','total']]\n",
    "numeric.describe(percentiles=[.25,.5,.75,.90,.95,.98,.99,.996])"
   ]
  },
  {
   "cell_type": "markdown",
   "metadata": {},
   "source": [
    "Capping the outliers for total score"
   ]
  },
  {
   "cell_type": "code",
   "execution_count": 318,
   "metadata": {},
   "outputs": [
    {
     "name": "stderr",
     "output_type": "stream",
     "text": [
      "/opt/homebrew/lib/python3.9/site-packages/seaborn/_decorators.py:36: FutureWarning: Pass the following variable as a keyword arg: x. From version 0.12, the only valid positional argument will be `data`, and passing other arguments without an explicit keyword will result in an error or misinterpretation.\n",
      "  warnings.warn(\n"
     ]
    },
    {
     "data": {
      "text/plain": [
       "<AxesSubplot:xlabel='total'>"
      ]
     },
     "execution_count": 318,
     "metadata": {},
     "output_type": "execute_result"
    },
    {
     "data": {
      "image/png": "[encoded data removed]",
      "text/plain": [
       "<Figure size 432x288 with 1 Axes>"
      ]
     },
     "metadata": {},
     "output_type": "display_data"
    }
   ],
   "source": [
    "q = file_df['total'].quantile(0.996)\n",
    "file_df['total'][file_df['total']>=q] = q\n",
    "sns.boxplot(file_df['total'])"
   ]
  },
  {
   "cell_type": "markdown",
   "metadata": {},
   "source": [
    "Capping the outliers for face-score"
   ]
  },
  {
   "cell_type": "code",
   "execution_count": 320,
   "metadata": {},
   "outputs": [
    {
     "name": "stderr",
     "output_type": "stream",
     "text": [
      "/opt/homebrew/lib/python3.9/site-packages/seaborn/_decorators.py:36: FutureWarning: Pass the following variable as a keyword arg: x. From version 0.12, the only valid positional argument will be `data`, and passing other arguments without an explicit keyword will result in an error or misinterpretation.\n",
      "  warnings.warn(\n"
     ]
    },
    {
     "data": {
      "text/plain": [
       "<AxesSubplot:xlabel='face-score'>"
      ]
     },
     "execution_count": 320,
     "metadata": {},
     "output_type": "execute_result"
    },
    {
     "data": {
      "image/png": "[encoded data removed]",
      "text/plain": [
       "<Figure size 432x288 with 1 Axes>"
      ]
     },
     "metadata": {},
     "output_type": "display_data"
    }
   ],
   "source": [
    "q = file_df['face-score'].quantile(0.996)\n",
    "file_df['face-score'][file_df['face-score']>=q] = q\n",
    "sns.boxplot(file_df['face-score'])"
   ]
  },
  {
   "cell_type": "markdown",
   "metadata": {},
   "source": [
    "Caping the outliers for shirt-score"
   ]
  },
  {
   "cell_type": "code",
   "execution_count": 321,
   "metadata": {},
   "outputs": [
    {
     "name": "stderr",
     "output_type": "stream",
     "text": [
      "/opt/homebrew/lib/python3.9/site-packages/seaborn/_decorators.py:36: FutureWarning: Pass the following variable as a keyword arg: x. From version 0.12, the only valid positional argument will be `data`, and passing other arguments without an explicit keyword will result in an error or misinterpretation.\n",
      "  warnings.warn(\n"
     ]
    },
    {
     "data": {
      "text/plain": [
       "<AxesSubplot:xlabel='shirt-score'>"
      ]
     },
     "execution_count": 321,
     "metadata": {},
     "output_type": "execute_result"
    },
    {
     "data": {
      "image/png": "[encoded data removed]",
      "text/plain": [
       "<Figure size 432x288 with 1 Axes>"
      ]
     },
     "metadata": {},
     "output_type": "display_data"
    }
   ],
   "source": [
    "q = file_df['shirt-score'].quantile(0.996)\n",
    "file_df['shirt-score'][file_df['shirt-score']>=q] = q\n",
    "sns.boxplot(file_df['shirt-score'])"
   ]
  },
  {
   "cell_type": "markdown",
   "metadata": {},
   "source": [
    "Caping the outliers for hats-score"
   ]
  },
  {
   "cell_type": "code",
   "execution_count": 323,
   "metadata": {},
   "outputs": [
    {
     "name": "stderr",
     "output_type": "stream",
     "text": [
      "/opt/homebrew/lib/python3.9/site-packages/seaborn/_decorators.py:36: FutureWarning: Pass the following variable as a keyword arg: x. From version 0.12, the only valid positional argument will be `data`, and passing other arguments without an explicit keyword will result in an error or misinterpretation.\n",
      "  warnings.warn(\n"
     ]
    },
    {
     "data": {
      "text/plain": [
       "<AxesSubplot:xlabel='hats-score'>"
      ]
     },
     "execution_count": 323,
     "metadata": {},
     "output_type": "execute_result"
    },
    {
     "data": {
      "image/png": "[encoded data removed]",
      "text/plain": [
       "<Figure size 432x288 with 1 Axes>"
      ]
     },
     "metadata": {},
     "output_type": "display_data"
    }
   ],
   "source": [
    "q = file_df['hats-score'].quantile(0.996)\n",
    "file_df['hats-score'][file_df['hats-score']>=q] = q\n",
    "sns.boxplot(file_df['hats-score'])"
   ]
  },
  {
   "cell_type": "code",
   "execution_count": 324,
   "metadata": {},
   "outputs": [
    {
     "data": {
      "text/html": [
       "<div>\n",
       "<style scoped>\n",
       "    .dataframe tbody tr th:only-of-type {\n",
       "        vertical-align: middle;\n",
       "    }\n",
       "\n",
       "    .dataframe tbody tr th {\n",
       "        vertical-align: top;\n",
       "    }\n",
       "\n",
       "    .dataframe thead th {\n",
       "        text-align: right;\n",
       "    }\n",
       "</style>\n",
       "<table border=\"1\" class=\"dataframe\">\n",
       "  <thead>\n",
       "    <tr style=\"text-align: right;\">\n",
       "      <th></th>\n",
       "      <th>Unnamed: 0</th>\n",
       "      <th>cat_number</th>\n",
       "      <th>rank</th>\n",
       "      <th>face-score</th>\n",
       "      <th>shirt-score</th>\n",
       "      <th>tier-score</th>\n",
       "      <th>hats-score</th>\n",
       "      <th>total</th>\n",
       "    </tr>\n",
       "  </thead>\n",
       "  <tbody>\n",
       "    <tr>\n",
       "      <th>count</th>\n",
       "      <td>8779.000000</td>\n",
       "      <td>8779.000000</td>\n",
       "      <td>8779.000000</td>\n",
       "      <td>8779.000000</td>\n",
       "      <td>8779.000000</td>\n",
       "      <td>8779.000000</td>\n",
       "      <td>8779.000000</td>\n",
       "      <td>8779.000000</td>\n",
       "    </tr>\n",
       "    <tr>\n",
       "      <th>mean</th>\n",
       "      <td>4827.082811</td>\n",
       "      <td>4827.984622</td>\n",
       "      <td>4961.916733</td>\n",
       "      <td>8.870669</td>\n",
       "      <td>39.839298</td>\n",
       "      <td>5.472901</td>\n",
       "      <td>43.772970</td>\n",
       "      <td>96.168131</td>\n",
       "    </tr>\n",
       "    <tr>\n",
       "      <th>std</th>\n",
       "      <td>2823.174424</td>\n",
       "      <td>2823.009065</td>\n",
       "      <td>2867.592038</td>\n",
       "      <td>38.657032</td>\n",
       "      <td>40.866216</td>\n",
       "      <td>7.849456</td>\n",
       "      <td>41.266833</td>\n",
       "      <td>87.460018</td>\n",
       "    </tr>\n",
       "    <tr>\n",
       "      <th>min</th>\n",
       "      <td>0.000000</td>\n",
       "      <td>1.000000</td>\n",
       "      <td>1.000000</td>\n",
       "      <td>0.000000</td>\n",
       "      <td>0.000000</td>\n",
       "      <td>1.200000</td>\n",
       "      <td>3.000000</td>\n",
       "      <td>0.200000</td>\n",
       "    </tr>\n",
       "    <tr>\n",
       "      <th>25%</th>\n",
       "      <td>2375.500000</td>\n",
       "      <td>2376.500000</td>\n",
       "      <td>2473.500000</td>\n",
       "      <td>3.200000</td>\n",
       "      <td>4.400000</td>\n",
       "      <td>1.900000</td>\n",
       "      <td>5.600000</td>\n",
       "      <td>22.300000</td>\n",
       "    </tr>\n",
       "    <tr>\n",
       "      <th>50%</th>\n",
       "      <td>4842.000000</td>\n",
       "      <td>4843.000000</td>\n",
       "      <td>4972.000000</td>\n",
       "      <td>4.800000</td>\n",
       "      <td>34.900000</td>\n",
       "      <td>5.000000</td>\n",
       "      <td>44.500000</td>\n",
       "      <td>70.200000</td>\n",
       "    </tr>\n",
       "    <tr>\n",
       "      <th>75%</th>\n",
       "      <td>7201.500000</td>\n",
       "      <td>7202.500000</td>\n",
       "      <td>7437.500000</td>\n",
       "      <td>7.300000</td>\n",
       "      <td>68.400000</td>\n",
       "      <td>5.000000</td>\n",
       "      <td>71.500000</td>\n",
       "      <td>139.700000</td>\n",
       "    </tr>\n",
       "    <tr>\n",
       "      <th>max</th>\n",
       "      <td>9933.000000</td>\n",
       "      <td>9932.000000</td>\n",
       "      <td>9933.000000</td>\n",
       "      <td>414.600000</td>\n",
       "      <td>166.900000</td>\n",
       "      <td>62.400000</td>\n",
       "      <td>172.500000</td>\n",
       "      <td>611.431200</td>\n",
       "    </tr>\n",
       "  </tbody>\n",
       "</table>\n",
       "</div>"
      ],
      "text/plain": [
       "        Unnamed: 0   cat_number         rank   face-score  shirt-score  \\\n",
       "count  8779.000000  8779.000000  8779.000000  8779.000000  8779.000000   \n",
       "mean   4827.082811  4827.984622  4961.916733     8.870669    39.839298   \n",
       "std    2823.174424  2823.009065  2867.592038    38.657032    40.866216   \n",
       "min       0.000000     1.000000     1.000000     0.000000     0.000000   \n",
       "25%    2375.500000  2376.500000  2473.500000     3.200000     4.400000   \n",
       "50%    4842.000000  4843.000000  4972.000000     4.800000    34.900000   \n",
       "75%    7201.500000  7202.500000  7437.500000     7.300000    68.400000   \n",
       "max    9933.000000  9932.000000  9933.000000   414.600000   166.900000   \n",
       "\n",
       "        tier-score   hats-score        total  \n",
       "count  8779.000000  8779.000000  8779.000000  \n",
       "mean      5.472901    43.772970    96.168131  \n",
       "std       7.849456    41.266833    87.460018  \n",
       "min       1.200000     3.000000     0.200000  \n",
       "25%       1.900000     5.600000    22.300000  \n",
       "50%       5.000000    44.500000    70.200000  \n",
       "75%       5.000000    71.500000   139.700000  \n",
       "max      62.400000   172.500000   611.431200  "
      ]
     },
     "execution_count": 324,
     "metadata": {},
     "output_type": "execute_result"
    }
   ],
   "source": [
    "file_df.describe()"
   ]
  },
  {
   "cell_type": "markdown",
   "metadata": {},
   "source": [
    "Creating a Baseline Model using Ridge and Linear Regression"
   ]
  },
  {
   "cell_type": "markdown",
   "metadata": {},
   "source": [
    "Splitting the data into parts.\n",
    "\n",
    "First part has all the numerical features and the second part will have the traget variable."
   ]
  },
  {
   "cell_type": "code",
   "execution_count": 114,
   "metadata": {},
   "outputs": [],
   "source": [
    "X = file_df[['rank','face-score','shirt-score','total','hats-score']] #.drop('total', axis = 1)\n",
    "y = file_df['tier-score']"
   ]
  },
  {
   "cell_type": "code",
   "execution_count": 325,
   "metadata": {},
   "outputs": [
    {
     "name": "stdout",
     "output_type": "stream",
     "text": [
      "--- Model: Ridge Regression ---\n",
      "MSE:  19.824752345233275\n",
      "R2 Score 0.6605432179583355\n",
      "--- Model: Linear Regression ---\n",
      "MSE:  19.67276943176207\n",
      "R2 Score 0.6631456025850799\n"
     ]
    }
   ],
   "source": [
    "def training(model, X_train, y_train, X_test, y_test, model_name):\n",
    "    \n",
    "    model = make_pipeline(StandardScaler(with_mean=False),model,)\n",
    "    model.fit(X_train, y_train)\n",
    "    y_pred = model.predict(X_test)\n",
    "    MSE = mse(y_test, y_pred)\n",
    "    R2_Score = r2_score(y_test, y_pred)\n",
    "    \n",
    "    print(\"--- Model:\", model_name,\"---\")\n",
    "    print(\"MSE: \",MSE)\n",
    "    print(\"R2 Score\", R2_Score)\n",
    "    \n",
    "ridge = Ridge(fit_intercept = True)\n",
    "lr = LinearRegression()\n",
    "m = [ridge,lr]\n",
    "mn = [\"Ridge Regression\",\"Linear Regression\"]\n",
    "\n",
    "X_train, X_test, y_train, y_test = train_test_split(X, y, test_size=0.33, random_state=42)\n",
    "\n",
    "for i in range(0,len(m)):\n",
    "    training(model=m[i], X_train=X_train, y_train=y_train, X_test=X_test,y_test=y_test, model_name=mn[i])"
   ]
  },
  {
   "cell_type": "markdown",
   "metadata": {},
   "source": [
    "Using Label Encoding on the target variable (tier) so that we can assign a number to each of the rarity feature."
   ]
  },
  {
   "cell_type": "code",
   "execution_count": 330,
   "metadata": {},
   "outputs": [
    {
     "data": {
      "text/html": [
       "<div>\n",
       "<style scoped>\n",
       "    .dataframe tbody tr th:only-of-type {\n",
       "        vertical-align: middle;\n",
       "    }\n",
       "\n",
       "    .dataframe tbody tr th {\n",
       "        vertical-align: top;\n",
       "    }\n",
       "\n",
       "    .dataframe thead th {\n",
       "        text-align: right;\n",
       "    }\n",
       "</style>\n",
       "<table border=\"1\" class=\"dataframe\">\n",
       "  <thead>\n",
       "    <tr style=\"text-align: right;\">\n",
       "      <th></th>\n",
       "      <th>cat_number</th>\n",
       "      <th>rank</th>\n",
       "      <th>face</th>\n",
       "      <th>face-score</th>\n",
       "      <th>shirt</th>\n",
       "      <th>shirt-score</th>\n",
       "      <th>body</th>\n",
       "      <th>tier</th>\n",
       "      <th>tier-score</th>\n",
       "      <th>hats</th>\n",
       "      <th>hats-score</th>\n",
       "      <th>total</th>\n",
       "      <th>tier_encoded</th>\n",
       "    </tr>\n",
       "  </thead>\n",
       "  <tbody>\n",
       "    <tr>\n",
       "      <th>0</th>\n",
       "      <td>1</td>\n",
       "      <td>3474</td>\n",
       "      <td>sunglasses blue</td>\n",
       "      <td>3.2</td>\n",
       "      <td>winter red</td>\n",
       "      <td>38.9</td>\n",
       "      <td>blue cat skin</td>\n",
       "      <td>wild_1</td>\n",
       "      <td>1.9</td>\n",
       "      <td>hat black</td>\n",
       "      <td>61.4</td>\n",
       "      <td>105.4</td>\n",
       "      <td>6</td>\n",
       "    </tr>\n",
       "    <tr>\n",
       "      <th>1</th>\n",
       "      <td>3</td>\n",
       "      <td>9235</td>\n",
       "      <td>beard pirate</td>\n",
       "      <td>0.8</td>\n",
       "      <td>hoodie purple</td>\n",
       "      <td>6.4</td>\n",
       "      <td>blue cat skin</td>\n",
       "      <td>cool_2</td>\n",
       "      <td>5.0</td>\n",
       "      <td>mohawk purple</td>\n",
       "      <td>5.6</td>\n",
       "      <td>12.8</td>\n",
       "      <td>3</td>\n",
       "    </tr>\n",
       "    <tr>\n",
       "      <th>2</th>\n",
       "      <td>4</td>\n",
       "      <td>9413</td>\n",
       "      <td>unamused</td>\n",
       "      <td>2.0</td>\n",
       "      <td>buttondown tan</td>\n",
       "      <td>8.6</td>\n",
       "      <td>blue cat skin</td>\n",
       "      <td>cool_1</td>\n",
       "      <td>1.2</td>\n",
       "      <td>hat white</td>\n",
       "      <td>5.0</td>\n",
       "      <td>11.8</td>\n",
       "      <td>2</td>\n",
       "    </tr>\n",
       "    <tr>\n",
       "      <th>3</th>\n",
       "      <td>5</td>\n",
       "      <td>7088</td>\n",
       "      <td>sunglasses cool</td>\n",
       "      <td>10.0</td>\n",
       "      <td>shirt white</td>\n",
       "      <td>10.6</td>\n",
       "      <td>blue cat skin</td>\n",
       "      <td>cool_1</td>\n",
       "      <td>1.2</td>\n",
       "      <td>arrowhead</td>\n",
       "      <td>8.8</td>\n",
       "      <td>30.6</td>\n",
       "      <td>2</td>\n",
       "    </tr>\n",
       "    <tr>\n",
       "      <th>4</th>\n",
       "      <td>6</td>\n",
       "      <td>4700</td>\n",
       "      <td>sunglasses blue</td>\n",
       "      <td>3.2</td>\n",
       "      <td>work red</td>\n",
       "      <td>3.4</td>\n",
       "      <td>blue cat skin</td>\n",
       "      <td>cool_2</td>\n",
       "      <td>5.0</td>\n",
       "      <td>ninja red</td>\n",
       "      <td>74.0</td>\n",
       "      <td>80.5</td>\n",
       "      <td>3</td>\n",
       "    </tr>\n",
       "    <tr>\n",
       "      <th>...</th>\n",
       "      <td>...</td>\n",
       "      <td>...</td>\n",
       "      <td>...</td>\n",
       "      <td>...</td>\n",
       "      <td>...</td>\n",
       "      <td>...</td>\n",
       "      <td>...</td>\n",
       "      <td>...</td>\n",
       "      <td>...</td>\n",
       "      <td>...</td>\n",
       "      <td>...</td>\n",
       "      <td>...</td>\n",
       "      <td>...</td>\n",
       "    </tr>\n",
       "    <tr>\n",
       "      <th>8774</th>\n",
       "      <td>9927</td>\n",
       "      <td>9530</td>\n",
       "      <td>sunglasses heart</td>\n",
       "      <td>3.0</td>\n",
       "      <td>sweater orange</td>\n",
       "      <td>8.0</td>\n",
       "      <td>blue cat skin</td>\n",
       "      <td>cool_2</td>\n",
       "      <td>5.0</td>\n",
       "      <td>hat white</td>\n",
       "      <td>5.0</td>\n",
       "      <td>11.0</td>\n",
       "      <td>3</td>\n",
       "    </tr>\n",
       "    <tr>\n",
       "      <th>8775</th>\n",
       "      <td>9928</td>\n",
       "      <td>3342</td>\n",
       "      <td>face face</td>\n",
       "      <td>9.1</td>\n",
       "      <td>tanktop sailor red</td>\n",
       "      <td>39.7</td>\n",
       "      <td>blue cat skin</td>\n",
       "      <td>wild_1</td>\n",
       "      <td>1.9</td>\n",
       "      <td>afro black</td>\n",
       "      <td>57.5</td>\n",
       "      <td>108.2</td>\n",
       "      <td>6</td>\n",
       "    </tr>\n",
       "    <tr>\n",
       "      <th>8776</th>\n",
       "      <td>9929</td>\n",
       "      <td>3455</td>\n",
       "      <td>sunglasses squad</td>\n",
       "      <td>9.1</td>\n",
       "      <td>tanktop sailor black</td>\n",
       "      <td>42.6</td>\n",
       "      <td>blue cat skin</td>\n",
       "      <td>wild_2</td>\n",
       "      <td>4.2</td>\n",
       "      <td>pirate red</td>\n",
       "      <td>49.8</td>\n",
       "      <td>105.7</td>\n",
       "      <td>7</td>\n",
       "    </tr>\n",
       "    <tr>\n",
       "      <th>8777</th>\n",
       "      <td>9931</td>\n",
       "      <td>4652</td>\n",
       "      <td>zombie</td>\n",
       "      <td>1.1</td>\n",
       "      <td>shirt yellow</td>\n",
       "      <td>4.4</td>\n",
       "      <td>blue cat skin</td>\n",
       "      <td>wild_1</td>\n",
       "      <td>1.9</td>\n",
       "      <td>wreath flowers</td>\n",
       "      <td>75.2</td>\n",
       "      <td>82.6</td>\n",
       "      <td>6</td>\n",
       "    </tr>\n",
       "    <tr>\n",
       "      <th>8778</th>\n",
       "      <td>9932</td>\n",
       "      <td>9621</td>\n",
       "      <td>mononoke</td>\n",
       "      <td>4.5</td>\n",
       "      <td>buttondown green</td>\n",
       "      <td>0.2</td>\n",
       "      <td>blue cat skin</td>\n",
       "      <td>cool_2</td>\n",
       "      <td>5.0</td>\n",
       "      <td>mohawk purple</td>\n",
       "      <td>5.6</td>\n",
       "      <td>10.3</td>\n",
       "      <td>3</td>\n",
       "    </tr>\n",
       "  </tbody>\n",
       "</table>\n",
       "<p>8779 rows × 13 columns</p>\n",
       "</div>"
      ],
      "text/plain": [
       "      cat_number  rank              face  face-score                 shirt  \\\n",
       "0              1  3474   sunglasses blue         3.2            winter red   \n",
       "1              3  9235      beard pirate         0.8         hoodie purple   \n",
       "2              4  9413          unamused         2.0        buttondown tan   \n",
       "3              5  7088   sunglasses cool        10.0           shirt white   \n",
       "4              6  4700   sunglasses blue         3.2              work red   \n",
       "...          ...   ...               ...         ...                   ...   \n",
       "8774        9927  9530  sunglasses heart         3.0        sweater orange   \n",
       "8775        9928  3342         face face         9.1    tanktop sailor red   \n",
       "8776        9929  3455  sunglasses squad         9.1  tanktop sailor black   \n",
       "8777        9931  4652            zombie         1.1          shirt yellow   \n",
       "8778        9932  9621          mononoke         4.5      buttondown green   \n",
       "\n",
       "      shirt-score           body    tier  tier-score            hats  \\\n",
       "0            38.9  blue cat skin  wild_1         1.9       hat black   \n",
       "1             6.4  blue cat skin  cool_2         5.0   mohawk purple   \n",
       "2             8.6  blue cat skin  cool_1         1.2       hat white   \n",
       "3            10.6  blue cat skin  cool_1         1.2       arrowhead   \n",
       "4             3.4  blue cat skin  cool_2         5.0       ninja red   \n",
       "...           ...            ...     ...         ...             ...   \n",
       "8774          8.0  blue cat skin  cool_2         5.0       hat white   \n",
       "8775         39.7  blue cat skin  wild_1         1.9      afro black   \n",
       "8776         42.6  blue cat skin  wild_2         4.2      pirate red   \n",
       "8777          4.4  blue cat skin  wild_1         1.9  wreath flowers   \n",
       "8778          0.2  blue cat skin  cool_2         5.0   mohawk purple   \n",
       "\n",
       "      hats-score  total  tier_encoded  \n",
       "0           61.4  105.4             6  \n",
       "1            5.6   12.8             3  \n",
       "2            5.0   11.8             2  \n",
       "3            8.8   30.6             2  \n",
       "4           74.0   80.5             3  \n",
       "...          ...    ...           ...  \n",
       "8774         5.0   11.0             3  \n",
       "8775        57.5  108.2             6  \n",
       "8776        49.8  105.7             7  \n",
       "8777        75.2   82.6             6  \n",
       "8778         5.6   10.3             3  \n",
       "\n",
       "[8779 rows x 13 columns]"
      ]
     },
     "execution_count": 330,
     "metadata": {},
     "output_type": "execute_result"
    }
   ],
   "source": [
    "le = LabelEncoder()\n",
    "file_df['tier_encoded'] = le.fit_transform(file_df['tier'])\n",
    "file_df"
   ]
  },
  {
   "cell_type": "code",
   "execution_count": 348,
   "metadata": {},
   "outputs": [
    {
     "data": {
      "text/plain": [
       "array(['classy_1', 'classy_2', 'cool_1', 'cool_2', 'exotic_1', 'exotic_2',\n",
       "       'wild_1', 'wild_2'], dtype=object)"
      ]
     },
     "execution_count": 348,
     "metadata": {},
     "output_type": "execute_result"
    }
   ],
   "source": [
    "le.classes_"
   ]
  },
  {
   "cell_type": "markdown",
   "metadata": {},
   "source": [
    "Knowing the labels of the tier classes"
   ]
  },
  {
   "cell_type": "code",
   "execution_count": 353,
   "metadata": {},
   "outputs": [
    {
     "data": {
      "text/plain": [
       "{'classy_1': 0,\n",
       " 'classy_2': 1,\n",
       " 'cool_1': 2,\n",
       " 'cool_2': 3,\n",
       " 'exotic_1': 4,\n",
       " 'exotic_2': 5,\n",
       " 'wild_1': 6,\n",
       " 'wild_2': 7}"
      ]
     },
     "execution_count": 353,
     "metadata": {},
     "output_type": "execute_result"
    }
   ],
   "source": [
    "le_name_mapping = dict(zip(le.classes_, le.transform(le.classes_)))\n",
    "print(le_name_mapping)"
   ]
  },
  {
   "cell_type": "code",
   "execution_count": 356,
   "metadata": {},
   "outputs": [
    {
     "data": {
      "text/plain": [
       "['classy_1',\n",
       " 'classy_2',\n",
       " 'cool_1',\n",
       " 'cool_2',\n",
       " 'exotic_1',\n",
       " 'exotic_2',\n",
       " 'wild_1',\n",
       " 'wild_2']"
      ]
     },
     "execution_count": 356,
     "metadata": {},
     "output_type": "execute_result"
    }
   ],
   "source": [
    "target_names = list(le_name_mapping.keys())\n",
    "target_names"
   ]
  },
  {
   "cell_type": "code",
   "execution_count": 345,
   "metadata": {},
   "outputs": [
    {
     "data": {
      "text/plain": [
       "cool_2      0.260508\n",
       "cool_1      0.198656\n",
       "wild_1      0.174963\n",
       "wild_2      0.123704\n",
       "classy_1    0.100809\n",
       "classy_2    0.076432\n",
       "exotic_1    0.049892\n",
       "exotic_2    0.015036\n",
       "Name: tier, dtype: float64"
      ]
     },
     "execution_count": 345,
     "metadata": {},
     "output_type": "execute_result"
    }
   ],
   "source": [
    "file_df['tier'].value_counts(normalize = True)"
   ]
  },
  {
   "cell_type": "code",
   "execution_count": 69,
   "metadata": {},
   "outputs": [
    {
     "name": "stdout",
     "output_type": "stream",
     "text": [
      "Exotic_2 consists of 1.5 % of the dataset\n",
      "Cool_2 consists of 26.05 % of the dataset\n"
     ]
    }
   ],
   "source": [
    "print('Exotic_2 consists of', round(file_df['tier'].value_counts()[7]/len(file_df) * 100,2), '% of the dataset')\n",
    "print('Cool_2 consists of', round(file_df['tier'].value_counts()[0]/len(file_df) * 100,2), '% of the dataset')"
   ]
  },
  {
   "cell_type": "markdown",
   "metadata": {},
   "source": [
    "Stratified KFold\n",
    "\n",
    "The stratified k fold cross-validation is an extension of the cross-validation technique used for classification problems. It maintains the same class ratio throughout the K folds as the ratio in the original dataset.\n",
    "\n",
    "Here we find that the various categories of tier has uneven distribution. So we will use the stratified k fold cross-validation technique so that the class ratio is preserved through the K folds."
   ]
  },
  {
   "cell_type": "code",
   "execution_count": 104,
   "metadata": {},
   "outputs": [
    {
     "name": "stdout",
     "output_type": "stream",
     "text": [
      "Train: [1580 1581 1589 ... 8776 8777 8778] Test: [   0    1    2 ... 2011 2029 2112]\n",
      "Train: [   0    1    2 ... 8776 8777 8778] Test: [1580 1581 1589 ... 3642 3645 3807]\n",
      "Train: [   0    1    2 ... 8776 8777 8778] Test: [3275 3276 3285 ... 5365 5368 5494]\n",
      "Train: [   0    1    2 ... 8776 8777 8778] Test: [5135 5140 5142 ... 7234 7254 7269]\n",
      "Train: [   0    1    2 ... 7234 7254 7269] Test: [6908 6956 6968 ... 8776 8777 8778]\n"
     ]
    }
   ],
   "source": [
    "fold_no = 1\n",
    "y_skf = file_df['tier_encoded']\n",
    "skf = StratifiedKFold(n_splits=5, random_state=None, shuffle=False)\n",
    "for train_index, test_index in skf.split(X, y_skf):\n",
    "    print(\"Train:\", train_index, \"Test:\", test_index)\n",
    "    original_Xtrain, original_Xtest = X.iloc[train_index], X.iloc[test_index]\n",
    "    original_ytrain, original_ytest = y_skf.iloc[train_index], y_skf.iloc[test_index]\n",
    "    fold_no += 1\n"
   ]
  },
  {
   "cell_type": "markdown",
   "metadata": {},
   "source": [
    "Turn each of the data splits into arrays"
   ]
  },
  {
   "cell_type": "code",
   "execution_count": 105,
   "metadata": {},
   "outputs": [],
   "source": [
    "original_Xtrain = original_Xtrain.values\n",
    "original_Xtest = original_Xtest.values\n",
    "original_ytrain = original_ytrain.values\n",
    "original_ytest = original_ytest.values"
   ]
  },
  {
   "cell_type": "markdown",
   "metadata": {},
   "source": [
    "Now we see if both the train and test label distribution are similarly distributed by compating the ratios"
   ]
  },
  {
   "cell_type": "code",
   "execution_count": 106,
   "metadata": {},
   "outputs": [
    {
     "name": "stdout",
     "output_type": "stream",
     "text": [
      "train_counts_label [ 708  537 1395 1830  350  106 1229  869]\n",
      "test_counts_label [177 134 349 457  88  26 307 217]\n",
      "\n",
      "Label Distributions: \n",
      "\n",
      "[0.10079727 0.07645216 0.19860478 0.26053531 0.04982916 0.01509112\n",
      " 0.17497153 0.12371868]\n",
      "[0.1008547  0.07635328 0.1988604  0.26039886 0.05014245 0.01481481\n",
      " 0.17492877 0.12364672]\n"
     ]
    }
   ],
   "source": [
    "train_unique_label, train_counts_label = np.unique(original_ytrain, return_counts=True)\n",
    "test_unique_label, test_counts_label = np.unique(original_ytest, return_counts=True)\n",
    "print(\"train_counts_label %s\" % train_counts_label)\n",
    "print(\"test_counts_label %s\" % test_counts_label)\n",
    "print('\\nLabel Distributions: \\n')\n",
    "print(train_counts_label/ len(original_ytrain))\n",
    "print(test_counts_label/ len(original_ytest))"
   ]
  },
  {
   "cell_type": "markdown",
   "metadata": {},
   "source": [
    "Using Naive Bayes classifier as a model for Stratified KFold. \n",
    "It is termed as ‘Naive’ because it assumes independence between every pair of features in the data.\n",
    "\n",
    "Build a custom function to pass our data splits to for training and testing."
   ]
  },
  {
   "cell_type": "code",
   "execution_count": 145,
   "metadata": {},
   "outputs": [],
   "source": [
    "gnb = GaussianNB()\n",
    "dct = DecisionTreeClassifier()\n",
    "rt = RandomForestClassifier()"
   ]
  },
  {
   "cell_type": "code",
   "execution_count": 163,
   "metadata": {},
   "outputs": [],
   "source": [
    "def train_model(train, test, fold_no):\n",
    "    X_features = ['face-score','shirt-score','total','hats-score']\n",
    "    y_target_var = ['tier_encoded']\n",
    "    y_target_var = column_or_1d(y_target_var, warn = True)\n",
    "    X_train = train[X_features]\n",
    "    y_train = train[y_target_var]\n",
    "    X_test = test[X_features]\n",
    "    y_test = test[y_target_var]\n",
    "    gnb.fit(X_train,y_train)\n",
    "    dct.fit(X_train,y_train)\n",
    "    rt.fit(X_train,y_train)\n",
    "    predictions_gnb = gnb.predict(X_test)\n",
    "    predictions_dct = dct.predict(X_test)\n",
    "    predictions_rt = rt.predict(X_test)\n",
    "    print('Fold',str(fold_no),'Accuracy:',accuracy_score(y_test,predictions_gnb), accuracy_score(y_test,predictions_dct), accuracy_score(y_test,predictions_rt))"
   ]
  },
  {
   "cell_type": "code",
   "execution_count": 164,
   "metadata": {},
   "outputs": [
    {
     "name": "stdout",
     "output_type": "stream",
     "text": [
      "--------------------------------------------------\n"
     ]
    },
    {
     "name": "stderr",
     "output_type": "stream",
     "text": [
      "/opt/homebrew/lib/python3.9/site-packages/sklearn/utils/validation.py:985: DataConversionWarning: A column-vector y was passed when a 1d array was expected. Please change the shape of y to (n_samples, ), for example using ravel().\n",
      "  y = column_or_1d(y, warn=True)\n",
      "/var/folders/jk/45pfmj415lb9l0__2lq4xmr40000gn/T/ipykernel_89322/2914992542.py:11: DataConversionWarning: A column-vector y was passed when a 1d array was expected. Please change the shape of y to (n_samples,), for example using ravel().\n",
      "  rt.fit(X_train,y_train)\n"
     ]
    },
    {
     "name": "stdout",
     "output_type": "stream",
     "text": [
      "Fold 1 Accuracy: 0.6110478359908884 0.8337129840546698 0.8621867881548975\n",
      "--------------------------------------------------\n"
     ]
    },
    {
     "name": "stderr",
     "output_type": "stream",
     "text": [
      "/opt/homebrew/lib/python3.9/site-packages/sklearn/utils/validation.py:985: DataConversionWarning: A column-vector y was passed when a 1d array was expected. Please change the shape of y to (n_samples, ), for example using ravel().\n",
      "  y = column_or_1d(y, warn=True)\n",
      "/var/folders/jk/45pfmj415lb9l0__2lq4xmr40000gn/T/ipykernel_89322/2914992542.py:11: DataConversionWarning: A column-vector y was passed when a 1d array was expected. Please change the shape of y to (n_samples,), for example using ravel().\n",
      "  rt.fit(X_train,y_train)\n"
     ]
    },
    {
     "name": "stdout",
     "output_type": "stream",
     "text": [
      "Fold 2 Accuracy: 0.5876993166287016 0.8354214123006833 0.8559225512528473\n",
      "--------------------------------------------------\n"
     ]
    },
    {
     "name": "stderr",
     "output_type": "stream",
     "text": [
      "/opt/homebrew/lib/python3.9/site-packages/sklearn/utils/validation.py:985: DataConversionWarning: A column-vector y was passed when a 1d array was expected. Please change the shape of y to (n_samples, ), for example using ravel().\n",
      "  y = column_or_1d(y, warn=True)\n",
      "/var/folders/jk/45pfmj415lb9l0__2lq4xmr40000gn/T/ipykernel_89322/2914992542.py:11: DataConversionWarning: A column-vector y was passed when a 1d array was expected. Please change the shape of y to (n_samples,), for example using ravel().\n",
      "  rt.fit(X_train,y_train)\n"
     ]
    },
    {
     "name": "stdout",
     "output_type": "stream",
     "text": [
      "Fold 3 Accuracy: 0.6070615034168565 0.8388382687927107 0.8599088838268792\n",
      "--------------------------------------------------\n"
     ]
    },
    {
     "name": "stderr",
     "output_type": "stream",
     "text": [
      "/opt/homebrew/lib/python3.9/site-packages/sklearn/utils/validation.py:985: DataConversionWarning: A column-vector y was passed when a 1d array was expected. Please change the shape of y to (n_samples, ), for example using ravel().\n",
      "  y = column_or_1d(y, warn=True)\n",
      "/var/folders/jk/45pfmj415lb9l0__2lq4xmr40000gn/T/ipykernel_89322/2914992542.py:11: DataConversionWarning: A column-vector y was passed when a 1d array was expected. Please change the shape of y to (n_samples,), for example using ravel().\n",
      "  rt.fit(X_train,y_train)\n"
     ]
    },
    {
     "name": "stdout",
     "output_type": "stream",
     "text": [
      "Fold 4 Accuracy: 0.6167425968109339 0.8337129840546698 0.8559225512528473\n",
      "--------------------------------------------------\n"
     ]
    },
    {
     "name": "stderr",
     "output_type": "stream",
     "text": [
      "/opt/homebrew/lib/python3.9/site-packages/sklearn/utils/validation.py:985: DataConversionWarning: A column-vector y was passed when a 1d array was expected. Please change the shape of y to (n_samples, ), for example using ravel().\n",
      "  y = column_or_1d(y, warn=True)\n",
      "/var/folders/jk/45pfmj415lb9l0__2lq4xmr40000gn/T/ipykernel_89322/2914992542.py:11: DataConversionWarning: A column-vector y was passed when a 1d array was expected. Please change the shape of y to (n_samples,), for example using ravel().\n",
      "  rt.fit(X_train,y_train)\n"
     ]
    },
    {
     "name": "stdout",
     "output_type": "stream",
     "text": [
      "Fold 5 Accuracy: 0.6005698005698006 0.81994301994302 0.8467236467236468\n"
     ]
    }
   ],
   "source": [
    "fold_no = 1\n",
    "for train_index, test_index in skf.split(file_df, y_skf):\n",
    "    train = file_df.loc[train_index,:]\n",
    "    test = file_df.loc[test_index,:]\n",
    "    print('-'*50)\n",
    "    #print(test)\n",
    "    train_model(train,test,fold_no)\n",
    "    fold_no += 1"
   ]
  },
  {
   "cell_type": "markdown",
   "metadata": {},
   "source": [
    "`Hyperparameter Tuning`\n",
    "\n",
    "Using `GridSearchCV` to find the best parameters"
   ]
  },
  {
   "cell_type": "markdown",
   "metadata": {},
   "source": [
    "GridSearchCV for Naive Bayes Algorithm"
   ]
  },
  {
   "cell_type": "code",
   "execution_count": 167,
   "metadata": {},
   "outputs": [],
   "source": [
    "param_grid_nb = {\n",
    "    'var_smoothing': np.logspace(0,-9, num=100)\n",
    "}"
   ]
  },
  {
   "cell_type": "markdown",
   "metadata": {},
   "source": [
    "`var_smoothing` is a stability calculation to widen (or smooth) the curve and therefore account for more samples that are further away from the distribution mean. In this case, np.logspace returns numbers spaced evenly on a log scale, starts from 0, ends at -9, and generates 100 samples."
   ]
  },
  {
   "cell_type": "markdown",
   "metadata": {},
   "source": [
    "Parameters-\n",
    "1. estimator is the machine learning model of interest\n",
    "2. param_grid is a dictionary with parameter names (string) as keys and lists of parameter settings to try as values\n",
    "3. cv is the cross validation generator \n",
    "4. verbose is the verbosity: the higher, the more messages"
   ]
  },
  {
   "cell_type": "code",
   "execution_count": 178,
   "metadata": {},
   "outputs": [
    {
     "name": "stdout",
     "output_type": "stream",
     "text": [
      "Fitting 10 folds for each of 100 candidates, totalling 1000 fits\n",
      "Single best score achieved across all params: \n",
      " 0.6187379687379687\n",
      "Dictionary of parameters (min_samples_split) used to generate that score \n",
      " {'var_smoothing': 4.328761281083062e-05}\n",
      "Best Estimator: \n",
      " GaussianNB(var_smoothing=4.328761281083062e-05)\n"
     ]
    }
   ],
   "source": [
    "gs_NB = GridSearchCV(estimator=gnb, param_grid=param_grid_nb, cv=10,verbose=1,scoring='accuracy')\n",
    "gs_NB.fit(original_Xtrain, original_ytrain)\n",
    "print('Single best score achieved across all params: \\n', gs_NB.best_score_)\n",
    "print('Dictionary of parameters (min_samples_split) used to generate that score \\n', gs_NB.best_params_)\n",
    "print('Best Estimator: \\n', gs_NB.best_estimator_)\n"
   ]
  },
  {
   "cell_type": "markdown",
   "metadata": {},
   "source": [
    "Using the best parameters obtained from GridSearchCV to trtain the Naive Bayes model."
   ]
  },
  {
   "cell_type": "code",
   "execution_count": 180,
   "metadata": {},
   "outputs": [
    {
     "data": {
      "text/plain": [
       "GaussianNB(var_smoothing=4.328761281083062e-05)"
      ]
     },
     "execution_count": 180,
     "metadata": {},
     "output_type": "execute_result"
    }
   ],
   "source": [
    "gnb_1 = GaussianNB(var_smoothing = 4.328761281083062e-05)\n",
    "gnb_1.fit(original_Xtrain, original_ytrain)"
   ]
  },
  {
   "cell_type": "markdown",
   "metadata": {},
   "source": [
    "Predictions and Accuracy score of the new Naive Bayes model"
   ]
  },
  {
   "cell_type": "code",
   "execution_count": 184,
   "metadata": {},
   "outputs": [
    {
     "name": "stdout",
     "output_type": "stream",
     "text": [
      "Accuracy for Random Forest on CV data:  0.5920227920227921\n"
     ]
    }
   ],
   "source": [
    "predictions_gnb_1 = gnb_1.predict(original_Xtest)\n",
    "print(\"Accuracy for GaussianNB on CV data: \",accuracy_score(original_ytest,predictions_gnb_1))"
   ]
  },
  {
   "cell_type": "code",
   "execution_count": 357,
   "metadata": {},
   "outputs": [
    {
     "name": "stdout",
     "output_type": "stream",
     "text": [
      "              precision    recall  f1-score   support\n",
      "\n",
      "    classy_1       0.46      0.73      0.56       177\n",
      "    classy_2       0.43      0.07      0.12       134\n",
      "      cool_1       0.67      1.00      0.80       349\n",
      "      cool_2       0.72      0.48      0.57       457\n",
      "    exotic_1       0.62      0.72      0.66        88\n",
      "    exotic_2       0.38      0.46      0.41        26\n",
      "      wild_1       0.53      0.62      0.57       307\n",
      "      wild_2       0.50      0.32      0.39       217\n",
      "\n",
      "    accuracy                           0.59      1755\n",
      "   macro avg       0.54      0.55      0.51      1755\n",
      "weighted avg       0.59      0.59      0.56      1755\n",
      "\n"
     ]
    }
   ],
   "source": [
    "print(classification_report(original_ytest,predictions_gnb_1, target_names=target_names))"
   ]
  },
  {
   "cell_type": "markdown",
   "metadata": {},
   "source": [
    "Using GridSearchCV on the Naive Bayes has not effectively increased the performance of the model. "
   ]
  },
  {
   "cell_type": "markdown",
   "metadata": {},
   "source": [
    "GridSearchCV for Decision Tree Classifier"
   ]
  },
  {
   "cell_type": "code",
   "execution_count": 226,
   "metadata": {},
   "outputs": [],
   "source": [
    "sample_split_range = list(range(2, 50))\n",
    "#param_grid = dict(min_samples_split=sample_split_range)\n",
    "#params = {'max_leaf_nodes': list(range(2, 100)), 'min_samples_split': [2, 3, 4]}\n",
    "param_grid = {'min_samples_split': sample_split_range,\n",
    "              #'max_features': ['auto', 'sqrt', 'log2'],\n",
    "              'ccp_alpha': [0.0, 0.1, .01, .001],\n",
    "              #'max_depth' : [5, 6, 7, 8, 9],\n",
    "              'criterion' :['gini', 'entropy']\n",
    "             }\n"
   ]
  },
  {
   "cell_type": "code",
   "execution_count": 227,
   "metadata": {},
   "outputs": [
    {
     "name": "stdout",
     "output_type": "stream",
     "text": [
      "Fitting 10 folds for each of 384 candidates, totalling 3840 fits\n"
     ]
    },
    {
     "data": {
      "text/plain": [
       "GridSearchCV(cv=10, estimator=DecisionTreeClassifier(random_state=42),\n",
       "             param_grid={'ccp_alpha': [0.0, 0.1, 0.01, 0.001],\n",
       "                         'criterion': ['gini', 'entropy'],\n",
       "                         'min_samples_split': [2, 3, 4, 5, 6, 7, 8, 9, 10, 11,\n",
       "                                               12, 13, 14, 15, 16, 17, 18, 19,\n",
       "                                               20, 21, 22, 23, 24, 25, 26, 27,\n",
       "                                               28, 29, 30, 31, ...]},\n",
       "             scoring='accuracy', verbose=1)"
      ]
     },
     "execution_count": 227,
     "metadata": {},
     "output_type": "execute_result"
    }
   ],
   "source": [
    "gs_dtc = GridSearchCV(DecisionTreeClassifier(random_state=42), param_grid, verbose=1, cv=10, scoring='accuracy')\n",
    "gs_dtc.fit(original_Xtrain, original_ytrain)"
   ]
  },
  {
   "cell_type": "code",
   "execution_count": 228,
   "metadata": {},
   "outputs": [
    {
     "name": "stdout",
     "output_type": "stream",
     "text": [
      "Single best score achieved across all params: \n",
      " 0.8277398856346224\n",
      "Dictionary of parameters (min_samples_split) used to generate that score \n",
      " {'ccp_alpha': 0.0, 'criterion': 'gini', 'min_samples_split': 2}\n",
      "Best Estimator: \n",
      " DecisionTreeClassifier(random_state=42)\n"
     ]
    }
   ],
   "source": [
    "print('Single best score achieved across all params: \\n', gs_dtc.best_score_)\n",
    "print('Dictionary of parameters (min_samples_split) used to generate that score \\n', gs_dtc.best_params_)\n",
    "print('Best Estimator: \\n', gs_dtc.best_estimator_)"
   ]
  },
  {
   "cell_type": "markdown",
   "metadata": {},
   "source": [
    "We obtain a much better result with Decision tree compared to Gaussian Naive Bayes.\n",
    "Also we find that the best estimator model is using only one hyperparameter that is `random_state`\n",
    "\n",
    "Next, we will use this hyper parameter to train the model."
   ]
  },
  {
   "cell_type": "code",
   "execution_count": 239,
   "metadata": {},
   "outputs": [
    {
     "data": {
      "text/plain": [
       "DecisionTreeClassifier(random_state=42)"
      ]
     },
     "execution_count": 239,
     "metadata": {},
     "output_type": "execute_result"
    }
   ],
   "source": [
    "dct_1 = DecisionTreeClassifier(random_state=42)\n",
    "dct_1.fit(original_Xtrain, original_ytrain)"
   ]
  },
  {
   "cell_type": "code",
   "execution_count": 240,
   "metadata": {},
   "outputs": [
    {
     "name": "stdout",
     "output_type": "stream",
     "text": [
      "Accuracy for Decision Tree Clssifier on CV data:  0.8233618233618234\n"
     ]
    }
   ],
   "source": [
    "predictions_dct_1 = dct_1.predict(original_Xtest)\n",
    "print(\"Accuracy for Decision Tree Clssifier on CV data: \",accuracy_score(original_ytest,predictions_dct_1))"
   ]
  },
  {
   "cell_type": "code",
   "execution_count": 358,
   "metadata": {},
   "outputs": [
    {
     "name": "stdout",
     "output_type": "stream",
     "text": [
      "              precision    recall  f1-score   support\n",
      "\n",
      "    classy_1       0.66      0.63      0.65       177\n",
      "    classy_2       0.60      0.64      0.62       134\n",
      "      cool_1       0.93      0.94      0.94       349\n",
      "      cool_2       0.90      0.88      0.89       457\n",
      "    exotic_1       0.80      0.75      0.77        88\n",
      "    exotic_2       0.96      0.96      0.96        26\n",
      "      wild_1       0.82      0.87      0.84       307\n",
      "      wild_2       0.76      0.73      0.75       217\n",
      "\n",
      "    accuracy                           0.82      1755\n",
      "   macro avg       0.80      0.80      0.80      1755\n",
      "weighted avg       0.82      0.82      0.82      1755\n",
      "\n"
     ]
    }
   ],
   "source": [
    "print(classification_report(original_ytest,predictions_dct_1, target_names=target_names))"
   ]
  },
  {
   "cell_type": "markdown",
   "metadata": {},
   "source": [
    "GridSearchCV for Random Forest Classifier"
   ]
  },
  {
   "cell_type": "code",
   "execution_count": 250,
   "metadata": {},
   "outputs": [],
   "source": [
    "param_grid = { \n",
    "    'n_estimators': [100, 500],\n",
    "    'max_features': ['auto', 'sqrt', 'log2'],\n",
    "    #'max_depth' : [4,5,6,7,8],\n",
    "    'criterion' :['gini', 'entropy']\n",
    "}"
   ]
  },
  {
   "cell_type": "code",
   "execution_count": 251,
   "metadata": {},
   "outputs": [
    {
     "data": {
      "text/plain": [
       "GridSearchCV(cv=5, estimator=RandomForestClassifier(random_state=42),\n",
       "             param_grid={'criterion': ['gini', 'entropy'],\n",
       "                         'max_features': ['auto', 'sqrt', 'log2'],\n",
       "                         'n_estimators': [100, 500]},\n",
       "             scoring='accuracy')"
      ]
     },
     "execution_count": 251,
     "metadata": {},
     "output_type": "execute_result"
    }
   ],
   "source": [
    "gs_rfc = GridSearchCV(estimator=RandomForestClassifier(random_state=42), param_grid=param_grid, cv= 5,  scoring='accuracy')\n",
    "gs_rfc.fit(original_Xtrain, original_ytrain)\n",
    "gs_rfc"
   ]
  },
  {
   "cell_type": "code",
   "execution_count": 252,
   "metadata": {},
   "outputs": [
    {
     "name": "stdout",
     "output_type": "stream",
     "text": [
      "Single best score achieved across all params: \n",
      " 0.8404045381269579\n",
      "Dictionary of parameters (min_samples_split) used to generate that score \n",
      " {'criterion': 'entropy', 'max_features': 'auto', 'n_estimators': 100}\n",
      "Best Estimator: \n",
      " RandomForestClassifier(criterion='entropy', random_state=42)\n"
     ]
    }
   ],
   "source": [
    "print('Single best score achieved across all params: \\n', gs_rfc.best_score_)\n",
    "print('Dictionary of parameters (min_samples_split) used to generate that score \\n', gs_rfc.best_params_)\n",
    "print('Best Estimator: \\n', gs_rfc.best_estimator_)"
   ]
  },
  {
   "cell_type": "markdown",
   "metadata": {},
   "source": [
    "The performance of Random Forest is slightly better than Decision Tree though it takes a considerable amount of computation time.\n",
    "\n",
    "Also hyperparameter tuning doesn’t always have a huge impact on performance."
   ]
  },
  {
   "cell_type": "code",
   "execution_count": 254,
   "metadata": {},
   "outputs": [
    {
     "data": {
      "text/plain": [
       "RandomForestClassifier(criterion='entropy', random_state=42)"
      ]
     },
     "execution_count": 254,
     "metadata": {},
     "output_type": "execute_result"
    }
   ],
   "source": [
    "rf_1 = RandomForestClassifier(criterion='entropy',random_state=42)\n",
    "rf_1.fit(original_Xtrain, original_ytrain)"
   ]
  },
  {
   "cell_type": "code",
   "execution_count": 256,
   "metadata": {},
   "outputs": [
    {
     "name": "stdout",
     "output_type": "stream",
     "text": [
      "Accuracy for Random Forest Clssifier on CV data:  0.8358974358974359\n"
     ]
    }
   ],
   "source": [
    "predictions_rf_1 = rf_1.predict(original_Xtest)\n",
    "print(\"Accuracy for Random Forest Clssifier on CV data: \",accuracy_score(original_ytest,predictions_rf_1))"
   ]
  },
  {
   "cell_type": "code",
   "execution_count": 359,
   "metadata": {},
   "outputs": [
    {
     "name": "stdout",
     "output_type": "stream",
     "text": [
      "              precision    recall  f1-score   support\n",
      "\n",
      "    classy_1       0.66      0.73      0.70       177\n",
      "    classy_2       0.68      0.58      0.63       134\n",
      "      cool_1       0.91      0.99      0.95       349\n",
      "      cool_2       0.92      0.88      0.90       457\n",
      "    exotic_1       0.84      0.82      0.83        88\n",
      "    exotic_2       0.93      1.00      0.96        26\n",
      "      wild_1       0.80      0.87      0.83       307\n",
      "      wild_2       0.81      0.69      0.74       217\n",
      "\n",
      "    accuracy                           0.84      1755\n",
      "   macro avg       0.82      0.82      0.82      1755\n",
      "weighted avg       0.84      0.84      0.83      1755\n",
      "\n"
     ]
    }
   ],
   "source": [
    "print(classification_report(original_ytest,predictions_rf_1, target_names=target_names))"
   ]
  },
  {
   "cell_type": "markdown",
   "metadata": {},
   "source": [
    "Multiclass ROC curve for multiple models"
   ]
  },
  {
   "cell_type": "code",
   "execution_count": null,
   "metadata": {},
   "outputs": [],
   "source": []
  },
  {
   "cell_type": "markdown",
   "metadata": {},
   "source": [
    "In this section, we implement a `Neural Network` in order to see whether it has a better performance than the previous implemented models."
   ]
  },
  {
   "cell_type": "code",
   "execution_count": 360,
   "metadata": {},
   "outputs": [],
   "source": [
    "X_nn = file_df[['rank','face-score','shirt-score','total','hats-score']] #.drop('total', axis = 1)\n",
    "y_nn = file_df['tier']"
   ]
  },
  {
   "cell_type": "markdown",
   "metadata": {},
   "source": [
    "Normalize features within range 0 (minimum) and 1 (maximum)"
   ]
  },
  {
   "cell_type": "code",
   "execution_count": 361,
   "metadata": {},
   "outputs": [],
   "source": [
    "scaler = MinMaxScaler(feature_range=(0, 1))\n",
    "X_nn = scaler.fit_transform(X)\n",
    "X_nn = pd.DataFrame(X_nn)"
   ]
  },
  {
   "cell_type": "markdown",
   "metadata": {},
   "source": [
    "Convert target Y to one hot encoded Y for Neural Network"
   ]
  },
  {
   "cell_type": "code",
   "execution_count": 362,
   "metadata": {},
   "outputs": [],
   "source": [
    "encoder = LabelEncoder()\n",
    "encoder.fit(y_nn)\n",
    "y_nn = encoder.transform(y_nn)\n",
    "y_nn = tf.keras.utils.to_categorical(y_nn)"
   ]
  },
  {
   "cell_type": "code",
   "execution_count": 363,
   "metadata": {},
   "outputs": [
    {
     "data": {
      "text/plain": [
       "array([[0., 0., 0., ..., 0., 1., 0.],\n",
       "       [0., 0., 0., ..., 0., 0., 0.],\n",
       "       [0., 0., 1., ..., 0., 0., 0.],\n",
       "       ...,\n",
       "       [0., 0., 0., ..., 0., 0., 1.],\n",
       "       [0., 0., 0., ..., 0., 1., 0.],\n",
       "       [0., 0., 0., ..., 0., 0., 0.]], dtype=float32)"
      ]
     },
     "execution_count": 363,
     "metadata": {},
     "output_type": "execute_result"
    }
   ],
   "source": [
    "y_nn"
   ]
  },
  {
   "cell_type": "code",
   "execution_count": 364,
   "metadata": {},
   "outputs": [],
   "source": [
    "X_nn_train, X_nn_test, y_nn_train, y_nn_test = train_test_split(X_nn.values, y_nn, test_size=0.2)"
   ]
  },
  {
   "cell_type": "code",
   "execution_count": 266,
   "metadata": {},
   "outputs": [
    {
     "data": {
      "text/plain": [
       "5"
      ]
     },
     "execution_count": 266,
     "metadata": {},
     "output_type": "execute_result"
    }
   ],
   "source": [
    "n_inputs = original_Xtrain.shape[1]\n",
    "n_inputs"
   ]
  },
  {
   "cell_type": "code",
   "execution_count": 365,
   "metadata": {},
   "outputs": [
    {
     "data": {
      "text/plain": [
       "((8779, 5), (8779, 8))"
      ]
     },
     "execution_count": 365,
     "metadata": {},
     "output_type": "execute_result"
    }
   ],
   "source": [
    "X_nn.shape, y_nn.shape"
   ]
  },
  {
   "cell_type": "code",
   "execution_count": 448,
   "metadata": {},
   "outputs": [],
   "source": [
    "epochs = 100\n",
    "learning_rate = 0.01\n",
    "optimizer = adam_v2.Adam(learning_rate=learning_rate, decay=learning_rate/epochs)    \n",
    "nn_model = Sequential([\n",
    "    Dense(n_inputs, input_shape=(n_inputs, ), activation='relu'),\n",
    "    Dense(32, activation='relu'),\n",
    "    Dense(32, activation='relu'),\n",
    "    Dense(y_nn.shape[1], activation='softmax')\n",
    "])"
   ]
  },
  {
   "cell_type": "code",
   "execution_count": 449,
   "metadata": {},
   "outputs": [
    {
     "name": "stdout",
     "output_type": "stream",
     "text": [
      "Model: \"sequential_13\"\n",
      "_________________________________________________________________\n",
      " Layer (type)                Output Shape              Param #   \n",
      "=================================================================\n",
      " dense_32 (Dense)            (None, 5)                 30        \n",
      "                                                                 \n",
      " dense_33 (Dense)            (None, 32)                192       \n",
      "                                                                 \n",
      " dense_34 (Dense)            (None, 32)                1056      \n",
      "                                                                 \n",
      " dense_35 (Dense)            (None, 8)                 264       \n",
      "                                                                 \n",
      "=================================================================\n",
      "Total params: 1,542\n",
      "Trainable params: 1,542\n",
      "Non-trainable params: 0\n",
      "_________________________________________________________________\n"
     ]
    }
   ],
   "source": [
    "nn_model.summary()"
   ]
  },
  {
   "cell_type": "code",
   "execution_count": 450,
   "metadata": {},
   "outputs": [],
   "source": [
    "nn_model.compile(optimizer = optimizer, loss =\"categorical_crossentropy\", metrics = [\"accuracy\"])"
   ]
  },
  {
   "cell_type": "markdown",
   "metadata": {},
   "source": [
    "For saving the details of the model like loss, accuracy, params , we use the keras.callbacks class."
   ]
  },
  {
   "cell_type": "code",
   "execution_count": 451,
   "metadata": {},
   "outputs": [],
   "source": [
    "hist = History()"
   ]
  },
  {
   "cell_type": "markdown",
   "metadata": {},
   "source": [
    "Initially we have divided the dataset into train and test sets.\n",
    "Now we will also allot part of the training set for validation.\n",
    "\n",
    "This will help to prevent the model from overfitting and to accurately evaluate our model."
   ]
  },
  {
   "cell_type": "code",
   "execution_count": 452,
   "metadata": {},
   "outputs": [
    {
     "name": "stderr",
     "output_type": "stream",
     "text": [
      "/opt/homebrew/lib/python3.9/site-packages/tensorflow/python/data/ops/structured_function.py:264: UserWarning: Even though the `tf.config.experimental_run_functions_eagerly` option is set, this option does not apply to tf.data functions. To force eager execution of tf.data functions, please use `tf.data.experimental.enable_debug_mode()`.\n",
      "  warnings.warn(\n"
     ]
    },
    {
     "name": "stdout",
     "output_type": "stream",
     "text": [
      "Epoch 1/100\n",
      "225/225 - 1s - loss: 1.0098 - accuracy: 0.5361 - val_loss: 0.8890 - val_accuracy: 0.6028 - 1s/epoch - 6ms/step\n",
      "Epoch 2/100\n",
      "225/225 - 1s - loss: 0.8202 - accuracy: 0.6129 - val_loss: 0.8176 - val_accuracy: 0.6100 - 882ms/epoch - 4ms/step\n",
      "Epoch 3/100\n",
      "225/225 - 1s - loss: 0.7919 - accuracy: 0.6248 - val_loss: 0.8044 - val_accuracy: 0.6214 - 900ms/epoch - 4ms/step\n",
      "Epoch 4/100\n",
      "225/225 - 1s - loss: 0.7929 - accuracy: 0.6278 - val_loss: 0.7674 - val_accuracy: 0.6505 - 902ms/epoch - 4ms/step\n",
      "Epoch 5/100\n",
      "225/225 - 1s - loss: 0.7836 - accuracy: 0.6235 - val_loss: 0.7638 - val_accuracy: 0.6249 - 878ms/epoch - 4ms/step\n",
      "Epoch 6/100\n",
      "225/225 - 1s - loss: 0.7686 - accuracy: 0.6315 - val_loss: 0.7459 - val_accuracy: 0.6498 - 970ms/epoch - 4ms/step\n",
      "Epoch 7/100\n",
      "225/225 - 1s - loss: 0.7599 - accuracy: 0.6312 - val_loss: 0.7611 - val_accuracy: 0.6278 - 825ms/epoch - 4ms/step\n",
      "Epoch 8/100\n",
      "225/225 - 1s - loss: 0.7456 - accuracy: 0.6379 - val_loss: 0.8118 - val_accuracy: 0.6228 - 899ms/epoch - 4ms/step\n",
      "Epoch 9/100\n",
      "225/225 - 1s - loss: 0.7467 - accuracy: 0.6379 - val_loss: 0.7364 - val_accuracy: 0.6363 - 821ms/epoch - 4ms/step\n",
      "Epoch 10/100\n",
      "225/225 - 1s - loss: 0.7362 - accuracy: 0.6472 - val_loss: 0.7108 - val_accuracy: 0.6698 - 792ms/epoch - 4ms/step\n",
      "Epoch 11/100\n",
      "225/225 - 1s - loss: 0.7292 - accuracy: 0.6461 - val_loss: 0.7422 - val_accuracy: 0.6541 - 794ms/epoch - 4ms/step\n",
      "Epoch 12/100\n",
      "225/225 - 1s - loss: 0.7258 - accuracy: 0.6488 - val_loss: 0.7395 - val_accuracy: 0.6320 - 790ms/epoch - 4ms/step\n",
      "Epoch 13/100\n",
      "225/225 - 1s - loss: 0.7143 - accuracy: 0.6531 - val_loss: 0.6921 - val_accuracy: 0.6584 - 791ms/epoch - 4ms/step\n",
      "Epoch 14/100\n",
      "225/225 - 1s - loss: 0.7037 - accuracy: 0.6622 - val_loss: 0.7018 - val_accuracy: 0.6626 - 788ms/epoch - 4ms/step\n",
      "Epoch 15/100\n",
      "225/225 - 1s - loss: 0.7006 - accuracy: 0.6540 - val_loss: 0.6899 - val_accuracy: 0.6762 - 788ms/epoch - 4ms/step\n",
      "Epoch 16/100\n",
      "225/225 - 1s - loss: 0.6949 - accuracy: 0.6600 - val_loss: 0.7207 - val_accuracy: 0.6577 - 812ms/epoch - 4ms/step\n",
      "Epoch 17/100\n",
      "225/225 - 1s - loss: 0.7021 - accuracy: 0.6543 - val_loss: 0.6916 - val_accuracy: 0.6612 - 827ms/epoch - 4ms/step\n",
      "Epoch 18/100\n",
      "225/225 - 1s - loss: 0.6888 - accuracy: 0.6661 - val_loss: 0.6909 - val_accuracy: 0.6648 - 797ms/epoch - 4ms/step\n",
      "Epoch 19/100\n",
      "225/225 - 1s - loss: 0.6900 - accuracy: 0.6620 - val_loss: 0.6840 - val_accuracy: 0.6690 - 853ms/epoch - 4ms/step\n",
      "Epoch 20/100\n",
      "225/225 - 1s - loss: 0.6798 - accuracy: 0.6711 - val_loss: 0.6785 - val_accuracy: 0.6783 - 804ms/epoch - 4ms/step\n",
      "Epoch 21/100\n",
      "225/225 - 1s - loss: 0.6726 - accuracy: 0.6791 - val_loss: 0.7176 - val_accuracy: 0.6584 - 793ms/epoch - 4ms/step\n",
      "Epoch 22/100\n",
      "225/225 - 1s - loss: 0.6811 - accuracy: 0.6776 - val_loss: 0.6762 - val_accuracy: 0.6776 - 815ms/epoch - 4ms/step\n",
      "Epoch 23/100\n",
      "225/225 - 1s - loss: 0.6719 - accuracy: 0.6853 - val_loss: 0.6941 - val_accuracy: 0.6577 - 806ms/epoch - 4ms/step\n",
      "Epoch 24/100\n",
      "225/225 - 1s - loss: 0.6634 - accuracy: 0.6860 - val_loss: 0.6866 - val_accuracy: 0.6683 - 798ms/epoch - 4ms/step\n",
      "Epoch 25/100\n",
      "225/225 - 1s - loss: 0.6683 - accuracy: 0.6814 - val_loss: 0.6628 - val_accuracy: 0.7039 - 795ms/epoch - 4ms/step\n",
      "Epoch 26/100\n",
      "225/225 - 1s - loss: 0.6533 - accuracy: 0.6917 - val_loss: 0.6489 - val_accuracy: 0.7053 - 859ms/epoch - 4ms/step\n",
      "Epoch 27/100\n",
      "225/225 - 1s - loss: 0.6504 - accuracy: 0.6951 - val_loss: 0.6774 - val_accuracy: 0.6790 - 788ms/epoch - 4ms/step\n",
      "Epoch 28/100\n",
      "225/225 - 1s - loss: 0.6496 - accuracy: 0.6965 - val_loss: 0.6440 - val_accuracy: 0.7011 - 801ms/epoch - 4ms/step\n",
      "Epoch 29/100\n",
      "225/225 - 1s - loss: 0.6363 - accuracy: 0.6995 - val_loss: 0.6388 - val_accuracy: 0.7117 - 785ms/epoch - 3ms/step\n",
      "Epoch 30/100\n",
      "225/225 - 1s - loss: 0.6324 - accuracy: 0.7010 - val_loss: 0.6264 - val_accuracy: 0.7039 - 795ms/epoch - 4ms/step\n",
      "Epoch 31/100\n",
      "225/225 - 1s - loss: 0.6231 - accuracy: 0.7140 - val_loss: 0.6634 - val_accuracy: 0.6797 - 797ms/epoch - 4ms/step\n",
      "Epoch 32/100\n",
      "225/225 - 1s - loss: 0.6294 - accuracy: 0.7074 - val_loss: 0.6085 - val_accuracy: 0.7210 - 812ms/epoch - 4ms/step\n",
      "Epoch 33/100\n",
      "225/225 - 1s - loss: 0.6238 - accuracy: 0.7088 - val_loss: 0.6242 - val_accuracy: 0.7046 - 893ms/epoch - 4ms/step\n",
      "Epoch 34/100\n",
      "225/225 - 1s - loss: 0.6160 - accuracy: 0.7191 - val_loss: 0.6331 - val_accuracy: 0.7167 - 806ms/epoch - 4ms/step\n",
      "Epoch 35/100\n",
      "225/225 - 1s - loss: 0.6075 - accuracy: 0.7261 - val_loss: 0.5957 - val_accuracy: 0.7388 - 789ms/epoch - 4ms/step\n",
      "Epoch 36/100\n",
      "225/225 - 1s - loss: 0.6154 - accuracy: 0.7150 - val_loss: 0.6637 - val_accuracy: 0.6918 - 820ms/epoch - 4ms/step\n",
      "Epoch 37/100\n",
      "225/225 - 1s - loss: 0.5965 - accuracy: 0.7259 - val_loss: 0.5883 - val_accuracy: 0.7409 - 839ms/epoch - 4ms/step\n",
      "Epoch 38/100\n",
      "225/225 - 1s - loss: 0.6060 - accuracy: 0.7213 - val_loss: 0.6004 - val_accuracy: 0.7317 - 806ms/epoch - 4ms/step\n",
      "Epoch 39/100\n",
      "225/225 - 1s - loss: 0.5874 - accuracy: 0.7286 - val_loss: 0.5810 - val_accuracy: 0.7473 - 815ms/epoch - 4ms/step\n",
      "Epoch 40/100\n",
      "225/225 - 1s - loss: 0.5859 - accuracy: 0.7330 - val_loss: 0.5868 - val_accuracy: 0.7473 - 806ms/epoch - 4ms/step\n",
      "Epoch 41/100\n",
      "225/225 - 1s - loss: 0.5715 - accuracy: 0.7426 - val_loss: 0.5786 - val_accuracy: 0.7295 - 893ms/epoch - 4ms/step\n",
      "Epoch 42/100\n",
      "225/225 - 1s - loss: 0.5768 - accuracy: 0.7360 - val_loss: 0.5545 - val_accuracy: 0.7623 - 862ms/epoch - 4ms/step\n",
      "Epoch 43/100\n",
      "225/225 - 1s - loss: 0.5457 - accuracy: 0.7545 - val_loss: 0.5306 - val_accuracy: 0.7687 - 863ms/epoch - 4ms/step\n",
      "Epoch 44/100\n",
      "225/225 - 1s - loss: 0.5421 - accuracy: 0.7563 - val_loss: 0.5610 - val_accuracy: 0.7352 - 870ms/epoch - 4ms/step\n",
      "Epoch 45/100\n",
      "225/225 - 1s - loss: 0.5276 - accuracy: 0.7714 - val_loss: 0.5456 - val_accuracy: 0.7452 - 988ms/epoch - 4ms/step\n",
      "Epoch 46/100\n",
      "225/225 - 1s - loss: 0.5205 - accuracy: 0.7727 - val_loss: 0.5276 - val_accuracy: 0.7786 - 965ms/epoch - 4ms/step\n",
      "Epoch 47/100\n",
      "225/225 - 1s - loss: 0.5220 - accuracy: 0.7665 - val_loss: 0.4963 - val_accuracy: 0.7943 - 873ms/epoch - 4ms/step\n",
      "Epoch 48/100\n",
      "225/225 - 1s - loss: 0.5186 - accuracy: 0.7713 - val_loss: 0.5532 - val_accuracy: 0.7765 - 904ms/epoch - 4ms/step\n",
      "Epoch 49/100\n",
      "225/225 - 1s - loss: 0.5070 - accuracy: 0.7777 - val_loss: 0.4877 - val_accuracy: 0.8021 - 792ms/epoch - 4ms/step\n",
      "Epoch 50/100\n",
      "225/225 - 1s - loss: 0.4842 - accuracy: 0.7887 - val_loss: 0.5064 - val_accuracy: 0.7865 - 815ms/epoch - 4ms/step\n",
      "Epoch 51/100\n",
      "225/225 - 1s - loss: 0.4744 - accuracy: 0.7942 - val_loss: 0.4901 - val_accuracy: 0.7893 - 877ms/epoch - 4ms/step\n",
      "Epoch 52/100\n",
      "225/225 - 1s - loss: 0.4675 - accuracy: 0.7990 - val_loss: 0.4821 - val_accuracy: 0.8021 - 855ms/epoch - 4ms/step\n",
      "Epoch 53/100\n",
      "225/225 - 1s - loss: 0.4586 - accuracy: 0.7999 - val_loss: 0.5058 - val_accuracy: 0.7722 - 918ms/epoch - 4ms/step\n",
      "Epoch 54/100\n",
      "225/225 - 1s - loss: 0.4542 - accuracy: 0.7983 - val_loss: 0.5854 - val_accuracy: 0.7267 - 934ms/epoch - 4ms/step\n",
      "Epoch 55/100\n",
      "225/225 - 1s - loss: 0.4609 - accuracy: 0.8006 - val_loss: 0.6477 - val_accuracy: 0.6954 - 1s/epoch - 5ms/step\n",
      "Epoch 56/100\n",
      "225/225 - 1s - loss: 0.4294 - accuracy: 0.8154 - val_loss: 0.4072 - val_accuracy: 0.8384 - 824ms/epoch - 4ms/step\n",
      "Epoch 57/100\n",
      "225/225 - 1s - loss: 0.4137 - accuracy: 0.8268 - val_loss: 0.3935 - val_accuracy: 0.8463 - 796ms/epoch - 4ms/step\n",
      "Epoch 58/100\n",
      "225/225 - 1s - loss: 0.4113 - accuracy: 0.8261 - val_loss: 0.3904 - val_accuracy: 0.8484 - 802ms/epoch - 4ms/step\n",
      "Epoch 59/100\n",
      "225/225 - 1s - loss: 0.3853 - accuracy: 0.8414 - val_loss: 0.3688 - val_accuracy: 0.8520 - 802ms/epoch - 4ms/step\n",
      "Epoch 60/100\n",
      "225/225 - 1s - loss: 0.3867 - accuracy: 0.8446 - val_loss: 0.3789 - val_accuracy: 0.8470 - 793ms/epoch - 4ms/step\n",
      "Epoch 61/100\n",
      "225/225 - 1s - loss: 0.3715 - accuracy: 0.8469 - val_loss: 0.3642 - val_accuracy: 0.8548 - 812ms/epoch - 4ms/step\n",
      "Epoch 62/100\n",
      "225/225 - 1s - loss: 0.3537 - accuracy: 0.8539 - val_loss: 0.3554 - val_accuracy: 0.8541 - 1s/epoch - 6ms/step\n",
      "Epoch 63/100\n",
      "225/225 - 1s - loss: 0.3473 - accuracy: 0.8580 - val_loss: 0.4239 - val_accuracy: 0.8043 - 835ms/epoch - 4ms/step\n",
      "Epoch 64/100\n",
      "225/225 - 1s - loss: 0.3395 - accuracy: 0.8631 - val_loss: 0.3274 - val_accuracy: 0.8726 - 813ms/epoch - 4ms/step\n",
      "Epoch 65/100\n",
      "225/225 - 1s - loss: 0.3275 - accuracy: 0.8713 - val_loss: 0.3943 - val_accuracy: 0.8349 - 815ms/epoch - 4ms/step\n",
      "Epoch 66/100\n",
      "225/225 - 1s - loss: 0.3015 - accuracy: 0.8832 - val_loss: 0.2980 - val_accuracy: 0.8911 - 982ms/epoch - 4ms/step\n",
      "Epoch 67/100\n",
      "225/225 - 1s - loss: 0.3066 - accuracy: 0.8797 - val_loss: 0.3210 - val_accuracy: 0.8683 - 796ms/epoch - 4ms/step\n",
      "Epoch 68/100\n",
      "225/225 - 1s - loss: 0.3187 - accuracy: 0.8674 - val_loss: 0.3059 - val_accuracy: 0.8669 - 857ms/epoch - 4ms/step\n",
      "Epoch 69/100\n",
      "225/225 - 1s - loss: 0.2793 - accuracy: 0.8889 - val_loss: 0.2692 - val_accuracy: 0.8918 - 875ms/epoch - 4ms/step\n",
      "Epoch 70/100\n",
      "225/225 - 1s - loss: 0.2662 - accuracy: 0.8941 - val_loss: 0.2608 - val_accuracy: 0.9039 - 940ms/epoch - 4ms/step\n",
      "Epoch 71/100\n",
      "225/225 - 1s - loss: 0.2707 - accuracy: 0.8904 - val_loss: 0.2472 - val_accuracy: 0.8890 - 852ms/epoch - 4ms/step\n",
      "Epoch 72/100\n",
      "225/225 - 1s - loss: 0.2568 - accuracy: 0.8950 - val_loss: 0.2569 - val_accuracy: 0.8932 - 807ms/epoch - 4ms/step\n",
      "Epoch 73/100\n",
      "225/225 - 1s - loss: 0.2538 - accuracy: 0.8957 - val_loss: 0.2874 - val_accuracy: 0.8897 - 808ms/epoch - 4ms/step\n",
      "Epoch 74/100\n",
      "225/225 - 1s - loss: 0.2529 - accuracy: 0.8953 - val_loss: 0.2282 - val_accuracy: 0.9068 - 797ms/epoch - 4ms/step\n",
      "Epoch 75/100\n",
      "225/225 - 1s - loss: 0.2407 - accuracy: 0.9048 - val_loss: 0.2287 - val_accuracy: 0.9089 - 794ms/epoch - 4ms/step\n",
      "Epoch 76/100\n",
      "225/225 - 1s - loss: 0.2328 - accuracy: 0.9044 - val_loss: 0.2390 - val_accuracy: 0.9110 - 791ms/epoch - 4ms/step\n",
      "Epoch 77/100\n",
      "225/225 - 1s - loss: 0.2640 - accuracy: 0.8916 - val_loss: 0.2210 - val_accuracy: 0.9110 - 817ms/epoch - 4ms/step\n",
      "Epoch 78/100\n",
      "225/225 - 1s - loss: 0.2216 - accuracy: 0.9103 - val_loss: 0.2126 - val_accuracy: 0.9060 - 791ms/epoch - 4ms/step\n",
      "Epoch 79/100\n",
      "225/225 - 1s - loss: 0.2522 - accuracy: 0.8932 - val_loss: 0.2389 - val_accuracy: 0.9174 - 790ms/epoch - 4ms/step\n",
      "Epoch 80/100\n",
      "225/225 - 1s - loss: 0.2132 - accuracy: 0.9133 - val_loss: 0.2403 - val_accuracy: 0.9103 - 793ms/epoch - 4ms/step\n",
      "Epoch 81/100\n",
      "225/225 - 1s - loss: 0.2112 - accuracy: 0.9172 - val_loss: 0.2320 - val_accuracy: 0.9089 - 798ms/epoch - 4ms/step\n",
      "Epoch 82/100\n",
      "225/225 - 1s - loss: 0.2130 - accuracy: 0.9142 - val_loss: 0.1932 - val_accuracy: 0.9288 - 795ms/epoch - 4ms/step\n",
      "Epoch 83/100\n",
      "225/225 - 1s - loss: 0.2255 - accuracy: 0.9103 - val_loss: 0.2438 - val_accuracy: 0.9174 - 788ms/epoch - 4ms/step\n",
      "Epoch 84/100\n",
      "225/225 - 1s - loss: 0.2184 - accuracy: 0.9106 - val_loss: 0.1895 - val_accuracy: 0.9203 - 793ms/epoch - 4ms/step\n",
      "Epoch 85/100\n",
      "225/225 - 1s - loss: 0.2041 - accuracy: 0.9178 - val_loss: 0.2127 - val_accuracy: 0.9153 - 792ms/epoch - 4ms/step\n",
      "Epoch 86/100\n",
      "225/225 - 1s - loss: 0.1909 - accuracy: 0.9224 - val_loss: 0.1780 - val_accuracy: 0.9310 - 788ms/epoch - 4ms/step\n",
      "Epoch 87/100\n",
      "225/225 - 1s - loss: 0.1949 - accuracy: 0.9226 - val_loss: 0.1751 - val_accuracy: 0.9224 - 790ms/epoch - 4ms/step\n",
      "Epoch 88/100\n",
      "225/225 - 1s - loss: 0.2031 - accuracy: 0.9179 - val_loss: 0.1918 - val_accuracy: 0.9331 - 795ms/epoch - 4ms/step\n",
      "Epoch 89/100\n",
      "225/225 - 1s - loss: 0.1826 - accuracy: 0.9267 - val_loss: 0.1791 - val_accuracy: 0.9203 - 798ms/epoch - 4ms/step\n",
      "Epoch 90/100\n",
      "225/225 - 1s - loss: 0.1802 - accuracy: 0.9306 - val_loss: 0.2153 - val_accuracy: 0.9146 - 806ms/epoch - 4ms/step\n",
      "Epoch 91/100\n",
      "225/225 - 1s - loss: 0.1804 - accuracy: 0.9268 - val_loss: 0.1920 - val_accuracy: 0.9153 - 792ms/epoch - 4ms/step\n",
      "Epoch 92/100\n",
      "225/225 - 1s - loss: 0.1927 - accuracy: 0.9219 - val_loss: 0.1953 - val_accuracy: 0.9352 - 793ms/epoch - 4ms/step\n",
      "Epoch 93/100\n",
      "225/225 - 1s - loss: 0.1848 - accuracy: 0.9254 - val_loss: 0.1966 - val_accuracy: 0.9146 - 799ms/epoch - 4ms/step\n",
      "Epoch 94/100\n",
      "225/225 - 1s - loss: 0.2200 - accuracy: 0.9135 - val_loss: 0.1599 - val_accuracy: 0.9509 - 797ms/epoch - 4ms/step\n",
      "Epoch 95/100\n",
      "225/225 - 1s - loss: 0.1695 - accuracy: 0.9311 - val_loss: 0.1556 - val_accuracy: 0.9466 - 793ms/epoch - 4ms/step\n",
      "Epoch 96/100\n",
      "225/225 - 1s - loss: 0.1660 - accuracy: 0.9354 - val_loss: 0.1826 - val_accuracy: 0.9345 - 797ms/epoch - 4ms/step\n",
      "Epoch 97/100\n",
      "225/225 - 1s - loss: 0.1918 - accuracy: 0.9261 - val_loss: 0.1660 - val_accuracy: 0.9402 - 807ms/epoch - 4ms/step\n",
      "Epoch 98/100\n",
      "225/225 - 1s - loss: 0.2187 - accuracy: 0.9090 - val_loss: 0.1910 - val_accuracy: 0.9388 - 801ms/epoch - 4ms/step\n",
      "Epoch 99/100\n",
      "225/225 - 1s - loss: 0.1617 - accuracy: 0.9377 - val_loss: 0.1514 - val_accuracy: 0.9502 - 832ms/epoch - 4ms/step\n",
      "Epoch 100/100\n",
      "225/225 - 1s - loss: 0.1567 - accuracy: 0.9365 - val_loss: 0.1486 - val_accuracy: 0.9530 - 801ms/epoch - 4ms/step\n"
     ]
    }
   ],
   "source": [
    "history = nn_model.fit(X_nn_train, y_nn_train, validation_split=0.2, batch_size=25, epochs=100, shuffle=True, verbose=2) "
   ]
  },
  {
   "cell_type": "code",
   "execution_count": 453,
   "metadata": {},
   "outputs": [],
   "source": [
    "loss_train = history.history['loss']\n",
    "loss_val = history.history['val_loss']"
   ]
  },
  {
   "cell_type": "markdown",
   "metadata": {},
   "source": [
    "Plotting the graph of the training loss vs. validation loss over the number of epochs."
   ]
  },
  {
   "cell_type": "code",
   "execution_count": 455,
   "metadata": {},
   "outputs": [
    {
     "data": {
      "image/png": "[encoded data removed]",
      "text/plain": [
       "<Figure size 432x288 with 1 Axes>"
      ]
     },
     "metadata": {},
     "output_type": "display_data"
    }
   ],
   "source": [
    "epochs = range(1,101)\n",
    "plt.plot(epochs, loss_train, 'r', label='Training loss')\n",
    "plt.plot(epochs, loss_val, 'b', label='validation loss')\n",
    "plt.title('Training and Validation loss')\n",
    "plt.xlabel('Epochs')\n",
    "plt.ylabel('Loss')\n",
    "plt.legend()\n",
    "plt.show()"
   ]
  },
  {
   "cell_type": "markdown",
   "metadata": {},
   "source": [
    "Plotting the graph of training accuracy vs. validation accuracy over the number of epochs"
   ]
  },
  {
   "cell_type": "code",
   "execution_count": 456,
   "metadata": {},
   "outputs": [
    {
     "data": {
      "image/png": "[encoded data removed]",
      "text/plain": [
       "<Figure size 432x288 with 1 Axes>"
      ]
     },
     "metadata": {},
     "output_type": "display_data"
    }
   ],
   "source": [
    "acc_train = history.history['accuracy']\n",
    "acc_val = history.history['val_accuracy']\n",
    "plt.plot(epochs, acc_train, 'g', label='Training accuracy')\n",
    "plt.plot(epochs, acc_val, 'b', label='validation accuracy')\n",
    "plt.title('Training and Validation accuracy')\n",
    "plt.xlabel('Epochs')\n",
    "plt.ylabel('Accuracy')\n",
    "plt.legend()\n",
    "plt.show()"
   ]
  },
  {
   "cell_type": "code",
   "execution_count": 457,
   "metadata": {},
   "outputs": [
    {
     "data": {
      "text/plain": [
       "array([[180,   3,   0,   0,   0,   0,   0,   2],\n",
       "       [  0, 127,   0,   0,   1,   0,   0,   0],\n",
       "       [  0,   0, 311,  27,   0,   0,   1,   0],\n",
       "       [  0,   0,  33, 425,   0,   0,   1,   0],\n",
       "       [  0,   0,   0,   0,  98,   5,   0,   0],\n",
       "       [  0,   0,   0,   0,   0,  30,   0,   0],\n",
       "       [  0,   0,   0,   6,   0,   0, 301,   3],\n",
       "       [  0,   0,   0,   0,   0,   0,   1, 201]])"
      ]
     },
     "execution_count": 457,
     "metadata": {},
     "output_type": "execute_result"
    }
   ],
   "source": [
    "predict_x=nn_model.predict(X_nn_test)\n",
    "y_pred_class=np.argmax(predict_x,axis=1)\n",
    "y_test_class = np.argmax(y_nn_test, axis=1)\n",
    "confusion_matrix(y_test_class, y_pred_class)"
   ]
  },
  {
   "cell_type": "code",
   "execution_count": 458,
   "metadata": {},
   "outputs": [
    {
     "name": "stdout",
     "output_type": "stream",
     "text": [
      "              precision    recall  f1-score   support\n",
      "\n",
      "    classy_1       1.00      0.97      0.99       185\n",
      "    classy_2       0.98      0.99      0.98       128\n",
      "      cool_1       0.90      0.92      0.91       339\n",
      "      cool_2       0.93      0.93      0.93       459\n",
      "    exotic_1       0.99      0.95      0.97       103\n",
      "    exotic_2       0.86      1.00      0.92        30\n",
      "      wild_1       0.99      0.97      0.98       310\n",
      "      wild_2       0.98      1.00      0.99       202\n",
      "\n",
      "    accuracy                           0.95      1756\n",
      "   macro avg       0.95      0.97      0.96      1756\n",
      "weighted avg       0.95      0.95      0.95      1756\n",
      "\n"
     ]
    }
   ],
   "source": [
    "cr = classification_report(y_test_class, y_pred_class, target_names= target_names)\n",
    "print(cr)"
   ]
  },
  {
   "cell_type": "code",
   "execution_count": null,
   "metadata": {},
   "outputs": [],
   "source": []
  }
 ],
 "metadata": {
  "interpreter": {
   "hash": "b0fa6594d8f4cbf19f97940f81e996739fb7646882a419484c72d19e05852a7e"
  },
  "kernelspec": {
   "display_name": "Python 3.9.7 64-bit",
   "language": "python",
   "name": "python3"
  },
  "language_info": {
   "codemirror_mode": {
    "name": "ipython",
    "version": 3
   },
   "file_extension": ".py",
   "mimetype": "text/x-python",
   "name": "python",
   "nbconvert_exporter": "python",
   "pygments_lexer": "ipython3",
   "version": "3.9.10"
  },
  "orig_nbformat": 4
 },
 "nbformat": 4,
 "nbformat_minor": 2
}
